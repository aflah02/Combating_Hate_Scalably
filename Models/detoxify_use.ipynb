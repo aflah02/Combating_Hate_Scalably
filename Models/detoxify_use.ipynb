{
 "cells": [
  {
   "cell_type": "code",
   "execution_count": 7,
   "metadata": {},
   "outputs": [
    {
     "name": "stderr",
     "output_type": "stream",
     "text": [
      "C:\\Users\\ASUS\\AppData\\Local\\Packages\\PythonSoftwareFoundation.Python.3.9_qbz5n2kfra8p0\\LocalCache\\local-packages\\Python39\\site-packages\\requests\\__init__.py:102: RequestsDependencyWarning: urllib3 (1.26.12) or chardet (5.0.0)/charset_normalizer (2.0.10) doesn't match a supported version!\n",
      "  warnings.warn(\"urllib3 ({}) or chardet ({})/charset_normalizer ({}) doesn't match a supported \"\n",
      "Downloading: \"https://github.com/unitaryai/detoxify/releases/download/v0.1-alpha/toxic_original-c1212f89.ckpt\" to C:\\Users\\ASUS/.cache\\torch\\hub\\checkpoints\\toxic_original-c1212f89.ckpt\n"
     ]
    },
    {
     "data": {
      "application/vnd.jupyter.widget-view+json": {
       "model_id": "a93d9beebc164a31a83178946c701ddf",
       "version_major": 2,
       "version_minor": 0
      },
      "text/plain": [
       "  0%|          | 0.00/418M [00:00<?, ?B/s]"
      ]
     },
     "metadata": {},
     "output_type": "display_data"
    },
    {
     "data": {
      "application/vnd.jupyter.widget-view+json": {
       "model_id": "55b0631e1158422dac78b138c66de1f6",
       "version_major": 2,
       "version_minor": 0
      },
      "text/plain": [
       "Downloading:   0%|          | 0.00/570 [00:00<?, ?B/s]"
      ]
     },
     "metadata": {},
     "output_type": "display_data"
    },
    {
     "data": {
      "application/vnd.jupyter.widget-view+json": {
       "model_id": "31d06f98e1b5406a8bac85e278ede740",
       "version_major": 2,
       "version_minor": 0
      },
      "text/plain": [
       "Downloading:   0%|          | 0.00/226k [00:00<?, ?B/s]"
      ]
     },
     "metadata": {},
     "output_type": "display_data"
    },
    {
     "data": {
      "application/vnd.jupyter.widget-view+json": {
       "model_id": "8a1c4cb5ca424f0d9dc0f841ad819f38",
       "version_major": 2,
       "version_minor": 0
      },
      "text/plain": [
       "Downloading:   0%|          | 0.00/28.0 [00:00<?, ?B/s]"
      ]
     },
     "metadata": {},
     "output_type": "display_data"
    }
   ],
   "source": [
    "from detoxify import Detoxify\n",
    "\n",
    "model = Detoxify('original')"
   ]
  },
  {
   "cell_type": "code",
   "execution_count": 2,
   "metadata": {},
   "outputs": [],
   "source": [
    "import pandas as pd\n",
    "\n",
    "df_val = pd.read_csv(r'../Data/PreprocessedData/val_preprocessed.csv')\n",
    "df_test = pd.read_csv(r'../Data/PreprocessedData/test_preprocessed.csv')"
   ]
  },
  {
   "cell_type": "code",
   "execution_count": 5,
   "metadata": {},
   "outputs": [],
   "source": [
    "df_val_texts = df_val['preprocessed_text'].tolist()"
   ]
  },
  {
   "cell_type": "code",
   "execution_count": 10,
   "metadata": {},
   "outputs": [
    {
     "name": "stdout",
     "output_type": "stream",
     "text": [
      "<user> <user> john kerry running mouth cared say ’ think single damn thing kerry accomplished besides run mouth trump ’ accomplishments exceed anything kerry could ever dream even becoming president {'toxicity': 0.37327784, 'severe_toxicity': 0.0027799136, 'obscene': 0.39053568, 'threat': 0.0009317824, 'insult': 0.026640918, 'identity_attack': 0.0017018215}\n",
      "<user> <user> <user> <user> <user> thats biggest question widdle away 2nd amendment left believe limited gun control im worried expected keep giving gun haters {'toxicity': 0.1214074, 'severe_toxicity': 0.00037702336, 'obscene': 0.0021358086, 'threat': 0.0021256388, 'insult': 0.0017152808, 'identity_attack': 0.0034575055}\n",
      "<user> tell cal said wanna know <emoji> <emoji> {'toxicity': 0.0012747591, 'severe_toxicity': 9.696652e-05, 'obscene': 0.00021674793, 'threat': 0.000109499706, 'insult': 0.0001836756, 'identity_attack': 0.00013132162}\n",
      "<user> nansbabh bitch stfu {'toxicity': 0.9957377, 'severe_toxicity': 0.22156127, 'obscene': 0.98367107, 'threat': 0.001916583, 'insult': 0.8979687, 'identity_attack': 0.010553741}\n",
      "<user> <user> awesome thank give humanity hope {'toxicity': 0.0007160102, 'severe_toxicity': 0.00011599309, 'obscene': 0.00017257666, 'threat': 0.00013198244, 'insult': 0.00016988374, 'identity_attack': 0.00014225378}\n",
      "family arent maga dont care theyre apart populace get distracted pop culture completely zero idea going world tell & amp even dont care im lion amongst lambs url {'toxicity': 0.30212402, 'severe_toxicity': 0.00034906517, 'obscene': 0.0047449586, 'threat': 0.0010272303, 'insult': 0.008851524, 'identity_attack': 0.002365055}\n",
      "<user> ever hear hillary beeching & amp moaning dang witch never get tired complaining {'toxicity': 0.21900605, 'severe_toxicity': 0.0002544367, 'obscene': 0.004424541, 'threat': 0.0006064053, 'insult': 0.0151633, 'identity_attack': 0.0012787709}\n",
      "<user> <user> <user> <user> antifa banned central commitee proper socialists pinko red {'toxicity': 0.2566644, 'severe_toxicity': 0.00044754232, 'obscene': 0.004562905, 'threat': 0.0011194427, 'insult': 0.006035871, 'identity_attack': 0.0066853105}\n",
      "<user> hope youre also spending energy focusing antifa endless attacks conservative citizens cops journalists destruction property strange phenominon journalists ignoring kidding like youre real journalistdocumentarian {'toxicity': 0.1439987, 'severe_toxicity': 0.00016802194, 'obscene': 0.001276167, 'threat': 0.0007647692, 'insult': 0.005570289, 'identity_attack': 0.001076795}\n",
      "<user> issues pc focus liberals conservatives kneeling fake patriotism republicans freaking abortion {'toxicity': 0.969908, 'severe_toxicity': 0.03177486, 'obscene': 0.65628564, 'threat': 0.010392815, 'insult': 0.27666593, 'identity_attack': 0.10931357}\n",
      "10 signs sales zombie <emoji> url marketing sales retail style url {'toxicity': 0.0015772481, 'severe_toxicity': 9.174019e-05, 'obscene': 0.00019751093, 'threat': 0.00011247891, 'insult': 0.00020567453, 'identity_attack': 0.00014526158}\n",
      "<user> <user> words im speaking behalf cant sit idly people make ass feel like people better {'toxicity': 0.8853028, 'severe_toxicity': 0.013220122, 'obscene': 0.7633026, 'threat': 0.0012269568, 'insult': 0.3729997, 'identity_attack': 0.007373622}\n",
      "<user> happening layne losing temper feel trailing behind {'toxicity': 0.051675007, 'severe_toxicity': 0.00016104443, 'obscene': 0.0023363638, 'threat': 0.0002841601, 'insult': 0.0011118699, 'identity_attack': 0.000327643}\n",
      "<user> <user> supporting right peacefully protest <user> supporting sensible gun control thank supporting america ford respect right nfl players protest cnnmoney url {'toxicity': 0.0021510383, 'severe_toxicity': 9.462111e-05, 'obscene': 0.00027539252, 'threat': 0.00010671117, 'insult': 0.00019390027, 'identity_attack': 0.0001617758}\n",
      "<user> ew also bitte {'toxicity': 0.37017474, 'severe_toxicity': 0.0008575839, 'obscene': 0.054809008, 'threat': 0.00049926754, 'insult': 0.025616586, 'identity_attack': 0.001975243}\n",
      "<user> <emoji> <emoji> <emoji> {'toxicity': 0.0012381368, 'severe_toxicity': 9.746694e-05, 'obscene': 0.00019508322, 'threat': 0.00011436314, 'insult': 0.00019124211, 'identity_attack': 0.00013825909}\n",
      "10 winning arguments gun control – libertennial url {'toxicity': 0.0011860507, 'severe_toxicity': 9.5358526e-05, 'obscene': 0.00019360063, 'threat': 9.81871e-05, 'insult': 0.00018447929, 'identity_attack': 0.00015044557}\n",
      "<user> <user> one “ journalists ” mentioned arrest corrupt mayor yesterday guess busy getting blown away wind {'toxicity': 0.0035969983, 'severe_toxicity': 8.6874694e-05, 'obscene': 0.00025774655, 'threat': 9.27263e-05, 'insult': 0.00027146892, 'identity_attack': 0.00018287296}\n",
      "<user> need go away one wants see media advocating gun control unseemly {'toxicity': 0.015851988, 'severe_toxicity': 0.000115706316, 'obscene': 0.0005419132, 'threat': 0.00032889453, 'insult': 0.00056156144, 'identity_attack': 0.00037120917}\n",
      "<user> <user> <user> <user> pathetic {'toxicity': 0.8367506, 'severe_toxicity': 0.0011555761, 'obscene': 0.020672157, 'threat': 0.0012583152, 'insult': 0.12612817, 'identity_attack': 0.0021700065}\n",
      "<user> preorder dear preorder bonus game {'toxicity': 0.001265886, 'severe_toxicity': 9.59591e-05, 'obscene': 0.00019625374, 'threat': 0.0001079407, 'insult': 0.00019387773, 'identity_attack': 0.00013357811}\n",
      "<user> nobody addressing cow room even florence still thing like mass shooting wrong time talk gun control <user> {'toxicity': 0.018255953, 'severe_toxicity': 0.00010950504, 'obscene': 0.00089747447, 'threat': 0.00026368292, 'insult': 0.0006671056, 'identity_attack': 0.00026223756}\n",
      "<user> burn nike gear everyone know done buying nike oops conservatives ones buying nike r ones making money ’ way way us <emoji> nike {'toxicity': 0.04611955, 'severe_toxicity': 0.00012811027, 'obscene': 0.00092703116, 'threat': 0.00039976224, 'insult': 0.001233976, 'identity_attack': 0.00056956033}\n",
      "<user> <user> <user> <user> <user> <user> <user> <user> <user> <user> <user> dont ever want hear conservatives wax poetic amazing founders willing throw constitution bus libs conservatives dont positions dont rules make break win {'toxicity': 0.038454853, 'severe_toxicity': 0.00013452953, 'obscene': 0.0006948125, 'threat': 0.00040301547, 'insult': 0.0009776284, 'identity_attack': 0.00059456413}\n",
      "<user> mounties come get dirty pervert internetonly 150 pounds heavier get point url {'toxicity': 0.8712647, 'severe_toxicity': 0.0071510244, 'obscene': 0.33216298, 'threat': 0.001757627, 'insult': 0.46048287, 'identity_attack': 0.026342178}\n",
      "<user> <user> take moment realize jimin 22 39 years old 17 year age difference breathe {'toxicity': 0.029269177, 'severe_toxicity': 0.00010246612, 'obscene': 0.0007825692, 'threat': 0.00020733656, 'insult': 0.0011613844, 'identity_attack': 0.00030360985}\n",
      "<user> <user> <user> <user> <user> <user> <user> <user> <user> army god concept god army hate {'toxicity': 0.385875, 'severe_toxicity': 0.0007345428, 'obscene': 0.003652032, 'threat': 0.0054416, 'insult': 0.004420846, 'identity_attack': 0.003430505}\n"
     ]
    }
   ],
   "source": [
    "preds = []\n",
    "c = 0\n",
    "for text in df_val_texts:\n",
    "    preds.append(model.predict(text))\n",
    "    # if c % 100 == 0:\n",
    "    #     print(text, preds[-1])\n",
    "    c += 1\n"
   ]
  },
  {
   "cell_type": "code",
   "execution_count": 13,
   "metadata": {},
   "outputs": [],
   "source": [
    "# convert preds to dataframe\n",
    "df_preds = pd.DataFrame(preds)\n",
    "# df_preds.columns = ['toxicity', 'severe_toxicity', 'obscene', 'threat', 'insult', 'identity_attack', 'sexual_explicit']"
   ]
  },
  {
   "cell_type": "code",
   "execution_count": 15,
   "metadata": {},
   "outputs": [],
   "source": [
    "df_preds['label'] = df_val['label'].tolist()"
   ]
  },
  {
   "cell_type": "code",
   "execution_count": 24,
   "metadata": {},
   "outputs": [
    {
     "name": "stdout",
     "output_type": "stream",
     "text": [
      "0.7452830188679245\n"
     ]
    }
   ],
   "source": [
    "# SVC to predict label\n",
    "from sklearn import svm\n",
    "from sklearn.model_selection import train_test_split\n",
    "\n",
    "X = df_preds.drop(columns=['label'])\n",
    "y = df_preds['label']\n",
    "\n",
    "X_train, X_test, y_train, y_test = train_test_split(X, y, test_size=0.2, random_state=42)\n",
    "\n",
    "clf = svm.SVC()\n",
    "clf.fit(X_train, y_train)\n",
    "\n",
    "y_pred = clf.predict(X_test)\n",
    "\n",
    "from sklearn.metrics import accuracy_score\n",
    "\n",
    "print(accuracy_score(y_test, y_pred))"
   ]
  },
  {
   "cell_type": "code",
   "execution_count": null,
   "metadata": {},
   "outputs": [],
   "source": []
  }
 ],
 "metadata": {
  "kernelspec": {
   "display_name": "Python 3.9.13 64-bit (microsoft store)",
   "language": "python",
   "name": "python3"
  },
  "language_info": {
   "codemirror_mode": {
    "name": "ipython",
    "version": 3
   },
   "file_extension": ".py",
   "mimetype": "text/x-python",
   "name": "python",
   "nbconvert_exporter": "python",
   "pygments_lexer": "ipython3",
   "version": "3.9.13"
  },
  "orig_nbformat": 4,
  "vscode": {
   "interpreter": {
    "hash": "a5a87ee616be0254e3f1af9223138e3faeac65b2c9d91bc22a9fc5a4a8bd8eb0"
   }
  }
 },
 "nbformat": 4,
 "nbformat_minor": 2
}
