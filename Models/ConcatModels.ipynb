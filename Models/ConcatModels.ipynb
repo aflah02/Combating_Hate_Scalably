{
 "cells": [
  {
   "cell_type": "code",
   "execution_count": null,
   "metadata": {},
   "outputs": [],
   "source": [
    "import os\n",
    "os.environ[\"WANDB_DISABLED\"] = \"true\"\n",
    "import evaluate\n",
    "\n",
    "import pandas as pd\n",
    "\n",
    "df_train = pd.read_csv('/home/aflah20082/NLP_Project/Data/PreprocessedData/train_preprocessed.csv')\n",
    "df_test = pd.read_csv('/home/aflah20082/NLP_Project/Data/PreprocessedData/test_preprocessed.csv')\n",
    "df_val = pd.read_csv('/home/aflah20082/NLP_Project/Data/PreprocessedData/val_preprocessed.csv')\n",
    "\n",
    "# Add Dummy Labels to Test\n",
    "df_test['label'] = 0\n",
    "\n",
    "df_train = df_train[['preprocessed_text', 'label']]\n",
    "df_test = df_test[['preprocessed_text', 'label']]\n",
    "df_val = df_val[['preprocessed_text', 'label']]"
   ]
  },
  {
   "cell_type": "code",
   "execution_count": null,
   "metadata": {},
   "outputs": [],
   "source": [
    "df_train = df_train.rename(columns={'preprocessed_text': 'text', 'label': 'label'})\n",
    "df_test = df_test.rename(columns={'preprocessed_text': 'text', 'label': 'label'})\n",
    "df_val = df_val.rename(columns={'preprocessed_text': 'text', 'label': 'label'})"
   ]
  },
  {
   "cell_type": "code",
   "execution_count": null,
   "metadata": {},
   "outputs": [],
   "source": [
    "# Change Label to 0 and 1\n",
    "df_train['label'] = df_train['label'].replace({'NOT': 1, 'OFF': 0})\n",
    "df_val['label'] = df_val['label'].replace({'NOT': 1, 'OFF': 0})"
   ]
  },
  {
   "cell_type": "code",
   "execution_count": null,
   "metadata": {},
   "outputs": [],
   "source": [
    "from transformers import AutoTokenizer, AutoModelForMaskedLM\n",
    "from transformers import AutoModelForSequenceClassification\n",
    "\n",
    "bertweet_tokenizer = AutoTokenizer.from_pretrained(\"vinai/bertweet-base\", force_download=True)\n",
    "bertbase_tokenizer = AutoTokenizer.from_pretrained(\"bert-base-uncased\", force_download=True)\n",
    "hatebert_tokenizer = AutoTokenizer.from_pretrained(\"GroNLP/hateBERT\", force_download=True)"
   ]
  },
  {
   "cell_type": "code",
   "execution_count": null,
   "metadata": {},
   "outputs": [],
   "source": [
    "from datasets import load_dataset,Dataset,DatasetDict\n",
    "from transformers import DataCollatorWithPadding,AutoModelForSequenceClassification, Trainer, TrainingArguments, AutoTokenizer, AutoModel, AutoConfig\n",
    "from transformers.modeling_outputs import TokenClassifierOutput\n",
    "import torch\n",
    "import torch.nn as nn\n",
    "import pandas as pd\n",
    "\n",
    "dataset_hf = DatasetDict({\n",
    "    'train': Dataset.from_pandas(df_train),\n",
    "    'test': Dataset.from_pandas(df_test),\n",
    "    'validation': Dataset.from_pandas(df_val),\n",
    "    'train_val': Dataset.from_pandas(pd.concat([df_train, df_val]))\n",
    "})\n",
    "\n",
    "bertweet_tokenized_dataset = dataset_hf.map(lambda examples: bertweet_tokenizer(examples['text'], truncation=True, padding='max_length'), batched=True, batch_size=16)\n",
    "bertbase_tokenized_dataset = dataset_hf.map(lambda examples: bertbase_tokenizer(examples['text'], truncation=True, padding='max_length'), batched=True, batch_size=16)\n",
    "hatebert_tokenized_dataset = dataset_hf.map(lambda examples: hatebert_tokenizer(examples['text'], truncation=True, padding='max_length'), batched=True, batch_size=16)"
   ]
  },
  {
   "cell_type": "code",
   "execution_count": null,
   "metadata": {},
   "outputs": [],
   "source": [
    "# Combine the two datasets\n",
    "dataset_hf = DatasetDict({\n",
    "    'train': Dataset.from_pandas(df_train),\n",
    "    'test': Dataset.from_pandas(df_test),\n",
    "    'validation': Dataset.from_pandas(df_val),\n",
    "    'train_val': Dataset.from_pandas(pd.concat([df_train, df_val]))\n",
    "})\n",
    "\n",
    "bertweet_tokenized_dataset = dataset_hf.map(lambda examples: bertweet_tokenizer(examples['text'], truncation=True, padding='max_length'), batched=True)\n",
    "bertbase_tokenized_dataset = dataset_hf.map(lambda examples: bertbase_tokenizer(examples['text'], truncation=True, padding='max_length'), batched=True)\n",
    "\n",
    "bertweet_tokenized_dataset.set_format(\"torch\",columns=[\"input_ids\", \"attention_mask\", \"label\"])\n",
    "data_collator_bertweet = DataCollatorWithPadding(tokenizer=bertweet_tokenizer)\n",
    "\n",
    "bertbase_tokenized_dataset.set_format(\"torch\",columns=[\"input_ids\", \"attention_mask\", \"label\"])\n",
    "data_collator_bertbase = DataCollatorWithPadding(tokenizer=bertbase_tokenizer)\n",
    "\n",
    "hatebert_tokenized_dataset.set_format(\"torch\",columns=[\"input_ids\", \"attention_mask\", \"label\"])\n",
    "data_collator_hatebert = DataCollatorWithPadding(tokenizer=hatebert_tokenizer)\n",
    "\n",
    "# Combine the two datasets\n",
    "class ConcatDataset(torch.utils.data.Dataset):\n",
    "    def __init__(self, bertweet_dataset, bertbase_dataset, hatebert_dataset):\n",
    "        self.dataset1 = bertweet_dataset\n",
    "        self.dataset2 = bertbase_dataset\n",
    "        self.dataset3 = hatebert_dataset\n",
    "\n",
    "    def __getitem__(self, index):\n",
    "        return {\n",
    "            'input_ids_bertweet': self.dataset1[index]['input_ids'],\n",
    "            'attention_mask_bertweet': self.dataset1[index]['attention_mask'],\n",
    "            'input_ids_bertbase': self.dataset2[index]['input_ids'],\n",
    "            'attention_mask_bertbase': self.dataset2[index]['attention_mask'],\n",
    "            'input_ids_hatebert': self.dataset3[index]['input_ids'],\n",
    "            'attention_mask_hatebert': self.dataset3[index]['attention_mask'],\n",
    "            'label': self.dataset1[index]['label']\n",
    "        }\n",
    "\n",
    "    def __len__(self):\n",
    "        return len(self.dataset1)\n",
    "\n",
    "train_dataset = ConcatDataset(bertweet_tokenized_dataset['train'], bertbase_tokenized_dataset['train'], hatebert_tokenized_dataset['train'])\n",
    "test_dataset = ConcatDataset(bertweet_tokenized_dataset['test'], bertbase_tokenized_dataset['test'], hatebert_tokenized_dataset['test'])\n",
    "val_dataset = ConcatDataset(bertweet_tokenized_dataset['validation'], bertbase_tokenized_dataset['validation'], hatebert_tokenized_dataset['validation'])\n",
    "train_val_dataset = ConcatDataset(bertweet_tokenized_dataset['train_val'], bertbase_tokenized_dataset['train_val'], hatebert_tokenized_dataset['train_val'])"
   ]
  },
  {
   "cell_type": "code",
   "execution_count": null,
   "metadata": {},
   "outputs": [],
   "source": [
    "from torch.utils.data import DataLoader\n",
    "\n",
    "train_dataloader = DataLoader(train_dataset, shuffle=True, batch_size=16)\n",
    "test_dataloader = DataLoader(test_dataset, shuffle=False, batch_size=16)\n",
    "val_dataloader = DataLoader(val_dataset, shuffle=False, batch_size=16)\n",
    "train_val_dataloader = DataLoader(train_val_dataset, shuffle=True, batch_size=16)"
   ]
  },
  {
   "cell_type": "code",
   "execution_count": null,
   "metadata": {},
   "outputs": [],
   "source": [
    "device = torch.device(\"cuda\" if torch.cuda.is_available() else \"cpu\")"
   ]
  },
  {
   "cell_type": "code",
   "execution_count": null,
   "metadata": {},
   "outputs": [],
   "source": [
    "import torch\n",
    "from torch import nn\n",
    "class ConcatModel(torch.nn.Module):\n",
    "    def __init__(self):\n",
    "        super(ConcatModel, self).__init__()\n",
    "        self.bertweet_model = AutoModel.from_pretrained(\"vinai/bertweet-base\", config = AutoConfig.from_pretrained(\"vinai/bertweet-base\", \n",
    "                                                                                                       output_attention = True, \n",
    "                                                                                                       output_hidden_state = True ) )\n",
    "                                            \n",
    "        self.bertbase_model = AutoModel.from_pretrained(\"bert-base-uncased\", config = AutoConfig.from_pretrained(\"bert-base-uncased\",\n",
    "                                                                                                         output_attention = True, \n",
    "                                                                                                         output_hidden_state = True ) )  \n",
    "\n",
    "        self.hatebert_model = AutoModel.from_pretrained(\"GroNLP/hateBERT\", config = AutoConfig.from_pretrained(\"GroNLP/hateBERT\",\n",
    "                                                                                                         output_attention = True, \n",
    "                                                                                                         output_hidden_state = True ) )\n",
    "        # Freeze first 10 layers of bertweet\n",
    "        for param in self.bertweet_model.base_model.encoder.layer[:8].parameters():\n",
    "            param.requires_grad = False\n",
    "        \n",
    "        # Freeze first 10 layers of bertbase\n",
    "        for param in self.bertbase_model.base_model.encoder.layer[:8].parameters():\n",
    "            param.requires_grad = False\n",
    "            \n",
    "        # Freeze first 10 layers of hatebert\n",
    "        for param in self.hatebert_model.base_model.encoder.layer[:8].parameters():\n",
    "            param.requires_grad = False\n",
    "\n",
    "        self.classifier = nn.Sequential(\n",
    "            # nn.Dropout(p=0.1),\n",
    "            nn.Linear(768*3, 128),\n",
    "            nn.ReLU(),\n",
    "            nn.Dropout(p=0.5),\n",
    "            nn.Linear(128, 2)\n",
    "            # nn.Softmax(dim=1)\n",
    "        )\n",
    "    \n",
    "    def forward(self, input_ids_bertweet, attention_mask_bertweet, input_ids_bertbase, attention_mask_bertbase, input_ids_hatebert, attention_mask_hatebert, label=None):\n",
    "        logits_a = self.bertweet_model(input_ids_bertweet, attention_mask=attention_mask_bertweet).last_hidden_state[:, 0, :].view(-1, 768)\n",
    "        logits_b = self.bertbase_model(input_ids_bertbase, attention_mask=attention_mask_bertbase).last_hidden_state[:, 0, :].view(-1, 768)\n",
    "        logits_c = self.hatebert_model(input_ids_hatebert, attention_mask=attention_mask_hatebert).last_hidden_state[:, 0, :].view(-1, 768)\n",
    "        # summed_vectors = torch.mean(torch.stack([logits_a, logits_b, logits_c]), dim=0)\n",
    "        concat_vectors = torch.cat((logits_a, logits_b, logits_c), dim=1)\n",
    "        output = self.classifier(concat_vectors)\n",
    "        # print(output.shape)\n",
    "        # Compute Loss\n",
    "        loss = None\n",
    "        if label is not None:\n",
    "            loss_fct = nn.CrossEntropyLoss()\n",
    "            # print(output.shape)\n",
    "            # print(label.shape)\n",
    "            # print(label.view(-1).shape)\n",
    "            # print(output.view(-1, 2).shape)\n",
    "            loss = loss_fct(output.view(-1, 2), label.view(-1))\n",
    "            \n",
    "            return TokenClassifierOutput(loss=loss, logits=output, hidden_states=None, attentions=None)\n",
    "\n",
    "        \n",
    "model = ConcatModel().to(device)"
   ]
  },
  {
   "cell_type": "code",
   "execution_count": null,
   "metadata": {},
   "outputs": [],
   "source": [
    "from transformers import AdamW, get_scheduler\n",
    "\n",
    "optimizer = AdamW(model.parameters())\n",
    "\n",
    "num_epoch = 2\n",
    "\n",
    "num_training_steps = num_epoch * len(train_dataloader)\n",
    "\n",
    "lr_scheduler = get_scheduler(\n",
    "    'linear',\n",
    "    optimizer = optimizer,\n",
    "    num_warmup_steps = 10000,\n",
    "    num_training_steps = num_training_steps,\n",
    "    \n",
    ")"
   ]
  },
  {
   "cell_type": "code",
   "execution_count": null,
   "metadata": {},
   "outputs": [],
   "source": [
    "from datasets import load_metric\n",
    "metric = load_metric(\"accuracy\")\n",
    "f1 = load_metric(\"f1\")"
   ]
  },
  {
   "cell_type": "code",
   "execution_count": null,
   "metadata": {},
   "outputs": [],
   "source": [
    "# from tqdm.auto import tqdm\n",
    "# num_training_steps = num_epoch * len(train_dataloader)\n",
    "# warmup_steps = 0\n",
    "# num_epochs = 2\n",
    "\n",
    "# progress_bar_train = tqdm(range(num_training_steps))\n",
    "# progress_bar_eval = tqdm(range(num_epochs * len(val_dataloader)))\n",
    "\n",
    "# step = 0\n",
    "\n",
    "# for epoch in range(num_epochs):\n",
    "  \n",
    "#   for batch in train_dataloader:\n",
    "#       model.train()\n",
    "#       # print([type(v) for v in batch.values()])\n",
    "#       batch = {k: v.to(device) for k, v in batch.items()}\n",
    "      \n",
    "#       outputs = model(**batch)\n",
    "#       loss = outputs.loss\n",
    "#       loss.backward()\n",
    "\n",
    "#       optimizer.step()\n",
    "#       lr_scheduler.step()\n",
    "#       optimizer.zero_grad()\n",
    "#       progress_bar_train.update(1)\n",
    "#       step += 1\n",
    "\n",
    "#       if step % 100 == 0:\n",
    "#           print(f\"Step {step} of {num_training_steps}: loss = {loss.item()}\")\n",
    "#           # Save model\n",
    "#           torch.save(model.state_dict(), f\"/home/aflah20082/NLP_Project/Models/CustomModelSaves/model_{step}.pt\")\n",
    "          \n",
    "\n",
    "#   model.eval()\n",
    "#   for batch in val_dataloader:\n",
    "#     # print(batch.keys())\n",
    "#     batch = {k: v.to(device) for k, v in batch.items()}\n",
    "#     with torch.no_grad():\n",
    "#         outputs = model(**batch)\n",
    "\n",
    "#     logits = outputs.logits\n",
    "#     predictions = torch.argmax(logits, dim=-1)\n",
    "#     metric.add_batch(predictions=predictions, references=batch[\"label\"])\n",
    "#     progress_bar_eval.update(1)\n",
    "    \n",
    "#   print(metric.compute())"
   ]
  },
  {
   "cell_type": "code",
   "execution_count": null,
   "metadata": {},
   "outputs": [],
   "source": [
    "# Save the model\n",
    "# torch.save(model.state_dict(), \"model.pt\")\n",
    "\n",
    "# Load the model\n",
    "model2 = ConcatModel().to(device)\n",
    "model2.load_state_dict(torch.load(\"/home/aflah20082/NLP_Project/Models/CustomModelSaves/model_600.pt\"))"
   ]
  },
  {
   "cell_type": "code",
   "execution_count": null,
   "metadata": {},
   "outputs": [],
   "source": [
    "model2.eval()\n",
    "\n",
    "for batch in val_dataloader:\n",
    "    # print(batch.keys())\n",
    "    batch = {k: v.to(device) for k, v in batch.items()}\n",
    "    with torch.no_grad():\n",
    "        outputs = model2(**batch)\n",
    "\n",
    "    logits = outputs.logits\n",
    "    predictions = torch.argmax(logits, dim=-1)\n",
    "    metric.add_batch(predictions=predictions, references=batch[\"label\"])\n",
    "    f1.add_batch(predictions=predictions, references=batch[\"label\"])\n",
    "\n",
    "print(metric.compute(), f1.compute(average=\"macro\"))"
   ]
  },
  {
   "cell_type": "code",
   "execution_count": null,
   "metadata": {},
   "outputs": [],
   "source": [
    "model2.eval()\n",
    "\n",
    "for batch in test_dataloader:\n",
    "    batch = {k: v.to(device) for k, v in batch.items()}\n",
    "    with torch.no_grad():\n",
    "        outputs = model2(**batch)\n",
    "\n",
    "    logits = outputs.logits\n",
    "    predictions = torch.argmax(logits, dim=-1)"
   ]
  },
  {
   "cell_type": "code",
   "execution_count": null,
   "metadata": {},
   "outputs": [],
   "source": [
    "# pickle the model\n",
    "import pickle\n",
    "with open('firstconcatmodel.pkl', 'wb') as f:\n",
    "    pickle.dump(model, f)"
   ]
  },
  {
   "cell_type": "code",
   "execution_count": null,
   "metadata": {},
   "outputs": [],
   "source": [
    "# load the model\n",
    "import pickle\n",
    "with open('firstconcatmodel.pkl', 'rb') as f:\n",
    "    model = pickle.load(f)"
   ]
  },
  {
   "cell_type": "code",
   "execution_count": null,
   "metadata": {},
   "outputs": [],
   "source": [
    "model.eval()\n",
    "ls_preds = []\n",
    "for batch in test_dataloader:\n",
    "    batch = {k: v.to(device) for k, v in batch.items()}\n",
    "    with torch.no_grad():\n",
    "        outputs = model(**batch)\n",
    "\n",
    "    logits = outputs.logits\n",
    "    predictions = torch.argmax(logits, dim=-1)\n",
    "    ls_preds.append(predictions)\n",
    "\n"
   ]
  },
  {
   "cell_type": "code",
   "execution_count": null,
   "metadata": {},
   "outputs": [],
   "source": [
    "ls_preds"
   ]
  }
 ],
 "metadata": {
  "kernelspec": {
   "display_name": "Python 3.9.13 64-bit (microsoft store)",
   "language": "python",
   "name": "python3"
  },
  "language_info": {
   "codemirror_mode": {
    "name": "ipython",
    "version": 3
   },
   "file_extension": ".py",
   "mimetype": "text/x-python",
   "name": "python",
   "nbconvert_exporter": "python",
   "pygments_lexer": "ipython3",
   "version": "3.9.13"
  },
  "orig_nbformat": 4,
  "vscode": {
   "interpreter": {
    "hash": "a5a87ee616be0254e3f1af9223138e3faeac65b2c9d91bc22a9fc5a4a8bd8eb0"
   }
  }
 },
 "nbformat": 4,
 "nbformat_minor": 2
}
