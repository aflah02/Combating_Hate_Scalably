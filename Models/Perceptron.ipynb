{
 "cells": [
  {
   "cell_type": "code",
   "execution_count": 22,
   "metadata": {},
   "outputs": [],
   "source": [
    "# imports\n",
    "from embeddings_loader import *\n",
    "from sklearn.linear_model import Perceptron\n",
    "from sklearn.model_selection import GridSearchCV\n",
    "from sklearn.metrics import f1_score\n",
    "from sklearn.metrics import accuracy_score\n",
    "from sklearn.metrics import confusion_matrix\n",
    "from sklearn.metrics import classification_report\n",
    "from sklearn.metrics import recall_score\n",
    "from sklearn.metrics import precision_score\n",
    "from sklearn.metrics import roc_auc_score\n",
    "import numpy as np\n",
    "from utils import *"
   ]
  },
  {
   "cell_type": "code",
   "execution_count": 23,
   "metadata": {},
   "outputs": [],
   "source": [
    "train_labels, dev_labels = load_labels()"
   ]
  },
  {
   "cell_type": "code",
   "execution_count": 24,
   "metadata": {},
   "outputs": [],
   "source": [
    "label_replacement = {\n",
    "    'OFF': 0,\n",
    "    'NOT': 1,\n",
    "}"
   ]
  },
  {
   "cell_type": "code",
   "execution_count": 25,
   "metadata": {},
   "outputs": [],
   "source": [
    "# Replace labels with numbers\n",
    "train_labels = [label_replacement[label] for label in train_labels]\n",
    "dev_labels = [label_replacement[label] for label in dev_labels]"
   ]
  },
  {
   "cell_type": "code",
   "execution_count": 26,
   "metadata": {},
   "outputs": [],
   "source": [
    "perceptron = Perceptron(max_iter=1000)\n",
    "gridsearch = GridSearchCV(perceptron, param_grid = {\n",
    "\t'eta0': [1e-4, 1e-3, 1e-2, 1e-1],\n",
    "    'penalty': ['l1', 'l2'],\n",
    "\t'alpha': [0.0001, 0.05],\n",
    "    'early_stopping': [True, False]\n",
    "}, scoring = \"f1_macro\")"
   ]
  },
  {
   "cell_type": "markdown",
   "metadata": {},
   "source": [
    "### Glove Twitter 25"
   ]
  },
  {
   "cell_type": "code",
   "execution_count": 27,
   "metadata": {},
   "outputs": [],
   "source": [
    "gt25_train, gt25_dev, gt25_test = load_glove_twitter_25()"
   ]
  },
  {
   "cell_type": "code",
   "execution_count": 28,
   "metadata": {},
   "outputs": [],
   "source": [
    "# Set all NaN values to 0\n",
    "gt25_train = np.nan_to_num(gt25_train)\n",
    "gt25_dev = np.nan_to_num(gt25_dev)\n",
    "gt25_test = np.nan_to_num(gt25_test)"
   ]
  },
  {
   "cell_type": "code",
   "execution_count": 29,
   "metadata": {},
   "outputs": [],
   "source": [
    "grid_results = gridsearch.fit(gt25_train, train_labels)\n",
    "best_params = grid_results.best_params_\n",
    "perceptron = grid_results.best_estimator_"
   ]
  },
  {
   "cell_type": "code",
   "execution_count": 30,
   "metadata": {},
   "outputs": [
    {
     "data": {
      "text/plain": [
       "{'alpha': 0.05, 'early_stopping': True, 'eta0': 0.001, 'penalty': 'l2'}"
      ]
     },
     "execution_count": 30,
     "metadata": {},
     "output_type": "execute_result"
    }
   ],
   "source": [
    "best_params"
   ]
  },
  {
   "cell_type": "code",
   "execution_count": 31,
   "metadata": {},
   "outputs": [],
   "source": [
    "perceptron = perceptron.fit(gt25_train, train_labels)\n",
    "save_model(perceptron, \"perceptron_gt25.joblib\")"
   ]
  },
  {
   "cell_type": "code",
   "execution_count": 32,
   "metadata": {},
   "outputs": [],
   "source": [
    "train_preds = perceptron.predict(gt25_train)\n",
    "dev_preds = perceptron.predict(gt25_dev)\n",
    "test_preds = perceptron.predict(gt25_test)"
   ]
  },
  {
   "cell_type": "code",
   "execution_count": 33,
   "metadata": {},
   "outputs": [
    {
     "name": "stdout",
     "output_type": "stream",
     "text": [
      "Accuracy Train:  0.585630664652568\n",
      "Accuracy Dev:  0.5981873111782477\n",
      "Accuracy Test:  0.622093023255814\n",
      "Weighted F1 Train:  0.5908412471086509\n",
      "Weighted F1 Dev:  0.6003885835333231\n",
      "Weighted F1 Test:  0.6404192619397714\n",
      "Macro F1 Train:  0.5849045595792605\n",
      "Macro F1 Dev:  0.5980439991759641\n",
      "Macro F1 Test:  0.6097409769181683\n",
      "Micro F1 Train:  0.585630664652568\n",
      "Micro F1 Dev:  0.5981873111782477\n",
      "Micro F1 Test:  0.622093023255814\n",
      "Weighted Recall Train:  0.585630664652568\n",
      "Weighted Recall Dev:  0.5981873111782477\n",
      "Weighted Recall Test:  0.622093023255814\n",
      "Macro Recall Train:  0.6469830197519814\n",
      "Macro Recall Dev:  0.654844090446145\n",
      "Macro Recall Test:  0.6753360215053763\n",
      "Micro Recall Train:  0.585630664652568\n",
      "Micro Recall Dev:  0.5981873111782477\n",
      "Micro Recall Test:  0.622093023255814\n",
      "Confusion Matrix Train: \n",
      "[[2880  605]\n",
      " [3784 3323]]\n",
      "Confusion Matrix Dev: \n",
      "[[767 148]\n",
      " [916 817]]\n",
      "Confusion Matrix Test: \n",
      "[[191  49]\n",
      " [276 344]]\n"
     ]
    }
   ],
   "source": [
    "computeAllScores(train_preds, dev_preds, test_preds)"
   ]
  },
  {
   "cell_type": "markdown",
   "metadata": {},
   "source": [
    "### FastText 300 "
   ]
  },
  {
   "cell_type": "code",
   "execution_count": 34,
   "metadata": {},
   "outputs": [],
   "source": [
    "ft300_train, ft300_dev, ft300_test = load_fasttext_300()"
   ]
  },
  {
   "cell_type": "code",
   "execution_count": 35,
   "metadata": {},
   "outputs": [],
   "source": [
    "# Set all NaN values to 0\n",
    "ft300_train = np.nan_to_num(ft300_train)\n",
    "ft300_dev = np.nan_to_num(ft300_dev)\n",
    "ft300_test = np.nan_to_num(ft300_test)"
   ]
  },
  {
   "cell_type": "code",
   "execution_count": 36,
   "metadata": {},
   "outputs": [],
   "source": [
    "grid_results = gridsearch.fit(ft300_train, train_labels)\n",
    "best_params = grid_results.best_params_\n",
    "perceptron = grid_results.best_estimator_"
   ]
  },
  {
   "cell_type": "code",
   "execution_count": 37,
   "metadata": {},
   "outputs": [
    {
     "data": {
      "text/plain": [
       "{'alpha': 0.05, 'early_stopping': True, 'eta0': 0.0001, 'penalty': 'l2'}"
      ]
     },
     "execution_count": 37,
     "metadata": {},
     "output_type": "execute_result"
    }
   ],
   "source": [
    "best_params"
   ]
  },
  {
   "cell_type": "code",
   "execution_count": 38,
   "metadata": {},
   "outputs": [],
   "source": [
    "perceptron = perceptron.fit(ft300_train, train_labels)\n",
    "save_model(perceptron, \"perceptron_ft300.joblib\")"
   ]
  },
  {
   "cell_type": "code",
   "execution_count": 39,
   "metadata": {},
   "outputs": [],
   "source": [
    "train_preds = perceptron.predict(ft300_train)\n",
    "dev_preds = perceptron.predict(ft300_dev)\n",
    "test_preds = perceptron.predict(ft300_test)"
   ]
  },
  {
   "cell_type": "code",
   "execution_count": 40,
   "metadata": {},
   "outputs": [
    {
     "name": "stdout",
     "output_type": "stream",
     "text": [
      "Accuracy Train:  0.7381986404833837\n",
      "Accuracy Dev:  0.724320241691843\n",
      "Accuracy Test:  0.7872093023255814\n",
      "Weighted F1 Train:  0.7001254342558083\n",
      "Weighted F1 Dev:  0.6871177002155713\n",
      "Weighted F1 Test:  0.7567358517910278\n",
      "Macro F1 Train:  0.632889377231782\n",
      "Macro F1 Dev:  0.6290419770713154\n",
      "Macro F1 Test:  0.6696688502637318\n",
      "Micro F1 Train:  0.7381986404833837\n",
      "Micro F1 Dev:  0.7243202416918428\n",
      "Micro F1 Test:  0.7872093023255814\n",
      "Weighted Recall Train:  0.7381986404833837\n",
      "Weighted Recall Dev:  0.724320241691843\n",
      "Weighted Recall Test:  0.7872093023255814\n",
      "Macro Recall Train:  0.628547985204233\n",
      "Macro Recall Dev:  0.6276597958623821\n",
      "Macro Recall Test:  0.6506720430107527\n",
      "Micro Recall Train:  0.7381986404833837\n",
      "Micro Recall Dev:  0.724320241691843\n",
      "Micro Recall Test:  0.7872093023255814\n",
      "Confusion Matrix Train: \n",
      "[[1073 2412]\n",
      " [ 361 6746]]\n",
      "Confusion Matrix Dev: \n",
      "[[ 288  627]\n",
      " [ 103 1630]]\n",
      "Confusion Matrix Test: \n",
      "[[ 82 158]\n",
      " [ 25 595]]\n"
     ]
    }
   ],
   "source": [
    "computeAllScores(train_preds, dev_preds, test_preds)"
   ]
  },
  {
   "cell_type": "markdown",
   "metadata": {},
   "source": [
    "### Word2Vec 300"
   ]
  },
  {
   "cell_type": "code",
   "execution_count": 41,
   "metadata": {},
   "outputs": [],
   "source": [
    "w2v300_train, w2v300_dev, w2v300_test = load_word2vec_300()"
   ]
  },
  {
   "cell_type": "code",
   "execution_count": 42,
   "metadata": {},
   "outputs": [],
   "source": [
    "# Set all NaN values to 0\n",
    "w2v300_train = np.nan_to_num(w2v300_train)\n",
    "w2v300_dev = np.nan_to_num(w2v300_dev)\n",
    "w2v300_test = np.nan_to_num(w2v300_test)"
   ]
  },
  {
   "cell_type": "code",
   "execution_count": 43,
   "metadata": {},
   "outputs": [],
   "source": [
    "grid_results = gridsearch.fit(w2v300_train, train_labels)\n",
    "best_params = grid_results.best_params_\n",
    "perceptron = grid_results.best_estimator_"
   ]
  },
  {
   "cell_type": "code",
   "execution_count": 44,
   "metadata": {},
   "outputs": [
    {
     "data": {
      "text/plain": [
       "{'alpha': 0.05, 'early_stopping': True, 'eta0': 0.0001, 'penalty': 'l2'}"
      ]
     },
     "execution_count": 44,
     "metadata": {},
     "output_type": "execute_result"
    }
   ],
   "source": [
    "best_params"
   ]
  },
  {
   "cell_type": "code",
   "execution_count": 45,
   "metadata": {},
   "outputs": [],
   "source": [
    "perceptron = perceptron.fit(w2v300_train, train_labels)\n",
    "save_model(perceptron, \"perceptron_w2v300.joblib\")"
   ]
  },
  {
   "cell_type": "code",
   "execution_count": 46,
   "metadata": {},
   "outputs": [],
   "source": [
    "train_preds = perceptron.predict(w2v300_train)\n",
    "dev_preds = perceptron.predict(w2v300_dev)\n",
    "test_preds = perceptron.predict(w2v300_test)"
   ]
  },
  {
   "cell_type": "code",
   "execution_count": 47,
   "metadata": {},
   "outputs": [
    {
     "name": "stdout",
     "output_type": "stream",
     "text": [
      "Accuracy Train:  0.7263972809667674\n",
      "Accuracy Dev:  0.7095921450151057\n",
      "Accuracy Test:  0.7848837209302325\n",
      "Weighted F1 Train:  0.6723591195145725\n",
      "Weighted F1 Dev:  0.6536572679809516\n",
      "Weighted F1 Test:  0.7518819846038707\n",
      "Macro F1 Train:  0.5924708661350419\n",
      "Macro F1 Dev:  0.5824990573838471\n",
      "Macro F1 Test:  0.6616614104742482\n",
      "Micro F1 Train:  0.7263972809667674\n",
      "Micro F1 Dev:  0.7095921450151056\n",
      "Micro F1 Test:  0.7848837209302325\n",
      "Weighted Recall Train:  0.7263972809667674\n",
      "Weighted Recall Dev:  0.7095921450151057\n",
      "Weighted Recall Test:  0.7848837209302325\n",
      "Macro Recall Train:  0.6005966998810355\n",
      "Macro Recall Dev:  0.5960310778554514\n",
      "Macro Recall Test:  0.6439516129032258\n",
      "Micro Recall Train:  0.7263972809667674\n",
      "Micro Recall Dev:  0.7095921450151057\n",
      "Micro Recall Test:  0.7848837209302325\n",
      "Confusion Matrix Train: \n",
      "[[ 811 2674]\n",
      " [ 224 6883]]\n",
      "Confusion Matrix Dev: \n",
      "[[ 209  706]\n",
      " [  63 1670]]\n",
      "Confusion Matrix Test: \n",
      "[[ 78 162]\n",
      " [ 23 597]]\n"
     ]
    }
   ],
   "source": [
    "computeAllScores(train_preds, dev_preds, test_preds)"
   ]
  },
  {
   "cell_type": "markdown",
   "metadata": {},
   "source": [
    "### Sentence Transformer"
   ]
  },
  {
   "cell_type": "code",
   "execution_count": 48,
   "metadata": {},
   "outputs": [],
   "source": [
    "train, dev, test = load_sent_trans()"
   ]
  },
  {
   "cell_type": "code",
   "execution_count": 49,
   "metadata": {},
   "outputs": [],
   "source": [
    "grid_results = gridsearch.fit(train, train_labels)\n",
    "best_params = grid_results.best_params_\n",
    "perceptron = grid_results.best_estimator_"
   ]
  },
  {
   "cell_type": "code",
   "execution_count": 50,
   "metadata": {},
   "outputs": [
    {
     "data": {
      "text/plain": [
       "{'alpha': 0.0001, 'early_stopping': True, 'eta0': 0.0001, 'penalty': 'l2'}"
      ]
     },
     "execution_count": 50,
     "metadata": {},
     "output_type": "execute_result"
    }
   ],
   "source": [
    "best_params"
   ]
  },
  {
   "cell_type": "code",
   "execution_count": 51,
   "metadata": {},
   "outputs": [],
   "source": [
    "perceptron = perceptron.fit(train, train_labels)\n",
    "save_model(perceptron, \"perceptron_better_no_pca.joblib\")"
   ]
  },
  {
   "cell_type": "code",
   "execution_count": 52,
   "metadata": {},
   "outputs": [],
   "source": [
    "train_preds = perceptron.predict(train)\n",
    "dev_preds = perceptron.predict(dev)\n",
    "test_preds = perceptron.predict(test)"
   ]
  },
  {
   "cell_type": "code",
   "execution_count": 53,
   "metadata": {},
   "outputs": [
    {
     "name": "stdout",
     "output_type": "stream",
     "text": [
      "Accuracy Train:  0.7333836858006042\n",
      "Accuracy Dev:  0.7163897280966768\n",
      "Accuracy Test:  0.7883720930232558\n",
      "Weighted F1 Train:  0.6787661460722013\n",
      "Weighted F1 Dev:  0.6636018076047253\n",
      "Weighted F1 Test:  0.7492491158447048\n",
      "Macro F1 Train:  0.5996362545136912\n",
      "Macro F1 Dev:  0.5951699233536694\n",
      "Macro F1 Test:  0.6539495560507977\n",
      "Micro F1 Train:  0.7333836858006041\n",
      "Micro F1 Dev:  0.7163897280966769\n",
      "Micro F1 Test:  0.7883720930232558\n",
      "Weighted Recall Train:  0.7333836858006042\n",
      "Weighted Recall Dev:  0.7163897280966768\n",
      "Weighted Recall Test:  0.7883720930232558\n",
      "Macro Recall Train:  0.6066802608780439\n",
      "Macro Recall Dev:  0.6050933502344398\n",
      "Macro Recall Test:  0.6374327956989247\n",
      "Micro Recall Train:  0.7333836858006042\n",
      "Micro Recall Dev:  0.7163897280966768\n",
      "Micro Recall Test:  0.7883720930232558\n",
      "Confusion Matrix Train: \n",
      "[[ 823 2662]\n",
      " [ 162 6945]]\n",
      "Confusion Matrix Dev: \n",
      "[[ 224  691]\n",
      " [  60 1673]]\n",
      "Confusion Matrix Test: \n",
      "[[ 71 169]\n",
      " [ 13 607]]\n"
     ]
    }
   ],
   "source": [
    "computeAllScores(train_preds, dev_preds, test_preds)"
   ]
  },
  {
   "cell_type": "code",
   "execution_count": 54,
   "metadata": {},
   "outputs": [],
   "source": [
    "df = pd.DataFrame({\"id\": range(test_preds.shape[0]), \"label\": test_preds})"
   ]
  },
  {
   "cell_type": "code",
   "execution_count": 55,
   "metadata": {},
   "outputs": [
    {
     "data": {
      "text/html": [
       "<div>\n",
       "<style scoped>\n",
       "    .dataframe tbody tr th:only-of-type {\n",
       "        vertical-align: middle;\n",
       "    }\n",
       "\n",
       "    .dataframe tbody tr th {\n",
       "        vertical-align: top;\n",
       "    }\n",
       "\n",
       "    .dataframe thead th {\n",
       "        text-align: right;\n",
       "    }\n",
       "</style>\n",
       "<table border=\"1\" class=\"dataframe\">\n",
       "  <thead>\n",
       "    <tr style=\"text-align: right;\">\n",
       "      <th></th>\n",
       "      <th>id</th>\n",
       "      <th>label</th>\n",
       "    </tr>\n",
       "  </thead>\n",
       "  <tbody>\n",
       "    <tr>\n",
       "      <th>0</th>\n",
       "      <td>0</td>\n",
       "      <td>1</td>\n",
       "    </tr>\n",
       "    <tr>\n",
       "      <th>1</th>\n",
       "      <td>1</td>\n",
       "      <td>1</td>\n",
       "    </tr>\n",
       "    <tr>\n",
       "      <th>2</th>\n",
       "      <td>2</td>\n",
       "      <td>1</td>\n",
       "    </tr>\n",
       "    <tr>\n",
       "      <th>3</th>\n",
       "      <td>3</td>\n",
       "      <td>1</td>\n",
       "    </tr>\n",
       "    <tr>\n",
       "      <th>4</th>\n",
       "      <td>4</td>\n",
       "      <td>1</td>\n",
       "    </tr>\n",
       "  </tbody>\n",
       "</table>\n",
       "</div>"
      ],
      "text/plain": [
       "   id  label\n",
       "0   0      1\n",
       "1   1      1\n",
       "2   2      1\n",
       "3   3      1\n",
       "4   4      1"
      ]
     },
     "execution_count": 55,
     "metadata": {},
     "output_type": "execute_result"
    }
   ],
   "source": [
    "df.head()"
   ]
  },
  {
   "cell_type": "code",
   "execution_count": 56,
   "metadata": {},
   "outputs": [],
   "source": [
    "df.to_csv(\"../Results/Perceptron_SBERT.csv\", index = False)"
   ]
  },
  {
   "cell_type": "code",
   "execution_count": null,
   "metadata": {},
   "outputs": [],
   "source": []
  }
 ],
 "metadata": {
  "kernelspec": {
   "display_name": "Python 3.10.2 ('venv': venv)",
   "language": "python",
   "name": "python3"
  },
  "language_info": {
   "codemirror_mode": {
    "name": "ipython",
    "version": 3
   },
   "file_extension": ".py",
   "mimetype": "text/x-python",
   "name": "python",
   "nbconvert_exporter": "python",
   "pygments_lexer": "ipython3",
   "version": "3.10.2"
  },
  "orig_nbformat": 4,
  "vscode": {
   "interpreter": {
    "hash": "20d1fca357f405521ace12b74f8f225b4b452b0790d4cac507474c909b88285c"
   }
  }
 },
 "nbformat": 4,
 "nbformat_minor": 2
}
