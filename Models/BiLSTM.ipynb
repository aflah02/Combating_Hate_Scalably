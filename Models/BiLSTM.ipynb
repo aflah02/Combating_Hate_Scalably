{
  "nbformat": 4,
  "nbformat_minor": 0,
  "metadata": {
    "colab": {
      "provenance": []
    },
    "kernelspec": {
      "name": "python3",
      "display_name": "Python 3"
    },
    "language_info": {
      "name": "python"
    }
  },
  "cells": [
    {
      "cell_type": "code",
      "execution_count": 1,
      "metadata": {
        "id": "Vv9n6KDV_LNx"
      },
      "outputs": [],
      "source": [
        "import numpy as np\n",
        "import pandas as pd\n",
        "import tensorflow_datasets as tfds\n",
        "import tensorflow as tf"
      ]
    },
    {
      "cell_type": "code",
      "source": [
        "train_df = pd.read_csv('/content/drive/MyDrive/College/Semester 5/NLP Project/NLP_Project-main/NLP_Project-main/Data/PreprocessedData/train_preprocessed.csv')"
      ],
      "metadata": {
        "id": "1NqF_nTI__mz"
      },
      "execution_count": 2,
      "outputs": []
    },
    {
      "cell_type": "code",
      "source": [
        "val_df = pd.read_csv('/content/drive/MyDrive/College/Semester 5/NLP Project/NLP_Project-main/NLP_Project-main/Data/PreprocessedData/val_preprocessed.csv')"
      ],
      "metadata": {
        "id": "5vX0PqkuFnW7"
      },
      "execution_count": 3,
      "outputs": []
    },
    {
      "cell_type": "code",
      "source": [
        "train_X = train_df['preprocessed_text'].to_list()\n",
        "train_Y = (train_df['label'].replace('OFF',1)).replace('NOT', 0).to_list()"
      ],
      "metadata": {
        "id": "0wOkywr8AoAd"
      },
      "execution_count": 4,
      "outputs": []
    },
    {
      "cell_type": "code",
      "source": [
        "val_X = val_df['preprocessed_text'].to_list()\n",
        "val_Y = (val_df['label'].replace('OFF',1)).replace('NOT', 0).to_list()"
      ],
      "metadata": {
        "id": "SQVD42IOFsTM"
      },
      "execution_count": 5,
      "outputs": []
    },
    {
      "cell_type": "code",
      "source": [
        "VOCAB_SIZE = 10000\n",
        "encoder = tf.keras.layers.TextVectorization(max_tokens=VOCAB_SIZE)\n",
        "encoder.adapt(train_X)"
      ],
      "metadata": {
        "id": "PDON32E3_-5U"
      },
      "execution_count": 6,
      "outputs": []
    },
    {
      "cell_type": "code",
      "source": [
        "model = tf.keras.Sequential([\n",
        "    encoder,\n",
        "    tf.keras.layers.Embedding(\n",
        "        input_dim=len(encoder.get_vocabulary()),\n",
        "        output_dim=256,\n",
        "        mask_zero=True),\n",
        "    tf.keras.layers.Bidirectional(tf.keras.layers.LSTM(64)),\n",
        "    tf.keras.layers.Dense(64, activation='relu'),\n",
        "    tf.keras.layers.Dense(1)\n",
        "])"
      ],
      "metadata": {
        "id": "ISROsum6_Nrq"
      },
      "execution_count": 36,
      "outputs": []
    },
    {
      "cell_type": "code",
      "source": [
        "model.compile(loss=tf.keras.losses.BinaryCrossentropy(from_logits=True),\n",
        "              optimizer=tf.keras.optimizers.Adam(0.0001),\n",
        "              metrics=['accuracy'])"
      ],
      "metadata": {
        "id": "j3KXwSFDDZ6N"
      },
      "execution_count": 37,
      "outputs": []
    },
    {
      "cell_type": "code",
      "source": [
        "model.summary()"
      ],
      "metadata": {
        "colab": {
          "base_uri": "https://localhost:8080/"
        },
        "id": "P6QYHxhKLtCU",
        "outputId": "8f1f0aea-621b-4719-ef5a-6670de09f579"
      },
      "execution_count": 38,
      "outputs": [
        {
          "output_type": "stream",
          "name": "stdout",
          "text": [
            "Model: \"sequential_3\"\n",
            "_________________________________________________________________\n",
            " Layer (type)                Output Shape              Param #   \n",
            "=================================================================\n",
            " text_vectorization (TextVec  (None, None)             0         \n",
            " torization)                                                     \n",
            "                                                                 \n",
            " embedding_3 (Embedding)     (None, None, 256)         2560000   \n",
            "                                                                 \n",
            " bidirectional_3 (Bidirectio  (None, 128)              164352    \n",
            " nal)                                                            \n",
            "                                                                 \n",
            " dense_6 (Dense)             (None, 64)                8256      \n",
            "                                                                 \n",
            " dense_7 (Dense)             (None, 1)                 65        \n",
            "                                                                 \n",
            "=================================================================\n",
            "Total params: 2,732,673\n",
            "Trainable params: 2,732,673\n",
            "Non-trainable params: 0\n",
            "_________________________________________________________________\n"
          ]
        }
      ]
    },
    {
      "cell_type": "code",
      "source": [
        "history = model.fit(x = train_X, y = train_Y, epochs=10,\n",
        "                    validation_data=(val_X, val_Y),\n",
        "                    validation_steps=100)"
      ],
      "metadata": {
        "colab": {
          "base_uri": "https://localhost:8080/"
        },
        "id": "xpw0EcpiE4dn",
        "outputId": "f9f2e079-d8fe-4b99-c83c-7642ede387e8"
      },
      "execution_count": 39,
      "outputs": [
        {
          "output_type": "stream",
          "name": "stdout",
          "text": [
            "Epoch 1/10\n",
            "331/331 [==============================] - ETA: 0s - loss: 0.6321 - accuracy: 0.6710"
          ]
        },
        {
          "output_type": "stream",
          "name": "stderr",
          "text": [
            "WARNING:tensorflow:Your input ran out of data; interrupting training. Make sure that your dataset or generator can generate at least `steps_per_epoch * epochs` batches (in this case, 100 batches). You may need to use the repeat() function when building your dataset.\n"
          ]
        },
        {
          "output_type": "stream",
          "name": "stdout",
          "text": [
            "\b\b\b\b\b\b\b\b\b\b\b\b\b\b\b\b\b\b\b\b\b\b\b\b\b\b\b\b\b\b\b\b\b\b\b\b\b\b\b\b\b\b\b\b\b\b\b\b\b\b\b\b\b\b\b\b\b\b\b\b\b\b\b\b\b\b\b\b\b\b\b\b\b\b\b\b\b\b\b\b\b\b\b\b\r331/331 [==============================] - 46s 118ms/step - loss: 0.6321 - accuracy: 0.6710 - val_loss: 0.6157 - val_accuracy: 0.6545\n",
            "Epoch 2/10\n",
            "331/331 [==============================] - 34s 103ms/step - loss: 0.5375 - accuracy: 0.6951\n",
            "Epoch 3/10\n",
            "331/331 [==============================] - 37s 111ms/step - loss: 0.3827 - accuracy: 0.8291\n",
            "Epoch 4/10\n",
            "331/331 [==============================] - 34s 104ms/step - loss: 0.2858 - accuracy: 0.8841\n",
            "Epoch 5/10\n",
            "331/331 [==============================] - 34s 101ms/step - loss: 0.2226 - accuracy: 0.9132\n",
            "Epoch 6/10\n",
            "331/331 [==============================] - 34s 103ms/step - loss: 0.1786 - accuracy: 0.9332\n",
            "Epoch 7/10\n",
            "331/331 [==============================] - 34s 103ms/step - loss: 0.1481 - accuracy: 0.9473\n",
            "Epoch 8/10\n",
            "331/331 [==============================] - 34s 102ms/step - loss: 0.1226 - accuracy: 0.9569\n",
            "Epoch 9/10\n",
            "331/331 [==============================] - 34s 103ms/step - loss: 0.1048 - accuracy: 0.9637\n",
            "Epoch 10/10\n",
            "331/331 [==============================] - 34s 103ms/step - loss: 0.0927 - accuracy: 0.9704\n"
          ]
        }
      ]
    },
    {
      "cell_type": "code",
      "source": [
        "val_pred = model.predict(val_X)"
      ],
      "metadata": {
        "colab": {
          "base_uri": "https://localhost:8080/"
        },
        "id": "o5XV2x_ZIQ_9",
        "outputId": "4bc131e2-db46-49e2-bc56-eb11fadf30c5"
      },
      "execution_count": 40,
      "outputs": [
        {
          "output_type": "stream",
          "name": "stdout",
          "text": [
            "83/83 [==============================] - 4s 27ms/step\n"
          ]
        }
      ]
    },
    {
      "cell_type": "code",
      "source": [
        "val_loss, val_acc = model.evaluate(val_X, val_Y)\n",
        "\n",
        "print('val Loss:', val_loss)\n",
        "print('val Accuracy:', val_acc)"
      ],
      "metadata": {
        "colab": {
          "base_uri": "https://localhost:8080/"
        },
        "id": "uXMU767KF_CP",
        "outputId": "75ac8ba7-e6ac-4cc6-d319-2c7e07100c53"
      },
      "execution_count": 41,
      "outputs": [
        {
          "output_type": "stream",
          "name": "stdout",
          "text": [
            "83/83 [==============================] - 2s 25ms/step - loss: 1.2757 - accuracy: 0.7217\n",
            "val Loss: 1.2757498025894165\n",
            "val Accuracy: 0.721676766872406\n"
          ]
        }
      ]
    },
    {
      "cell_type": "code",
      "source": [
        "val_pred = np.where(val_pred > 0.5, 1, 0)"
      ],
      "metadata": {
        "id": "XW70dHlDIH37"
      },
      "execution_count": 42,
      "outputs": []
    },
    {
      "cell_type": "code",
      "source": [
        "from sklearn.metrics import f1_score\n",
        "\n",
        "f1_score(val_Y, val_pred, average='macro')"
      ],
      "metadata": {
        "colab": {
          "base_uri": "https://localhost:8080/"
        },
        "id": "VTYFXI0AHgh_",
        "outputId": "1c2115b9-d9c2-4034-883d-30c2f735958b"
      },
      "execution_count": 43,
      "outputs": [
        {
          "output_type": "execute_result",
          "data": {
            "text/plain": [
              "0.6868567595951038"
            ]
          },
          "metadata": {},
          "execution_count": 43
        }
      ]
    },
    {
      "cell_type": "code",
      "source": [],
      "metadata": {
        "id": "EweN8-4sRfQf"
      },
      "execution_count": null,
      "outputs": []
    }
  ]
}