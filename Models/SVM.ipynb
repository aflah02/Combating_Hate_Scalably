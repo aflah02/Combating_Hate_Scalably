{
 "cells": [
  {
   "cell_type": "code",
   "execution_count": 1,
   "metadata": {},
   "outputs": [
    {
     "name": "stdout",
     "output_type": "stream",
     "text": [
      "--ip=127.0.0.1\n"
     ]
    }
   ],
   "source": [
    "from embeddings_loader import *\n",
    "from sklearn.svm import SVC\n",
    "from sklearn.model_selection import GridSearchCV\n",
    "from sklearn.metrics import f1_score\n",
    "from sklearn.metrics import accuracy_score\n",
    "from sklearn.metrics import confusion_matrix\n",
    "from sklearn.metrics import classification_report\n",
    "from sklearn.metrics import recall_score\n",
    "from sklearn.metrics import precision_score\n",
    "from sklearn.metrics import roc_auc_score\n",
    "from utils import *"
   ]
  },
  {
   "cell_type": "code",
   "execution_count": 2,
   "metadata": {},
   "outputs": [],
   "source": [
    "train_labels, dev_labels, test_labels = load_labels()"
   ]
  },
  {
   "cell_type": "code",
   "execution_count": 3,
   "metadata": {},
   "outputs": [],
   "source": [
    "label_replacement = {\n",
    "    'NOT': 0,\n",
    "    'OFF': 1,\n",
    "}"
   ]
  },
  {
   "cell_type": "code",
   "execution_count": 4,
   "metadata": {},
   "outputs": [],
   "source": [
    "# Replace labels with numbers\n",
    "train_labels = [label_replacement[label] for label in train_labels]\n",
    "dev_labels = [label_replacement[label] for label in dev_labels]\n",
    "test_labels = [label_replacement[label] for label in test_labels]"
   ]
  },
  {
   "cell_type": "code",
   "execution_count": 5,
   "metadata": {},
   "outputs": [],
   "source": [
    "support_vector_classifier = SVC()\n",
    "gridsearch = GridSearchCV(support_vector_classifier, param_grid = {\n",
    "    \"kernel\": [\"linear\", \"poly\", \"rbf\", \"sigmoid\"],\n",
    "    \"C\": [0.1, 1, 10],\n",
    "    \"gamma\": ['scale', 'auto'],\n",
    "    \"degree\": [1, 2, 3, 4],\n",
    "    \"class_weight\": ['balanced', None]\n",
    "}, scoring = \"f1_macro\")"
   ]
  },
  {
   "cell_type": "markdown",
   "metadata": {},
   "source": [
    "### Glove Twitter 25"
   ]
  },
  {
   "cell_type": "code",
   "execution_count": 6,
   "metadata": {},
   "outputs": [],
   "source": [
    "gt25_train, gt25_dev, gt25_test = load_glove_twitter_25()"
   ]
  },
  {
   "cell_type": "code",
   "execution_count": 7,
   "metadata": {},
   "outputs": [],
   "source": [
    "# Set all NaN values to 0\n",
    "gt25_train = np.nan_to_num(gt25_train)\n",
    "gt25_dev = np.nan_to_num(gt25_dev)\n",
    "gt25_test = np.nan_to_num(gt25_test)"
   ]
  },
  {
   "cell_type": "code",
   "execution_count": 8,
   "metadata": {},
   "outputs": [],
   "source": [
    "grid_results = gridsearch.fit(gt25_train, train_labels)\n",
    "best_params = grid_results.best_params_\n",
    "support_vector_classifier = grid_results.best_estimator_"
   ]
  },
  {
   "cell_type": "code",
   "execution_count": null,
   "metadata": {},
   "outputs": [
    {
     "data": {
      "text/plain": [
       "{'alpha': 0.01, 'eta0': 0.1, 'max_iter': 100, 'penalty': 'l2'}"
      ]
     },
     "execution_count": 9,
     "metadata": {},
     "output_type": "execute_result"
    }
   ],
   "source": [
    "best_params"
   ]
  },
  {
   "cell_type": "code",
   "execution_count": null,
   "metadata": {},
   "outputs": [],
   "source": [
    "support_vector_classifier = support_vector_classifier.fit(gt25_train, train_labels)\n",
    "save_model(support_vector_classifier, \"support_vector_classifier_gt25.joblib\")"
   ]
  },
  {
   "cell_type": "code",
   "execution_count": null,
   "metadata": {},
   "outputs": [],
   "source": [
    "train_preds = support_vector_classifier.predict(gt25_train)\n",
    "dev_preds = support_vector_classifier.predict(gt25_dev)\n",
    "test_preds = support_vector_classifier.predict(gt25_test)"
   ]
  },
  {
   "cell_type": "code",
   "execution_count": null,
   "metadata": {},
   "outputs": [
    {
     "name": "stdout",
     "output_type": "stream",
     "text": [
      "Accuracy Train:  0.9132325806168176\n",
      "Accuracy Dev:  0.9050298979950756\n",
      "Accuracy Test:  0.9132115249472944\n",
      "Weighted F1 Train:  0.8744351101760547\n",
      "Weighted F1 Dev:  0.8619334282377243\n",
      "Weighted F1 Test:  0.8744332920127035\n",
      "Macro F1 Train:  0.33004307939745064\n",
      "Macro F1 Dev:  0.3286755723057514\n",
      "Macro F1 Test:  0.3362613040174669\n",
      "Micro F1 Train:  0.9132325806168176\n",
      "Micro F1 Dev:  0.9050298979950756\n",
      "Micro F1 Test:  0.9132115249472944\n",
      "Weighted Recall Train:  0.9132325806168176\n",
      "Weighted Recall Dev:  0.9050298979950756\n",
      "Weighted Recall Test:  0.9132115249472944\n",
      "Macro Recall Train:  0.3390163908368149\n",
      "Macro Recall Dev:  0.3393310321403766\n",
      "Macro Recall Test:  0.3425381154390024\n",
      "Micro Recall Train:  0.9132325806168176\n",
      "Micro Recall Dev:  0.9050298979950756\n",
      "Micro Recall Test:  0.9132115249472944\n",
      "Confusion Matrix Train: \n",
      "[[   36  1926     0]\n",
      " [   27 20751     0]\n",
      " [    0    22     0]]\n",
      "Confusion Matrix Dev: \n",
      "[[   5  267    0]\n",
      " [   1 2568    0]\n",
      " [   0    2    0]]\n",
      "Confusion Matrix Test: \n",
      "[[   7  243    0]\n",
      " [   1 2592    0]\n",
      " [   0    3    0]]\n"
     ]
    }
   ],
   "source": [
    "computeAllScores(train_preds, dev_preds, test_preds)"
   ]
  },
  {
   "cell_type": "markdown",
   "metadata": {},
   "source": [
    "### FastText 300 "
   ]
  },
  {
   "cell_type": "code",
   "execution_count": null,
   "metadata": {},
   "outputs": [],
   "source": [
    "ft300_train, ft300_dev, ft300_test = load_fasttext_300()"
   ]
  },
  {
   "cell_type": "code",
   "execution_count": null,
   "metadata": {},
   "outputs": [],
   "source": [
    "# Set all NaN values to 0\n",
    "ft300_train = np.nan_to_num(ft300_train)\n",
    "ft300_dev = np.nan_to_num(ft300_dev)\n",
    "ft300_test = np.nan_to_num(ft300_test)"
   ]
  },
  {
   "cell_type": "code",
   "execution_count": null,
   "metadata": {},
   "outputs": [],
   "source": [
    "grid_results = gridsearch.fit(ft300_train, train_labels)\n",
    "best_params = grid_results.best_params_\n",
    "support_vector_classifier = grid_results.best_estimator_"
   ]
  },
  {
   "cell_type": "code",
   "execution_count": null,
   "metadata": {},
   "outputs": [
    {
     "data": {
      "text/plain": [
       "{'alpha': 0.001, 'eta0': 0.0001, 'max_iter': 100, 'penalty': 'l1'}"
      ]
     },
     "execution_count": 16,
     "metadata": {},
     "output_type": "execute_result"
    }
   ],
   "source": [
    "best_params"
   ]
  },
  {
   "cell_type": "code",
   "execution_count": null,
   "metadata": {},
   "outputs": [],
   "source": [
    "support_vector_classifier = support_vector_classifier.fit(ft300_train, train_labels)\n",
    "save_model(support_vector_classifier, \"support_vector_classifier_ft300.joblib\")"
   ]
  },
  {
   "cell_type": "code",
   "execution_count": null,
   "metadata": {},
   "outputs": [],
   "source": [
    "train_preds = support_vector_classifier.predict(ft300_train)\n",
    "dev_preds = support_vector_classifier.predict(ft300_dev)\n",
    "test_preds = support_vector_classifier.predict(ft300_test)"
   ]
  },
  {
   "cell_type": "code",
   "execution_count": null,
   "metadata": {},
   "outputs": [
    {
     "name": "stdout",
     "output_type": "stream",
     "text": [
      "Accuracy Train:  0.9128371847816537\n",
      "Accuracy Dev:  0.9036229335209286\n",
      "Accuracy Test:  0.9111033028812369\n",
      "Weighted F1 Train:  0.8712416640051998\n",
      "Weighted F1 Dev:  0.85787410059692\n",
      "Weighted F1 Test:  0.8687225094212346\n",
      "Macro F1 Train:  0.31814423518603585\n",
      "Macro F1 Dev:  0.31645725548164577\n",
      "Macro F1 Test:  0.31782803211374644\n",
      "Micro F1 Train:  0.9128371847816537\n",
      "Micro F1 Dev:  0.9036229335209286\n",
      "Micro F1 Test:  0.9111033028812369\n",
      "Weighted Recall Train:  0.9128371847816537\n",
      "Weighted Recall Dev:  0.9036229335209286\n",
      "Weighted Recall Test:  0.9111033028812369\n",
      "Macro Recall Train:  0.3333333333333333\n",
      "Macro Recall Dev:  0.3333333333333333\n",
      "Macro Recall Test:  0.3333333333333333\n",
      "Micro Recall Train:  0.9128371847816537\n",
      "Micro Recall Dev:  0.9036229335209286\n",
      "Micro Recall Test:  0.9111033028812369\n",
      "Confusion Matrix Train: \n",
      "[[    0  1962     0]\n",
      " [    0 20778     0]\n",
      " [    0    22     0]]\n",
      "Confusion Matrix Dev: \n",
      "[[   0  272    0]\n",
      " [   0 2569    0]\n",
      " [   0    2    0]]\n",
      "Confusion Matrix Test: \n",
      "[[   0  250    0]\n",
      " [   0 2593    0]\n",
      " [   0    3    0]]\n"
     ]
    }
   ],
   "source": [
    "computeAllScores(train_preds, dev_preds, test_preds)"
   ]
  },
  {
   "cell_type": "markdown",
   "metadata": {},
   "source": [
    "### Word2Vec 300"
   ]
  },
  {
   "cell_type": "code",
   "execution_count": null,
   "metadata": {},
   "outputs": [],
   "source": [
    "w2v300_train, w2v300_dev, w2v300_test = load_word2vec_300()"
   ]
  },
  {
   "cell_type": "code",
   "execution_count": null,
   "metadata": {},
   "outputs": [],
   "source": [
    "# Set all NaN values to 0\n",
    "w2v300_train = np.nan_to_num(w2v300_train)\n",
    "w2v300_dev = np.nan_to_num(w2v300_dev)\n",
    "w2v300_test = np.nan_to_num(w2v300_test)"
   ]
  },
  {
   "cell_type": "code",
   "execution_count": null,
   "metadata": {},
   "outputs": [],
   "source": [
    "grid_results = gridsearch.fit(w2v300_train, train_labels)\n",
    "best_params = grid_results.best_params_\n",
    "support_vector_classifier = grid_results.best_estimator_"
   ]
  },
  {
   "cell_type": "code",
   "execution_count": null,
   "metadata": {},
   "outputs": [
    {
     "data": {
      "text/plain": [
       "{'alpha': 0.01, 'eta0': 1.0, 'max_iter': 100, 'penalty': 'l2'}"
      ]
     },
     "execution_count": 23,
     "metadata": {},
     "output_type": "execute_result"
    }
   ],
   "source": [
    "best_params"
   ]
  },
  {
   "cell_type": "code",
   "execution_count": null,
   "metadata": {},
   "outputs": [],
   "source": [
    "support_vector_classifier = support_vector_classifier.fit(w2v300_train, train_labels)\n",
    "save_model(support_vector_classifier, \"support_vector_classifier_w2v300.joblib\")"
   ]
  },
  {
   "cell_type": "code",
   "execution_count": null,
   "metadata": {},
   "outputs": [],
   "source": [
    "train_preds = support_vector_classifier.predict(w2v300_train)\n",
    "dev_preds = support_vector_classifier.predict(w2v300_dev)\n",
    "test_preds = support_vector_classifier.predict(w2v300_test)"
   ]
  },
  {
   "cell_type": "code",
   "execution_count": null,
   "metadata": {},
   "outputs": [
    {
     "name": "stdout",
     "output_type": "stream",
     "text": [
      "Accuracy Train:  0.9126175204287849\n",
      "Accuracy Dev:  0.9032711924023918\n",
      "Accuracy Test:  0.9111033028812369\n",
      "Weighted F1 Train:  0.871132047293869\n",
      "Weighted F1 Dev:  0.8576986484131379\n",
      "Weighted F1 Test:  0.8687225094212346\n",
      "Macro F1 Train:  0.3181042073427511\n",
      "Macro F1 Dev:  0.31639253372759196\n",
      "Macro F1 Test:  0.31782803211374644\n",
      "Micro F1 Train:  0.9126175204287849\n",
      "Micro F1 Dev:  0.9032711924023918\n",
      "Micro F1 Test:  0.9111033028812369\n",
      "Weighted Recall Train:  0.9126175204287849\n",
      "Weighted Recall Dev:  0.9032711924023918\n",
      "Weighted Recall Test:  0.9111033028812369\n",
      "Macro Recall Train:  0.33325312028748355\n",
      "Macro Recall Dev:  0.33320358115998444\n",
      "Macro Recall Test:  0.3333333333333333\n",
      "Micro Recall Train:  0.9126175204287849\n",
      "Micro Recall Dev:  0.9032711924023918\n",
      "Micro Recall Test:  0.9111033028812369\n",
      "Confusion Matrix Train: \n",
      "[[    0  1962     0]\n",
      " [    5 20773     0]\n",
      " [    0    22     0]]\n",
      "Confusion Matrix Dev: \n",
      "[[   0  272    0]\n",
      " [   1 2568    0]\n",
      " [   0    2    0]]\n",
      "Confusion Matrix Test: \n",
      "[[   0  250    0]\n",
      " [   0 2593    0]\n",
      " [   0    3    0]]\n"
     ]
    }
   ],
   "source": [
    "computeAllScores(train_preds, dev_preds, test_preds)"
   ]
  },
  {
   "cell_type": "markdown",
   "metadata": {},
   "source": [
    "### Sentence Transformer"
   ]
  },
  {
   "cell_type": "code",
   "execution_count": null,
   "metadata": {},
   "outputs": [],
   "source": [
    "train, dev, test = load_sent_trans()"
   ]
  },
  {
   "cell_type": "code",
   "execution_count": null,
   "metadata": {},
   "outputs": [],
   "source": [
    "grid_results = gridsearch.fit(train, train_labels)\n",
    "best_params = grid_results.best_params_\n",
    "support_vector_classifier = grid_results.best_estimator_"
   ]
  },
  {
   "cell_type": "code",
   "execution_count": null,
   "metadata": {},
   "outputs": [
    {
     "data": {
      "text/plain": [
       "{'alpha': 0.0001, 'eta0': 0.001, 'max_iter': 100, 'penalty': 'l2'}"
      ]
     },
     "execution_count": 47,
     "metadata": {},
     "output_type": "execute_result"
    }
   ],
   "source": [
    "best_params"
   ]
  },
  {
   "cell_type": "code",
   "execution_count": null,
   "metadata": {},
   "outputs": [],
   "source": [
    "support_vector_classifier = support_vector_classifier.fit(train, train_labels)\n",
    "save_model(support_vector_classifier, \"support_vector_classifier_better_no_pca.joblib\")"
   ]
  },
  {
   "cell_type": "code",
   "execution_count": null,
   "metadata": {},
   "outputs": [],
   "source": [
    "train_preds = support_vector_classifier.predict(train)\n",
    "dev_preds = support_vector_classifier.predict(dev)\n",
    "test_preds = support_vector_classifier.predict(test)"
   ]
  },
  {
   "cell_type": "code",
   "execution_count": null,
   "metadata": {},
   "outputs": [
    {
     "name": "stdout",
     "output_type": "stream",
     "text": [
      "Accuracy Train:  0.9280379580001757\n",
      "Accuracy Dev:  0.9215617305663032\n",
      "Accuracy Test:  0.9244553759662685\n",
      "Weighted F1 Train:  0.9215964199546101\n",
      "Weighted F1 Dev:  0.9146653507073376\n",
      "Weighted F1 Test:  0.9203758493574914\n",
      "Macro F1 Train:  0.49062131325026287\n",
      "Macro F1 Dev:  0.491946364227066\n",
      "Macro F1 Test:  0.4961027624687639\n",
      "Micro F1 Train:  0.9280379580001757\n",
      "Micro F1 Dev:  0.9215617305663032\n",
      "Micro F1 Test:  0.9244553759662685\n",
      "Weighted Recall Train:  0.9280379580001757\n",
      "Weighted Recall Dev:  0.9215617305663032\n",
      "Weighted Recall Test:  0.9244553759662685\n",
      "Macro Recall Train:  0.4682736553178208\n",
      "Macro Recall Dev:  0.47034351887894116\n",
      "Macro Recall Test:  0.4803825684535287\n",
      "Micro Recall Train:  0.9280379580001757\n",
      "Micro Recall Dev:  0.9215617305663032\n",
      "Micro Recall Test:  0.9244553759662685\n",
      "Confusion Matrix Train: \n",
      "[[  841  1112     9]\n",
      " [  492 20283     3]\n",
      " [    0    22     0]]\n",
      "Confusion Matrix Dev: \n",
      "[[ 119  153    0]\n",
      " [  68 2501    0]\n",
      " [   0    2    0]]\n",
      "Confusion Matrix Test: \n",
      "[[ 118  131    1]\n",
      " [  78 2513    2]\n",
      " [   0    3    0]]\n"
     ]
    }
   ],
   "source": [
    "computeAllScores(train_preds, dev_preds, test_preds)"
   ]
  }
 ],
 "metadata": {
  "kernelspec": {
   "display_name": "Python 3.9.13 64-bit (microsoft store)",
   "language": "python",
   "name": "python3"
  },
  "language_info": {
   "codemirror_mode": {
    "name": "ipython",
    "version": 3
   },
   "file_extension": ".py",
   "mimetype": "text/x-python",
   "name": "python",
   "nbconvert_exporter": "python",
   "pygments_lexer": "ipython3",
   "version": "3.9.13"
  },
  "orig_nbformat": 4,
  "vscode": {
   "interpreter": {
    "hash": "a5a87ee616be0254e3f1af9223138e3faeac65b2c9d91bc22a9fc5a4a8bd8eb0"
   }
  }
 },
 "nbformat": 4,
 "nbformat_minor": 2
}
