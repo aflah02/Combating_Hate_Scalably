{
 "cells": [
  {
   "cell_type": "code",
   "execution_count": 1,
   "metadata": {},
   "outputs": [
    {
     "name": "stdout",
     "output_type": "stream",
     "text": [
      "--ip=127.0.0.1\n"
     ]
    }
   ],
   "source": [
    "from embeddings_loader import *\n",
    "from sklearn.svm import SVC\n",
    "from sklearn.model_selection import GridSearchCV\n",
    "from sklearn.metrics import f1_score\n",
    "from sklearn.metrics import accuracy_score\n",
    "from sklearn.metrics import confusion_matrix\n",
    "from sklearn.metrics import classification_report\n",
    "from sklearn.metrics import recall_score\n",
    "from sklearn.metrics import precision_score\n",
    "from sklearn.metrics import roc_auc_score\n",
    "from utils import *"
   ]
  },
  {
   "cell_type": "code",
   "execution_count": 3,
   "metadata": {},
   "outputs": [],
   "source": [
    "train_labels, dev_labels = load_labels()"
   ]
  },
  {
   "cell_type": "code",
   "execution_count": 4,
   "metadata": {},
   "outputs": [],
   "source": [
    "label_replacement = {\n",
    "    'NOT': 1,\n",
    "    'OFF': 0,\n",
    "}"
   ]
  },
  {
   "cell_type": "code",
   "execution_count": 5,
   "metadata": {},
   "outputs": [],
   "source": [
    "# Replace labels with numbers\n",
    "train_labels = [label_replacement[label] for label in train_labels]\n",
    "dev_labels = [label_replacement[label] for label in dev_labels]"
   ]
  },
  {
   "cell_type": "code",
   "execution_count": 6,
   "metadata": {},
   "outputs": [],
   "source": [
    "support_vector_classifier = SVC()\n",
    "gridsearch = GridSearchCV(support_vector_classifier, param_grid = {\n",
    "    \"kernel\": [\"linear\", \"poly\", \"rbf\"],\n",
    "    \"C\": [0.1, 1, 10],\n",
    "}, scoring = \"f1_macro\")"
   ]
  },
  {
   "cell_type": "markdown",
   "metadata": {},
   "source": [
    "### Glove Twitter 25"
   ]
  },
  {
   "cell_type": "code",
   "execution_count": 6,
   "metadata": {},
   "outputs": [],
   "source": [
    "gt25_train, gt25_dev, gt25_test = load_glove_twitter_25()"
   ]
  },
  {
   "cell_type": "code",
   "execution_count": 7,
   "metadata": {},
   "outputs": [],
   "source": [
    "# Set all NaN values to 0\n",
    "gt25_train = np.nan_to_num(gt25_train)\n",
    "gt25_dev = np.nan_to_num(gt25_dev)\n",
    "gt25_test = np.nan_to_num(gt25_test)"
   ]
  },
  {
   "cell_type": "code",
   "execution_count": 8,
   "metadata": {},
   "outputs": [],
   "source": [
    "grid_results = gridsearch.fit(gt25_train, train_labels)\n",
    "best_params = grid_results.best_params_\n",
    "support_vector_classifier = grid_results.best_estimator_"
   ]
  },
  {
   "cell_type": "code",
   "execution_count": 9,
   "metadata": {},
   "outputs": [
    {
     "data": {
      "text/plain": [
       "{'C': 10, 'kernel': 'rbf'}"
      ]
     },
     "execution_count": 9,
     "metadata": {},
     "output_type": "execute_result"
    }
   ],
   "source": [
    "best_params"
   ]
  },
  {
   "cell_type": "code",
   "execution_count": 10,
   "metadata": {},
   "outputs": [],
   "source": [
    "support_vector_classifier = support_vector_classifier.fit(gt25_train, train_labels)\n",
    "save_model(support_vector_classifier, \"support_vector_classifier_gt25.joblib\")"
   ]
  },
  {
   "cell_type": "code",
   "execution_count": 11,
   "metadata": {},
   "outputs": [],
   "source": [
    "train_preds = support_vector_classifier.predict(gt25_train)\n",
    "dev_preds = support_vector_classifier.predict(gt25_dev)\n",
    "test_preds = support_vector_classifier.predict(gt25_test)"
   ]
  },
  {
   "cell_type": "code",
   "execution_count": 12,
   "metadata": {},
   "outputs": [
    {
     "name": "stdout",
     "output_type": "stream",
     "text": [
      "Accuracy Train:  0.7475453172205438\n",
      "Accuracy Dev:  0.725453172205438\n",
      "Accuracy Test:  0.7895348837209303\n",
      "Weighted F1 Train:  0.7168966782693725\n",
      "Weighted F1 Dev:  0.6928039176176084\n",
      "Weighted F1 Test:  0.767706758577008\n",
      "Macro F1 Train:  0.6563681230451947\n",
      "Macro F1 Dev:  0.6377377521478258\n",
      "Macro F1 Test:  0.6901863141406482\n",
      "Micro F1 Train:  0.7475453172205438\n",
      "Micro F1 Dev:  0.725453172205438\n",
      "Micro F1 Test:  0.7895348837209303\n",
      "Weighted Recall Train:  0.7475453172205438\n",
      "Weighted Recall Dev:  0.725453172205438\n",
      "Weighted Recall Test:  0.7895348837209303\n",
      "Macro Recall Train:  0.647065727628448\n",
      "Macro Recall Dev:  0.6339418992933699\n",
      "Macro Recall Test:  0.6701612903225806\n",
      "Micro Recall Train:  0.7475453172205438\n",
      "Micro Recall Dev:  0.725453172205438\n",
      "Micro Recall Test:  0.7895348837209303\n",
      "Confusion Matrix Train: \n",
      "[[1231 2254]\n",
      " [ 420 6687]]\n",
      "Confusion Matrix Dev: \n",
      "[[ 309  606]\n",
      " [ 121 1612]]\n",
      "Confusion Matrix Test: \n",
      "[[ 96 144]\n",
      " [ 37 583]]\n"
     ]
    }
   ],
   "source": [
    "computeAllScores(train_preds, dev_preds, test_preds)"
   ]
  },
  {
   "cell_type": "markdown",
   "metadata": {},
   "source": [
    "### FastText 300 "
   ]
  },
  {
   "cell_type": "code",
   "execution_count": 7,
   "metadata": {},
   "outputs": [],
   "source": [
    "ft300_train, ft300_dev, ft300_test = load_fasttext_300()"
   ]
  },
  {
   "cell_type": "code",
   "execution_count": 8,
   "metadata": {},
   "outputs": [],
   "source": [
    "# Set all NaN values to 0\n",
    "ft300_train = np.nan_to_num(ft300_train)\n",
    "ft300_dev = np.nan_to_num(ft300_dev)\n",
    "ft300_test = np.nan_to_num(ft300_test)"
   ]
  },
  {
   "cell_type": "code",
   "execution_count": 9,
   "metadata": {},
   "outputs": [],
   "source": [
    "grid_results = gridsearch.fit(ft300_train, train_labels)\n",
    "best_params = grid_results.best_params_\n",
    "support_vector_classifier = grid_results.best_estimator_"
   ]
  },
  {
   "cell_type": "code",
   "execution_count": null,
   "metadata": {},
   "outputs": [
    {
     "data": {
      "text/plain": [
       "{'C': 10, 'kernel': 'rbf'}"
      ]
     },
     "execution_count": 16,
     "metadata": {},
     "output_type": "execute_result"
    },
    {
     "ename": "",
     "evalue": "",
     "output_type": "error",
     "traceback": [
      "\u001b[1;31mnotebook controller is DISPOSED. \n",
      "\u001b[1;31mView Jupyter <a href='command:jupyter.viewOutput'>log</a> for further details."
     ]
    }
   ],
   "source": [
    "best_params"
   ]
  },
  {
   "cell_type": "code",
   "execution_count": 17,
   "metadata": {},
   "outputs": [],
   "source": [
    "support_vector_classifier = support_vector_classifier.fit(ft300_train, train_labels)\n",
    "save_model(support_vector_classifier, \"support_vector_classifier_ft300.joblib\")"
   ]
  },
  {
   "cell_type": "code",
   "execution_count": 18,
   "metadata": {},
   "outputs": [],
   "source": [
    "train_preds = support_vector_classifier.predict(ft300_train)\n",
    "dev_preds = support_vector_classifier.predict(ft300_dev)\n",
    "test_preds = support_vector_classifier.predict(ft300_test)"
   ]
  },
  {
   "cell_type": "code",
   "execution_count": 19,
   "metadata": {},
   "outputs": [
    {
     "name": "stdout",
     "output_type": "stream",
     "text": [
      "Accuracy Train:  0.8601774924471299\n",
      "Accuracy Dev:  0.7760574018126888\n",
      "Accuracy Test:  0.8174418604651162\n",
      "Weighted F1 Train:  0.8551616403383264\n",
      "Weighted F1 Dev:  0.7664600545579516\n",
      "Weighted F1 Test:  0.8057443596218022\n",
      "Macro F1 Train:  0.8312885571082529\n",
      "Macro F1 Dev:  0.7336122300626585\n",
      "Macro F1 Test:  0.7464770220156786\n",
      "Micro F1 Train:  0.8601774924471299\n",
      "Micro F1 Dev:  0.7760574018126888\n",
      "Micro F1 Test:  0.8174418604651161\n",
      "Weighted Recall Train:  0.8601774924471299\n",
      "Weighted Recall Dev:  0.7760574018126888\n",
      "Weighted Recall Test:  0.8174418604651162\n",
      "Macro Recall Train:  0.8138407200127423\n",
      "Macro Recall Dev:  0.7216100826451493\n",
      "Macro Recall Test:  0.7252688172043011\n",
      "Micro Recall Train:  0.8601774924471299\n",
      "Micro Recall Dev:  0.7760574018126888\n",
      "Micro Recall Test:  0.8174418604651162\n",
      "Confusion Matrix Train: \n",
      "[[2364 1121]\n",
      " [ 360 6747]]\n",
      "Confusion Matrix Dev: \n",
      "[[ 499  416]\n",
      " [ 177 1556]]\n",
      "Confusion Matrix Test: \n",
      "[[124 116]\n",
      " [ 41 579]]\n"
     ]
    }
   ],
   "source": [
    "computeAllScores(train_preds, dev_preds, test_preds)"
   ]
  },
  {
   "cell_type": "code",
   "execution_count": null,
   "metadata": {},
   "outputs": [],
   "source": [
    "save_list = []\n",
    "for i, j in enumerate(test_preds):\n",
    "    save_list.append([i, j])\n",
    "df_pred = pd.DataFrame(save_list, columns = [\"id\", \"label\"])\n",
    "df_pred.to_csv(\"svm_pred.csv\", index = False)"
   ]
  },
  {
   "cell_type": "markdown",
   "metadata": {},
   "source": [
    "### Word2Vec 300"
   ]
  },
  {
   "cell_type": "code",
   "execution_count": 20,
   "metadata": {},
   "outputs": [],
   "source": [
    "w2v300_train, w2v300_dev, w2v300_test = load_word2vec_300()"
   ]
  },
  {
   "cell_type": "code",
   "execution_count": 21,
   "metadata": {},
   "outputs": [],
   "source": [
    "# Set all NaN values to 0\n",
    "w2v300_train = np.nan_to_num(w2v300_train)\n",
    "w2v300_dev = np.nan_to_num(w2v300_dev)\n",
    "w2v300_test = np.nan_to_num(w2v300_test)"
   ]
  },
  {
   "cell_type": "code",
   "execution_count": 22,
   "metadata": {},
   "outputs": [],
   "source": [
    "grid_results = gridsearch.fit(w2v300_train, train_labels)\n",
    "best_params = grid_results.best_params_\n",
    "support_vector_classifier = grid_results.best_estimator_"
   ]
  },
  {
   "cell_type": "code",
   "execution_count": 23,
   "metadata": {},
   "outputs": [
    {
     "data": {
      "text/plain": [
       "{'C': 10, 'kernel': 'rbf'}"
      ]
     },
     "execution_count": 23,
     "metadata": {},
     "output_type": "execute_result"
    }
   ],
   "source": [
    "best_params"
   ]
  },
  {
   "cell_type": "code",
   "execution_count": 24,
   "metadata": {},
   "outputs": [],
   "source": [
    "support_vector_classifier = support_vector_classifier.fit(w2v300_train, train_labels)\n",
    "save_model(support_vector_classifier, \"support_vector_classifier_w2v300.joblib\")"
   ]
  },
  {
   "cell_type": "code",
   "execution_count": 25,
   "metadata": {},
   "outputs": [],
   "source": [
    "train_preds = support_vector_classifier.predict(w2v300_train)\n",
    "dev_preds = support_vector_classifier.predict(w2v300_dev)\n",
    "test_preds = support_vector_classifier.predict(w2v300_test)"
   ]
  },
  {
   "cell_type": "code",
   "execution_count": 26,
   "metadata": {},
   "outputs": [
    {
     "name": "stdout",
     "output_type": "stream",
     "text": [
      "Accuracy Train:  0.9217333836858006\n",
      "Accuracy Dev:  0.7654833836858006\n",
      "Accuracy Test:  0.8023255813953488\n",
      "Weighted F1 Train:  0.9203809589771392\n",
      "Weighted F1 Dev:  0.7607127363748155\n",
      "Weighted F1 Test:  0.7911509698035536\n",
      "Macro F1 Train:  0.9084625105713686\n",
      "Macro F1 Dev:  0.7309235035474431\n",
      "Macro F1 Test:  0.7287046109082271\n",
      "Micro F1 Train:  0.9217333836858006\n",
      "Micro F1 Dev:  0.7654833836858006\n",
      "Micro F1 Test:  0.8023255813953488\n",
      "Weighted Recall Train:  0.9217333836858006\n",
      "Weighted Recall Dev:  0.7654833836858006\n",
      "Weighted Recall Test:  0.8023255813953488\n",
      "Macro Recall Train:  0.8963435326256026\n",
      "Macro Recall Dev:  0.7238488486121227\n",
      "Macro Recall Test:  0.7109543010752688\n",
      "Micro Recall Train:  0.9217333836858006\n",
      "Micro Recall Dev:  0.7654833836858006\n",
      "Micro Recall Test:  0.8023255813953488\n",
      "Confusion Matrix Train: \n",
      "[[2865  620]\n",
      " [ 209 6898]]\n",
      "Confusion Matrix Dev: \n",
      "[[ 539  376]\n",
      " [ 245 1488]]\n",
      "Confusion Matrix Test: \n",
      "[[121 119]\n",
      " [ 51 569]]\n"
     ]
    }
   ],
   "source": [
    "computeAllScores(train_preds, dev_preds, test_preds)"
   ]
  },
  {
   "cell_type": "markdown",
   "metadata": {},
   "source": [
    "### Sentence Transformer"
   ]
  },
  {
   "cell_type": "code",
   "execution_count": 27,
   "metadata": {},
   "outputs": [],
   "source": [
    "train, dev, test = load_sent_trans()"
   ]
  },
  {
   "cell_type": "code",
   "execution_count": 28,
   "metadata": {},
   "outputs": [],
   "source": [
    "grid_results = gridsearch.fit(train, train_labels)\n",
    "best_params = grid_results.best_params_\n",
    "support_vector_classifier = grid_results.best_estimator_"
   ]
  },
  {
   "cell_type": "code",
   "execution_count": 29,
   "metadata": {},
   "outputs": [
    {
     "data": {
      "text/plain": [
       "{'C': 10, 'kernel': 'linear'}"
      ]
     },
     "execution_count": 29,
     "metadata": {},
     "output_type": "execute_result"
    }
   ],
   "source": [
    "best_params"
   ]
  },
  {
   "cell_type": "code",
   "execution_count": 30,
   "metadata": {},
   "outputs": [],
   "source": [
    "support_vector_classifier = support_vector_classifier.fit(train, train_labels)\n",
    "save_model(support_vector_classifier, \"support_vector_classifier_better_no_pca.joblib\")"
   ]
  },
  {
   "cell_type": "code",
   "execution_count": 31,
   "metadata": {},
   "outputs": [],
   "source": [
    "train_preds = support_vector_classifier.predict(train)\n",
    "dev_preds = support_vector_classifier.predict(dev)\n",
    "test_preds = support_vector_classifier.predict(test)"
   ]
  },
  {
   "cell_type": "code",
   "execution_count": 32,
   "metadata": {},
   "outputs": [
    {
     "name": "stdout",
     "output_type": "stream",
     "text": [
      "Accuracy Train:  0.8033421450151057\n",
      "Accuracy Dev:  0.7643504531722054\n",
      "Accuracy Test:  0.8069767441860465\n",
      "Weighted F1 Train:  0.7958439702076071\n",
      "Weighted F1 Dev:  0.7569223018374682\n",
      "Weighted F1 Test:  0.7991354013093129\n",
      "Macro F1 Train:  0.7618534956734898\n",
      "Macro F1 Dev:  0.7246019412427074\n",
      "Macro F1 Test:  0.7418332802870287\n",
      "Micro F1 Train:  0.8033421450151057\n",
      "Micro F1 Dev:  0.7643504531722054\n",
      "Micro F1 Test:  0.8069767441860464\n",
      "Weighted Recall Train:  0.8033421450151057\n",
      "Weighted Recall Dev:  0.7643504531722054\n",
      "Weighted Recall Test:  0.8069767441860465\n",
      "Macro Recall Train:  0.7480900779012508\n",
      "Macro Recall Dev:  0.7152453655967888\n",
      "Macro Recall Test:  0.7269489247311828\n",
      "Micro Recall Train:  0.8033421450151057\n",
      "Micro Recall Dev:  0.7643504531722054\n",
      "Micro Recall Test:  0.8069767441860465\n",
      "Confusion Matrix Train: \n",
      "[[2044 1441]\n",
      " [ 642 6465]]\n",
      "Confusion Matrix Dev: \n",
      "[[ 509  406]\n",
      " [ 218 1515]]\n",
      "Confusion Matrix Test: \n",
      "[[131 109]\n",
      " [ 57 563]]\n"
     ]
    }
   ],
   "source": [
    "computeAllScores(train_preds, dev_preds, test_preds)"
   ]
  }
 ],
 "metadata": {
  "kernelspec": {
   "display_name": "Python 3.9.13 64-bit (microsoft store)",
   "language": "python",
   "name": "python3"
  },
  "language_info": {
   "codemirror_mode": {
    "name": "ipython",
    "version": 3
   },
   "file_extension": ".py",
   "mimetype": "text/x-python",
   "name": "python",
   "nbconvert_exporter": "python",
   "pygments_lexer": "ipython3",
   "version": "3.9.13"
  },
  "orig_nbformat": 4,
  "vscode": {
   "interpreter": {
    "hash": "a5a87ee616be0254e3f1af9223138e3faeac65b2c9d91bc22a9fc5a4a8bd8eb0"
   }
  }
 },
 "nbformat": 4,
 "nbformat_minor": 2
}
