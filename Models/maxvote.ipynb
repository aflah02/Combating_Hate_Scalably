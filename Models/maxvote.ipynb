{
 "cells": [
  {
   "cell_type": "code",
   "execution_count": null,
   "metadata": {},
   "outputs": [],
   "source": [
    "import pandas as pd"
   ]
  },
  {
   "cell_type": "code",
   "execution_count": null,
   "metadata": {},
   "outputs": [],
   "source": []
  },
  {
   "cell_type": "code",
   "execution_count": null,
   "metadata": {},
   "outputs": [],
   "source": [
    "# load Bertweet4500Preds, HateBERT2000Preds, BertBaseUncased3500Preds\n",
    "\n",
    "df_bertweet = pd.read_csv('Bertweet4500Preds.csv')\n",
    "\n",
    "df_hatebert = pd.read_csv('HateBERT4500Preds.csv')\n",
    "\n",
    "df_bertbase = pd.read_csv('BertBaseUncased3500Preds.csv')\n",
    "\n",
    "df_bertolid = pd.read_csv('bertbaseuncasedolid.csv')\n",
    "\n",
    "df_kung = pd.read_csv('kungfupred.csv')\n",
    "df_hat5 = pd.read_csv('Hat5RoBERTa4500Preds.csv')"
   ]
  },
  {
   "cell_type": "code",
   "execution_count": null,
   "metadata": {},
   "outputs": [],
   "source": [
    "bertweet_ls = df_bertweet['label'].tolist()\n",
    "hate_ls = df_hatebert['label'].tolist()\n",
    "base_ls = df_bertbase['label'].tolist()\n",
    "olid_ls = df_bertolid['label'].tolist()\n",
    "kung_ls = df_kung['label'].tolist()\n",
    "hat5_ls = df_hat5['label'].tolist()"
   ]
  },
  {
   "cell_type": "code",
   "execution_count": null,
   "metadata": {},
   "outputs": [],
   "source": [
    "all_ls = [bertweet_ls, hate_ls, base_ls, olid_ls, kung_ls, hat5_ls]\n",
    "ls_names = ['bertweet', 'hatebert', 'bertbase', 'bertolid', 'kung', 'hat5']"
   ]
  },
  {
   "cell_type": "code",
   "execution_count": null,
   "metadata": {},
   "outputs": [],
   "source": [
    "# For Chosen config run on test\n",
    "maxvote_ls = []\n",
    "for i in range(len(all_ls[0])):\n",
    "    ls_pred = [x[i] for x in all_ls]\n",
    "    # Find key in config_to_ls that has the same list of predictions\n",
    "    count_1 = ls_pred.count(1)\n",
    "    count_0 = ls_pred.count(0)\n",
    "    if count_1 > count_0:\n",
    "        maxvote_ls.append(1)\n",
    "    else:\n",
    "        maxvote_ls.append(0)"
   ]
  },
  {
   "cell_type": "code",
   "execution_count": null,
   "metadata": {},
   "outputs": [],
   "source": [
    "# write to df\n",
    "df = pd.DataFrame(maxvote_ls, columns=['id', 'label'], index=None)"
   ]
  },
  {
   "cell_type": "code",
   "execution_count": null,
   "metadata": {},
   "outputs": [],
   "source": [
    "df.to_csv('MaxVotePreds.csv', index=False)"
   ]
  },
  {
   "cell_type": "code",
   "execution_count": null,
   "metadata": {},
   "outputs": [],
   "source": [
    "# copute f1\n",
    "from sklearn.metrics import f1_score\n",
    "f1_score(labels, df['label'].tolist(), average='macro')"
   ]
  },
  {
   "cell_type": "code",
   "execution_count": null,
   "metadata": {},
   "outputs": [],
   "source": []
  }
 ],
 "metadata": {
  "kernelspec": {
   "display_name": "Python 3.9.13 64-bit (microsoft store)",
   "language": "python",
   "name": "python3"
  },
  "language_info": {
   "codemirror_mode": {
    "name": "ipython",
    "version": 3
   },
   "file_extension": ".py",
   "mimetype": "text/x-python",
   "name": "python",
   "nbconvert_exporter": "python",
   "pygments_lexer": "ipython3",
   "version": "3.9.13"
  },
  "orig_nbformat": 4,
  "vscode": {
   "interpreter": {
    "hash": "a5a87ee616be0254e3f1af9223138e3faeac65b2c9d91bc22a9fc5a4a8bd8eb0"
   }
  }
 },
 "nbformat": 4,
 "nbformat_minor": 2
}
