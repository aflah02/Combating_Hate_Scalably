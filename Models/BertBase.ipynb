{
 "cells": [
  {
   "cell_type": "code",
   "execution_count": null,
   "metadata": {},
   "outputs": [],
   "source": [
    "# !pip install transformers -q\n",
    "# !pip install datasets -q\n",
    "# !pip install evaluate -q"
   ]
  },
  {
   "cell_type": "code",
   "execution_count": null,
   "metadata": {},
   "outputs": [],
   "source": [
    "import os\n",
    "os.environ[\"WANDB_DISABLED\"] = \"true\"\n",
    "import evaluate\n",
    "# from datasets import load_dataset\n",
    "\n",
    "import pandas as pd\n",
    "\n",
    "df_train = pd.read_csv('/home/aflah20082/NLP_Project/Data/PreprocessedData/train_preprocessed.csv')\n",
    "df_test = pd.read_csv('/home/aflah20082/NLP_Project/Data/PreprocessedData/test_preprocessed.csv')\n",
    "df_val = pd.read_csv('/home/aflah20082/NLP_Project/Data/PreprocessedData/val_preprocessed.csv')\n",
    "\n",
    "df_train = df_train[['preprocessed_text', 'label']]\n",
    "df_test = df_test[['preprocessed_text']]\n",
    "df_val = df_val[['preprocessed_text', 'label']]"
   ]
  },
  {
   "cell_type": "code",
   "execution_count": null,
   "metadata": {},
   "outputs": [],
   "source": [
    "df_train = df_train.rename(columns={'preprocessed_text': 'text', 'label': 'label'})\n",
    "df_test = df_test.rename(columns={'preprocessed_text': 'text'})\n",
    "df_val = df_val.rename(columns={'preprocessed_text': 'text', 'label': 'label'})"
   ]
  },
  {
   "cell_type": "code",
   "execution_count": null,
   "metadata": {},
   "outputs": [],
   "source": [
    "# Change Label to 0 and 1\n",
    "df_train['label'] = df_train['label'].replace({'NOT': 1, 'OFF': 0})\n",
    "df_val['label'] = df_val['label'].replace({'NOT': 1, 'OFF': 0})"
   ]
  },
  {
   "cell_type": "code",
   "execution_count": null,
   "metadata": {},
   "outputs": [],
   "source": [
    "import datasets\n",
    "from datasets import Dataset, DatasetDict\n",
    "tds = Dataset.from_pandas(df_train[['text', 'label']], preserve_index=False)\n",
    "vds = Dataset.from_pandas(df_val[['text', 'label']], preserve_index=False)\n",
    "testds = Dataset.from_pandas(df_test[['text']], preserve_index=False)\n",
    "\n",
    "ds = DatasetDict()\n",
    "\n",
    "ds['train'] = tds\n",
    "ds['validation'] = vds\n",
    "ds['test'] = testds"
   ]
  },
  {
   "cell_type": "code",
   "execution_count": null,
   "metadata": {},
   "outputs": [],
   "source": [
    "from transformers import AutoTokenizer, AutoModelForMaskedLM\n",
    "\n",
    "tokenizer = AutoTokenizer.from_pretrained(\"bert-base-uncased\")\n",
    "\n",
    "def tokenize_function(examples):\n",
    "    return tokenizer(examples[\"text\"], padding=\"max_length\", truncation=True)\n",
    "\n",
    "tokenized_datasets = ds.map(tokenize_function, batched=True)"
   ]
  },
  {
   "cell_type": "code",
   "execution_count": null,
   "metadata": {},
   "outputs": [],
   "source": [
    "small_train_dataset = tokenized_datasets[\"train\"].shuffle(seed=42)\n",
    "small_eval_dataset = tokenized_datasets[\"validation\"].shuffle(seed=42)"
   ]
  },
  {
   "cell_type": "code",
   "execution_count": null,
   "metadata": {},
   "outputs": [],
   "source": [
    "from transformers import AutoModelForSequenceClassification\n",
    "\n",
    "model = AutoModelForSequenceClassification.from_pretrained(\"bert-base-uncased\", num_labels=2)"
   ]
  },
  {
   "cell_type": "code",
   "execution_count": null,
   "metadata": {},
   "outputs": [],
   "source": [
    "import numpy as np\n",
    "metric1 = evaluate.load(\"accuracy\")\n",
    "metric2 = evaluate.load(\"precision\")\n",
    "metric3 = evaluate.load(\"recall\")\n",
    "\n",
    "metric = evaluate.load(\"accuracy\")\n",
    "\n",
    "def compute_metrics(eval_pred):\n",
    "    logits, labels = eval_pred\n",
    "    predictions = np.argmax(logits, axis=-1)\n",
    "    return metric.compute(predictions=predictions, references=labels)"
   ]
  },
  {
   "cell_type": "code",
   "execution_count": null,
   "metadata": {},
   "outputs": [],
   "source": [
    "from transformers import TrainingArguments, Trainer\n",
    "\n",
    "model = AutoModelForSequenceClassification.from_pretrained(\"bert-base-uncased\", num_labels=2) \n",
    "training_args = TrainingArguments(output_dir=f\"BertBaseUncasedSaves\", evaluation_strategy=\"epoch\")\n",
    "trainer = Trainer(\n",
    "    model=model,\n",
    "    args=training_args,\n",
    "    train_dataset=small_train_dataset,\n",
    "    eval_dataset=small_eval_dataset,\n",
    "    compute_metrics=compute_metrics,\n",
    ")\n",
    "\n",
    "trainer.train()\n",
    "predictions = trainer.predict(tokenized_datasets[\"validation\"])\n",
    "preds = np.argmax(predictions.predictions, axis=-1)\n",
    "accuracy = metric1.compute(predictions=preds, references=predictions.label_ids)\n",
    "precision = metric2.compute(predictions=preds, references=predictions.label_ids)\n",
    "recall = metric3.compute(predictions=preds, references=predictions.label_ids)\n",
    "# Write to Txt File\n",
    "with open(f\"/home/aflah20082/NLP_Project/Models/BertBaseUncased.txt\", \"w\") as f:\n",
    "    f.write(f\"Accuracy: {accuracy}\\n\")\n",
    "    f.write(f\"Precision: {precision}\\n\")\n",
    "    f.write(f\"Recall: {recall}\\n\")\n"
   ]
  },
  {
   "cell_type": "code",
   "execution_count": null,
   "metadata": {},
   "outputs": [],
   "source": [
    "checkpoints = ['500', '1000', '1500', '2000', '2500', '3000', '3500']\n",
    "ls_results = []\n",
    "for checkpoint in checkpoints:\n",
    "    model = AutoModelForSequenceClassification.from_pretrained(f\"/home/aflah20082/NLP_Project/Models/BertBaseUncasedSaves/checkpoint-{checkpoint}\", num_labels=2)\n",
    "    training_args = TrainingArguments(output_dir=f\"/home/aflah20082/NLP_Project/Models/BertBaseUncasedSaves/checkpoint-{checkpoint}\", evaluation_strategy=\"epoch\")\n",
    "    trainer = Trainer(\n",
    "        model=model,\n",
    "        args=training_args,\n",
    "        train_dataset=small_train_dataset,\n",
    "        eval_dataset=small_eval_dataset,\n",
    "        compute_metrics=compute_metrics,\n",
    "    )\n",
    "    print(f\"Checkpoint: {checkpoint}\")\n",
    "    # Accuracy\n",
    "    metric = evaluate.load(\"accuracy\")\n",
    "    # Predictions for Test Data\n",
    "    predictions = trainer.predict(tokenized_datasets[\"validation\"])\n",
    "    preds = np.argmax(predictions.predictions, axis=-1)\n",
    "    accuracy = metric1.compute(predictions=preds, references=predictions.label_ids)\n",
    "    precision = metric2.compute(predictions=preds, references=predictions.label_ids)\n",
    "    recall = metric3.compute(predictions=preds, references=predictions.label_ids)\n",
    "    # Macro F1 Score SKLearn\n",
    "    from sklearn.metrics import f1_score\n",
    "    macro_f1 = f1_score(predictions.label_ids, preds, average='macro')\n",
    "    print(f\"Accuracy: {accuracy}\")\n",
    "    print(f\"Precision: {precision}\")\n",
    "    print(f\"Recall: {recall}\")\n",
    "    print(f\"Macro F1: {macro_f1}\")\n",
    "    ls_results.append([checkpoint, accuracy, precision, recall, macro_f1])"
   ]
  },
  {
   "cell_type": "code",
   "execution_count": null,
   "metadata": {},
   "outputs": [],
   "source": [
    "# print results\n",
    "df_results = pd.DataFrame(ls_results, columns=['checkpoint', 'accuracy', 'precision', 'recall', 'macro_f1'])\n",
    "df_results "
   ]
  },
  {
   "cell_type": "code",
   "execution_count": null,
   "metadata": {},
   "outputs": [],
   "source": [
    "# load Best checkpoint: 3500 Here\n",
    "model = AutoModelForSequenceClassification.from_pretrained(f\"/home/aflah20082/NLP_Project/Models/BertBaseUncasedSaves/checkpoint-3500\", num_labels=2)\n",
    "training_args = TrainingArguments(output_dir=f\"/home/aflah20082/NLP_Project/Models/BertBaseUncasedSaves/checkpoint-3500\", evaluation_strategy=\"epoch\", num_train_epochs=1)\n",
    "trainer = Trainer(\n",
    "    model=model,\n",
    "    args=training_args,\n",
    "    train_dataset=small_eval_dataset,\n",
    "    eval_dataset=small_eval_dataset,\n",
    "    compute_metrics=compute_metrics,\n",
    ")\n",
    "# Finetune on Validation Data for 1 Epoch\n",
    "trainer.train()\n",
    "# Get Predictions\n",
    "predictions = trainer.predict(tokenized_datasets[\"test\"])\n",
    "preds = np.argmax(predictions.predictions, axis=-1)"
   ]
  },
  {
   "cell_type": "code",
   "execution_count": null,
   "metadata": {},
   "outputs": [],
   "source": [
    "ls = []\n",
    "for i in range(len(preds)):\n",
    "    ls.append([i, preds[i]])\n",
    "df = pd.DataFrame(ls, columns=['id', 'label'])"
   ]
  },
  {
   "cell_type": "code",
   "execution_count": null,
   "metadata": {},
   "outputs": [],
   "source": [
    "df"
   ]
  },
  {
   "cell_type": "code",
   "execution_count": null,
   "metadata": {},
   "outputs": [],
   "source": []
  }
 ],
 "metadata": {
  "kernelspec": {
   "display_name": "Python 3.9.13 64-bit (microsoft store)",
   "language": "python",
   "name": "python3"
  },
  "language_info": {
   "codemirror_mode": {
    "name": "ipython",
    "version": 3
   },
   "file_extension": ".py",
   "mimetype": "text/x-python",
   "name": "python",
   "nbconvert_exporter": "python",
   "pygments_lexer": "ipython3",
   "version": "3.9.13"
  },
  "orig_nbformat": 4,
  "vscode": {
   "interpreter": {
    "hash": "a5a87ee616be0254e3f1af9223138e3faeac65b2c9d91bc22a9fc5a4a8bd8eb0"
   }
  }
 },
 "nbformat": 4,
 "nbformat_minor": 2
}
