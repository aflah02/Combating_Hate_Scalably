{
 "cells": [
  {
   "cell_type": "code",
   "execution_count": 2,
   "metadata": {},
   "outputs": [
    {
     "name": "stdout",
     "output_type": "stream",
     "text": [
      "--ip=127.0.0.1\n",
      "WARNING:tensorflow:Mixed precision compatibility check (mixed_float16): WARNING\n",
      "The dtype policy mixed_float16 may run slowly because this machine does not have a GPU. Only Nvidia GPUs with compute capability of at least 7.0 run quickly with mixed_float16.\n",
      "If you will use compatible GPU(s) not attached to this host, e.g. by running a multi-worker model, you can ignore this warning. This message will only be logged once\n"
     ]
    }
   ],
   "source": [
    "import os\n",
    "\n",
    "import keras_nlp\n",
    "import tensorflow as tf\n",
    "from tensorflow import keras\n",
    "import pandas as pd\n",
    "from utils import *\n",
    "import numpy as np\n",
    "\n",
    "policy = keras.mixed_precision.Policy(\"mixed_float16\")\n",
    "keras.mixed_precision.set_global_policy(policy)"
   ]
  },
  {
   "cell_type": "code",
   "execution_count": 3,
   "metadata": {},
   "outputs": [],
   "source": [
    "train_labels, dev_labels, _ = load_labels()"
   ]
  },
  {
   "cell_type": "code",
   "execution_count": 4,
   "metadata": {},
   "outputs": [],
   "source": [
    "label_replacement = {\n",
    "    'NOT': 0,\n",
    "    'OFF': 1,\n",
    "}"
   ]
  },
  {
   "cell_type": "code",
   "execution_count": 5,
   "metadata": {},
   "outputs": [],
   "source": [
    "# Preprocessing params.\n",
    "BATCH_SIZE = 32\n",
    "SEQ_LENGTH = 128\n",
    "\n",
    "# Model params.\n",
    "LSTM_UNITS = 64\n",
    "MODEL_DIM = 256\n",
    "INTERMEDIATE_DIM = 512\n",
    "NUM_HEADS = 4\n",
    "DROPOUT = 0.1\n",
    "NORM_EPSILON = 1e-5\n",
    "\n",
    "# Training params.\n",
    "LEARNING_RATE = 5e-5\n",
    "EPOCHS = 3"
   ]
  },
  {
   "cell_type": "markdown",
   "metadata": {},
   "source": [
    "## Finetuning"
   ]
  },
  {
   "cell_type": "code",
   "execution_count": 6,
   "metadata": {},
   "outputs": [],
   "source": [
    "df_train = pd.read_csv(\"../Data/PreprocessedData/train_preprocessed.csv\")\n",
    "df_test = pd.read_csv(\"../Data/PreprocessedData/test_preprocessed.csv\")\n",
    "df_val = pd.read_csv(\"../Data/PreprocessedData/val_preprocessed.csv\")\n",
    "\n",
    "df_train = df_train[['preprocessed_text', 'label']]\n",
    "df_test = df_test[['preprocessed_text', 'label']]\n",
    "df_val = df_val[['preprocessed_text', 'label']]"
   ]
  },
  {
   "cell_type": "code",
   "execution_count": 7,
   "metadata": {},
   "outputs": [],
   "source": [
    "# Convert DataFrame to tf.data.Dataset\n",
    "train_ds = tf.data.Dataset.from_tensor_slices((df_train['preprocessed_text'].values, df_train['label'].values))\n",
    "test_ds = tf.data.Dataset.from_tensor_slices((df_test['preprocessed_text'].values, df_test['label'].values))\n",
    "val_ds = tf.data.Dataset.from_tensor_slices((df_val['preprocessed_text'].values, df_val['label'].values))"
   ]
  },
  {
   "cell_type": "code",
   "execution_count": 8,
   "metadata": {},
   "outputs": [],
   "source": [
    "# Batch and shuffle the dataset\n",
    "train_ds = train_ds.batch(BATCH_SIZE).shuffle(10000)\n",
    "test_ds = test_ds.batch(BATCH_SIZE)\n",
    "val_ds = val_ds.batch(BATCH_SIZE).shuffle(10000)"
   ]
  },
  {
   "cell_type": "code",
   "execution_count": null,
   "metadata": {},
   "outputs": [],
   "source": [
    "# Take as input the tokenized input.\n",
    "inputs = keras.Input(shape=(SEQ_LENGTH,), dtype=tf.int32)\n",
    "\n",
    "# Add an embedding layer\n",
    "embedding_layer = keras.layers.Embedding()\n",
    "embedding_outputs = embedding_layer(inputs)\n",
    "\n",
    "# Add 2 LSTM layer\n",
    "lstm_layer = keras.layers.LSTM(LSTM_UNITS, activation = \"relu\", return_sequences=True)(embedding_outputs)\n",
    "lstm_layer = keras.layers.LSTM(LSTM_UNITS, activation = \"relu\")(lstm_layer)\n",
    "\n",
    "# Predict an output label.\n",
    "outputs = keras.layers.Dense(1, activation=\"sigmoid\")(lstm_layer)\n",
    "\n",
    "# Define and compile our finetuning model.\n",
    "finetuning_model = keras.Model(inputs, outputs)\n",
    "finetuning_model.compile(\n",
    "    loss=\"binary_crossentropy\",\n",
    "    optimizer=keras.optimizers.Adam(learning_rate=LEARNING_RATE),\n",
    "    metrics=[\"accuracy\"],\n",
    ")\n",
    "\n",
    "# Finetune the model for the SST-2 task.\n",
    "finetuning_model.fit(\n",
    "    train_ds, validation_data=val_ds, epochs=EPOCHS,\n",
    ")"
   ]
  },
  {
   "cell_type": "code",
   "execution_count": null,
   "metadata": {},
   "outputs": [],
   "source": [
    "# Add our tokenization into our final model.\n",
    "inputs = keras.Input(shape=(), dtype=tf.string)\n",
    "tokens = tokenizer(inputs)\n",
    "outputs = finetuning_model(tokens)\n",
    "final_model = keras.Model(inputs, outputs)\n",
    "final_model.save(\"final_model\")\n",
    "\n",
    "# This model can predict directly on raw text.\n",
    "restored_model = keras.models.load_model(\"final_model\", compile=False)\n",
    "inference_data = tf.constant([\"Terrible, no good, trash.\", \"So great; I loved it!\"])\n",
    "print(restored_model(inference_data))"
   ]
  },
  {
   "cell_type": "code",
   "execution_count": null,
   "metadata": {},
   "outputs": [],
   "source": [
    "# Predictions\n",
    "train_pred = final_model.predict(finetune_train_ds)\n",
    "test_pred = final_model.predict(finetune_test_ds)\n",
    "val_pred = final_model.predict(finetune_val_ds)\n",
    "\n",
    "# Convert predictions to labels\n",
    "train_pred = np.where(train_pred > 0.5, 1, 0)\n",
    "test_pred = np.where(test_pred > 0.5, 1, 0)\n",
    "val_pred = np.where(val_pred > 0.5, 1, 0)\n",
    "\n",
    "# Convert labels to numpy arrays\n",
    "computeAllScores(train_pred, val_pred, test_pred)"
   ]
  }
 ],
 "metadata": {
  "kernelspec": {
   "display_name": "Python 3.10.2 ('venv': venv)",
   "language": "python",
   "name": "python3"
  },
  "language_info": {
   "codemirror_mode": {
    "name": "ipython",
    "version": 3
   },
   "file_extension": ".py",
   "mimetype": "text/x-python",
   "name": "python",
   "nbconvert_exporter": "python",
   "pygments_lexer": "ipython3",
   "version": "3.10.2"
  },
  "orig_nbformat": 4,
  "vscode": {
   "interpreter": {
    "hash": "20d1fca357f405521ace12b74f8f225b4b452b0790d4cac507474c909b88285c"
   }
  }
 },
 "nbformat": 4,
 "nbformat_minor": 2
}
