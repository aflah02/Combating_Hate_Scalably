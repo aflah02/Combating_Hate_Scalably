{
 "cells": [
  {
   "cell_type": "code",
   "execution_count": 1,
   "metadata": {},
   "outputs": [
    {
     "name": "stdout",
     "output_type": "stream",
     "text": [
      "--ip=127.0.0.1\n",
      "WARNING:tensorflow:Mixed precision compatibility check (mixed_float16): WARNING\n",
      "The dtype policy mixed_float16 may run slowly because this machine does not have a GPU. Only Nvidia GPUs with compute capability of at least 7.0 run quickly with mixed_float16.\n",
      "If you will use compatible GPU(s) not attached to this host, e.g. by running a multi-worker model, you can ignore this warning. This message will only be logged once\n"
     ]
    }
   ],
   "source": [
    "import os\n",
    "\n",
    "import keras_nlp\n",
    "import tensorflow as tf\n",
    "from tensorflow import keras\n",
    "from keras.preprocessing.text import Tokenizer\n",
    "from keras.utils import pad_sequences\n",
    "import pandas as pd\n",
    "from utils import *\n",
    "import numpy as np\n",
    "\n",
    "policy = keras.mixed_precision.Policy(\"mixed_float16\")\n",
    "keras.mixed_precision.set_global_policy(policy)"
   ]
  },
  {
   "cell_type": "code",
   "execution_count": 2,
   "metadata": {},
   "outputs": [],
   "source": [
    "train_labels, dev_labels, _ = load_labels()"
   ]
  },
  {
   "cell_type": "code",
   "execution_count": 3,
   "metadata": {},
   "outputs": [],
   "source": [
    "label_replacement = {\n",
    "    'OFF': 0,\n",
    "    'NOT': 1,\n",
    "}"
   ]
  },
  {
   "cell_type": "code",
   "execution_count": 4,
   "metadata": {},
   "outputs": [],
   "source": [
    "# Preprocessing params.\n",
    "BATCH_SIZE = 32\n",
    "SEQ_LENGTH = 128\n",
    "\n",
    "# Model params.\n",
    "LSTM_UNITS = 64\n",
    "MODEL_DIM = 256\n",
    "INTERMEDIATE_DIM = 512\n",
    "NUM_HEADS = 4\n",
    "DROPOUT = 0.2\n",
    "NORM_EPSILON = 1e-5\n",
    "\n",
    "# Training params.\n",
    "LEARNING_RATE = 5e-5\n",
    "EPOCHS = 3"
   ]
  },
  {
   "cell_type": "code",
   "execution_count": 5,
   "metadata": {},
   "outputs": [],
   "source": [
    "# Replace labels with numbers\n",
    "train_labels = [label_replacement[label] for label in train_labels]\n",
    "dev_labels = [label_replacement[label] for label in dev_labels]"
   ]
  },
  {
   "cell_type": "markdown",
   "metadata": {},
   "source": [
    "## Using Embedding Layer"
   ]
  },
  {
   "cell_type": "code",
   "execution_count": 6,
   "metadata": {},
   "outputs": [],
   "source": [
    "df_train = pd.read_csv(\"../Data/PreprocessedData/train_preprocessed.csv\")\n",
    "df_test = pd.read_csv(\"../Data/PreprocessedData/test_preprocessed.csv\")\n",
    "df_val = pd.read_csv(\"../Data/PreprocessedData/val_preprocessed.csv\")\n",
    "\n",
    "df_train = df_train[['preprocessed_text', 'label']]\n",
    "df_test = df_test[['preprocessed_text', 'label']]\n",
    "df_val = df_val[['preprocessed_text', 'label']]"
   ]
  },
  {
   "cell_type": "code",
   "execution_count": 7,
   "metadata": {},
   "outputs": [
    {
     "name": "stderr",
     "output_type": "stream",
     "text": [
      "C:\\Users\\gener\\AppData\\Local\\Temp\\ipykernel_25584\\2698299470.py:2: UserWarning: Boolean Series key will be reindexed to match DataFrame index.\n",
      "  df_val = df_val[df_train.preprocessed_text.notna()]\n",
      "C:\\Users\\gener\\AppData\\Local\\Temp\\ipykernel_25584\\2698299470.py:3: UserWarning: Boolean Series key will be reindexed to match DataFrame index.\n",
      "  df_test = df_test[df_train.preprocessed_text.notna()]\n"
     ]
    }
   ],
   "source": [
    "df_train = df_train[df_train.preprocessed_text.notna()]\n",
    "df_val = df_val[df_train.preprocessed_text.notna()]\n",
    "df_test = df_test[df_train.preprocessed_text.notna()]"
   ]
  },
  {
   "cell_type": "code",
   "execution_count": 8,
   "metadata": {},
   "outputs": [],
   "source": [
    "vocab = df_train[\"preprocessed_text\"].values.flatten().tolist()\n",
    "vocab = ' '.join(vocab).split()\n",
    "vocab_size = len(set(vocab))"
   ]
  },
  {
   "cell_type": "code",
   "execution_count": 9,
   "metadata": {},
   "outputs": [],
   "source": [
    "# # Batch and shuffle the dataset\n",
    "# train_ds = train_ds.batch(BATCH_SIZE).shuffle(10000)\n",
    "# test_ds = test_ds.batch(BATCH_SIZE)\n",
    "# val_ds = val_ds.batch(BATCH_SIZE).shuffle(10000)"
   ]
  },
  {
   "cell_type": "code",
   "execution_count": 10,
   "metadata": {},
   "outputs": [],
   "source": [
    "X_train = df_train['preprocessed_text'].values\n",
    "X_dev = df_val['preprocessed_text'].values\n",
    "X_test = df_test['preprocessed_text'].values"
   ]
  },
  {
   "cell_type": "code",
   "execution_count": 11,
   "metadata": {},
   "outputs": [],
   "source": [
    "tok = Tokenizer(num_words = vocab_size)\n",
    "tok.fit_on_texts(X_train)"
   ]
  },
  {
   "cell_type": "code",
   "execution_count": 12,
   "metadata": {},
   "outputs": [],
   "source": [
    "tokenized_train_text = tok.texts_to_sequences(X_train)\n",
    "tokenized_dev_text = tok.texts_to_sequences(X_dev)\n",
    "\n",
    "tokenized_train_text = pad_sequences(tokenized_train_text, SEQ_LENGTH)\n",
    "tokenized_dev_text = pad_sequences(tokenized_dev_text, SEQ_LENGTH)"
   ]
  },
  {
   "cell_type": "code",
   "execution_count": 13,
   "metadata": {},
   "outputs": [],
   "source": [
    "X_train = tf.convert_to_tensor(tokenized_train_text, dtype=tf.int64)\n",
    "y_train = tf.convert_to_tensor(train_labels)\n",
    "\n",
    "X_dev = tf.convert_to_tensor(tokenized_dev_text, dtype=tf.int64)\n",
    "y_dev = tf.convert_to_tensor(dev_labels)"
   ]
  },
  {
   "cell_type": "code",
   "execution_count": 14,
   "metadata": {},
   "outputs": [
    {
     "data": {
      "text/plain": [
       "<tf.Tensor: shape=(10592,), dtype=int32, numpy=array([1, 1, 1, ..., 1, 1, 1])>"
      ]
     },
     "execution_count": 14,
     "metadata": {},
     "output_type": "execute_result"
    }
   ],
   "source": [
    "y_train"
   ]
  },
  {
   "cell_type": "code",
   "execution_count": 16,
   "metadata": {},
   "outputs": [],
   "source": [
    "model = keras.Sequential()\n",
    "\n",
    "# Take as input the tokenized input.\n",
    "model.add(keras.Input(shape=(SEQ_LENGTH), dtype=tf.int32))\n",
    "\n",
    "# Add an embedding layer\n",
    "model.add(keras.layers.Embedding(vocab_size + 1, 128))\n",
    "\n",
    "# Add 2 LSTM layers alongwith some Dropout\n",
    "model.add(keras.layers.LSTM(128, activation = \"relu\", return_sequences=True))\n",
    "model.add(keras.layers.Dropout(DROPOUT))\n",
    "model.add(keras.layers.LSTM(LSTM_UNITS, activation = \"relu\"))\n",
    "model.add(keras.layers.Dropout(DROPOUT))\n",
    "\n",
    "# Predict an output label.\n",
    "model.add(keras.layers.Dense(1, activation=\"sigmoid\"))\n",
    "\n",
    "model.compile(\n",
    "    loss=\"binary_crossentropy\",\n",
    "    optimizer=keras.optimizers.Adam(learning_rate=LEARNING_RATE),\n",
    "    metrics=[\"accuracy\"],\n",
    ")"
   ]
  },
  {
   "cell_type": "code",
   "execution_count": 17,
   "metadata": {},
   "outputs": [
    {
     "name": "stdout",
     "output_type": "stream",
     "text": [
      "Model: \"sequential_1\"\n",
      "_________________________________________________________________\n",
      " Layer (type)                Output Shape              Param #   \n",
      "=================================================================\n",
      " embedding_1 (Embedding)     (None, 128, 128)          2297088   \n",
      "                                                                 \n",
      " lstm_2 (LSTM)               (None, 128, 128)          131584    \n",
      "                                                                 \n",
      " dropout_1 (Dropout)         (None, 128, 128)          0         \n",
      "                                                                 \n",
      " lstm_3 (LSTM)               (None, 64)                49408     \n",
      "                                                                 \n",
      " dropout_2 (Dropout)         (None, 64)                0         \n",
      "                                                                 \n",
      " dense (Dense)               (None, 1)                 65        \n",
      "                                                                 \n",
      "=================================================================\n",
      "Total params: 2,478,145\n",
      "Trainable params: 2,478,145\n",
      "Non-trainable params: 0\n",
      "_________________________________________________________________\n"
     ]
    }
   ],
   "source": [
    "model.summary()"
   ]
  },
  {
   "cell_type": "code",
   "execution_count": 18,
   "metadata": {},
   "outputs": [
    {
     "name": "stdout",
     "output_type": "stream",
     "text": [
      "Epoch 1/3\n",
      " 82/331 [======>.......................] - ETA: 29:42 - loss: 0.6864 - accuracy: 0.6639"
     ]
    }
   ],
   "source": [
    "# Finetune the model for the SST-2 task.\n",
    "model.fit(\n",
    "    X_train, y_train, validation_data=(X_dev, y_dev), epochs=EPOCHS, batch_size = BATCH_SIZE\n",
    ")"
   ]
  },
  {
   "cell_type": "code",
   "execution_count": null,
   "metadata": {},
   "outputs": [],
   "source": [
    "tokenized_test_text = tok.texts_to_sequences(X_test)\n",
    "tokenized_test_text = pad_sequences(tokenized_test_text, SEQ_LENGTH)\n",
    "X_test = tf.convert_to_tensor(tokenized_test_text, dtype=tf.int64)"
   ]
  },
  {
   "cell_type": "code",
   "execution_count": null,
   "metadata": {},
   "outputs": [
    {
     "name": "stdout",
     "output_type": "stream",
     "text": [
      "331/331 [==============================] - 194s 586ms/step\n",
      "27/27 [==============================] - 16s 592ms/step\n",
      "83/83 [==============================] - 49s 591ms/step\n"
     ]
    }
   ],
   "source": [
    "# Predictions\n",
    "train_pred = model.predict(X_train)\n",
    "test_pred = model.predict(X_test)\n",
    "val_pred = model.predict(X_dev)\n",
    "\n",
    "# Convert predictions to labels\n",
    "train_pred = np.where(train_pred > 0.5, 1, 0)\n",
    "test_pred = np.where(test_pred > 0.5, 1, 0)\n",
    "val_pred = np.where(val_pred > 0.5, 1, 0)"
   ]
  },
  {
   "cell_type": "code",
   "execution_count": null,
   "metadata": {},
   "outputs": [
    {
     "name": "stdout",
     "output_type": "stream",
     "text": [
      "Accuracy Train:  0.6709780966767371\n",
      "Accuracy Dev:  0.6544561933534743\n",
      "Accuracy Test:  0.7209302325581395\n",
      "Weighted F1 Train:  0.5388599732280435\n",
      "Weighted F1 Dev:  0.5177688121805848\n",
      "Weighted F1 Test:  0.6040226272784412\n",
      "Macro F1 Train:  0.4015481100627154\n",
      "Macro F1 Dev:  0.39557178726318193\n",
      "Macro F1 Test:  0.4189189189189189\n",
      "Micro F1 Train:  0.6709780966767371\n",
      "Micro F1 Dev:  0.6544561933534743\n",
      "Micro F1 Test:  0.7209302325581395\n",
      "Weighted Recall Train:  0.6709780966767371\n",
      "Weighted Recall Dev:  0.6544561933534743\n",
      "Weighted Recall Test:  0.7209302325581395\n",
      "Macro Recall Train:  0.5\n",
      "Macro Recall Dev:  0.5\n",
      "Macro Recall Test:  0.5\n",
      "Micro Recall Train:  0.6709780966767371\n",
      "Micro Recall Dev:  0.6544561933534743\n",
      "Micro Recall Test:  0.7209302325581395\n",
      "Confusion Matrix Train: \n",
      "[[   0 3485]\n",
      " [   0 7107]]\n",
      "Confusion Matrix Dev: \n",
      "[[   0  915]\n",
      " [   0 1733]]\n",
      "Confusion Matrix Test: \n",
      "[[  0 240]\n",
      " [  0 620]]\n"
     ]
    }
   ],
   "source": [
    "# Convert labels to numpy arrays\n",
    "computeAllScores(train_pred, val_pred, test_pred)"
   ]
  },
  {
   "cell_type": "code",
   "execution_count": null,
   "metadata": {},
   "outputs": [],
   "source": []
  }
 ],
 "metadata": {
  "kernelspec": {
   "display_name": "Python 3.10.2 ('venv': venv)",
   "language": "python",
   "name": "python3"
  },
  "language_info": {
   "codemirror_mode": {
    "name": "ipython",
    "version": 3
   },
   "file_extension": ".py",
   "mimetype": "text/x-python",
   "name": "python",
   "nbconvert_exporter": "python",
   "pygments_lexer": "ipython3",
   "version": "3.10.2"
  },
  "orig_nbformat": 4,
  "vscode": {
   "interpreter": {
    "hash": "20d1fca357f405521ace12b74f8f225b4b452b0790d4cac507474c909b88285c"
   }
  }
 },
 "nbformat": 4,
 "nbformat_minor": 2
}
