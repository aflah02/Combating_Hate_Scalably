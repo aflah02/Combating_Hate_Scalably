{
 "cells": [
  {
   "cell_type": "code",
   "execution_count": 2,
   "metadata": {},
   "outputs": [
    {
     "name": "stdout",
     "output_type": "stream",
     "text": [
      "--ip=127.0.0.1\n"
     ]
    }
   ],
   "source": [
    "# imports\n",
    "from embeddings_loader import *\n",
    "from sklearn.ensemble import RandomForestClassifier\n",
    "from sklearn.model_selection import GridSearchCV\n",
    "from sklearn.metrics import f1_score\n",
    "from sklearn.metrics import accuracy_score\n",
    "from sklearn.metrics import confusion_matrix\n",
    "from sklearn.metrics import classification_report\n",
    "from sklearn.metrics import recall_score\n",
    "from sklearn.metrics import precision_score\n",
    "from sklearn.metrics import roc_auc_score\n",
    "import numpy as np\n",
    "import os\n",
    "from utils import *"
   ]
  },
  {
   "cell_type": "code",
   "execution_count": 3,
   "metadata": {},
   "outputs": [],
   "source": [
    "train_labels, dev_labels, _ = load_labels()"
   ]
  },
  {
   "cell_type": "code",
   "execution_count": 4,
   "metadata": {},
   "outputs": [],
   "source": [
    "label_replacement = {\n",
    "    'OFF': 0,\n",
    "    'NOT': 1\n",
    "}"
   ]
  },
  {
   "cell_type": "code",
   "execution_count": 5,
   "metadata": {},
   "outputs": [],
   "source": [
    "# Replace labels with numbers\n",
    "train_labels = [label_replacement[label] for label in train_labels]\n",
    "dev_labels = [label_replacement[label] for label in dev_labels]\n",
    "# test_labels = [label_replacement[label] for label in test_labels]"
   ]
  },
  {
   "cell_type": "code",
   "execution_count": 55,
   "metadata": {},
   "outputs": [],
   "source": [
    "rf_classifier = RandomForestClassifier()\n",
    "gridsearch = GridSearchCV(rf_classifier, param_grid = {\n",
    "\t'n_estimators' : [200],\n",
    "\t'max_features' : ['sqrt'],\n",
    "\t'bootstrap' : [True, False],\n",
    "\t'max_depth' : [8,9]\n",
    "}, scoring = \"f1_macro\", n_jobs=os.cpu_count()//3, verbose=2)"
   ]
  },
  {
   "cell_type": "markdown",
   "metadata": {},
   "source": [
    "### Glove Twitter 25"
   ]
  },
  {
   "cell_type": "code",
   "execution_count": 53,
   "metadata": {},
   "outputs": [],
   "source": [
    "gt25_train, gt25_dev, gt25_test = load_glove_twitter_25()"
   ]
  },
  {
   "cell_type": "code",
   "execution_count": 54,
   "metadata": {},
   "outputs": [],
   "source": [
    "# Set all NaN values to 0\n",
    "gt25_train = np.nan_to_num(gt25_train)\n",
    "gt25_dev = np.nan_to_num(gt25_dev)\n",
    "gt25_test = np.nan_to_num(gt25_test)"
   ]
  },
  {
   "cell_type": "code",
   "execution_count": 9,
   "metadata": {},
   "outputs": [
    {
     "data": {
      "text/plain": [
       "array([ 0.29942665,  0.48439665,  0.48938234, -0.18078533,  0.51910998,\n",
       "       -0.37910032,  0.12097333,  0.52592667,  0.16172   ,  0.20927335,\n",
       "       -0.25639666, -0.34945001, -3.06763339, -0.64085334,  0.13807667,\n",
       "       -0.125936  , -0.06390333, -0.16285634, -0.70355   , -0.38941667,\n",
       "       -0.14004723, -0.52737866,  0.04168967,  0.49415   , -0.97523665])"
      ]
     },
     "execution_count": 9,
     "metadata": {},
     "output_type": "execute_result"
    }
   ],
   "source": [
    "gt25_train[0]"
   ]
  },
  {
   "cell_type": "code",
   "execution_count": 56,
   "metadata": {},
   "outputs": [
    {
     "name": "stdout",
     "output_type": "stream",
     "text": [
      "Fitting 5 folds for each of 4 candidates, totalling 20 fits\n"
     ]
    }
   ],
   "source": [
    "grid_results = gridsearch.fit(gt25_train, train_labels)\n",
    "best_params = grid_results.best_params_\n",
    "rf_classifier = grid_results.best_estimator_"
   ]
  },
  {
   "cell_type": "code",
   "execution_count": 57,
   "metadata": {},
   "outputs": [
    {
     "data": {
      "text/plain": [
       "{'bootstrap': False,\n",
       " 'max_depth': 9,\n",
       " 'max_features': 'sqrt',\n",
       " 'n_estimators': 200}"
      ]
     },
     "execution_count": 57,
     "metadata": {},
     "output_type": "execute_result"
    }
   ],
   "source": [
    "best_params"
   ]
  },
  {
   "cell_type": "code",
   "execution_count": 58,
   "metadata": {},
   "outputs": [],
   "source": [
    "rf_classifier = rf_classifier.fit(gt25_train, train_labels)\n",
    "# save_model(rf_classifier, \"rf_classifier_gt25.joblib\")"
   ]
  },
  {
   "cell_type": "code",
   "execution_count": 59,
   "metadata": {},
   "outputs": [],
   "source": [
    "train_preds = rf_classifier.predict(gt25_train)\n",
    "dev_preds = rf_classifier.predict(gt25_dev)\n",
    "test_preds = rf_classifier.predict(gt25_test)"
   ]
  },
  {
   "cell_type": "code",
   "execution_count": 60,
   "metadata": {},
   "outputs": [
    {
     "name": "stdout",
     "output_type": "stream",
     "text": [
      "Accuracy Train:  0.8263783987915407\n",
      "Accuracy Dev:  0.7054380664652568\n",
      "Accuracy Test:  0.7790697674418605\n",
      "Weighted F1 Train:  0.8104145880242066\n",
      "Weighted F1 Dev:  0.6659388000749386\n",
      "Weighted F1 Test:  0.7539632080938363\n",
      "Macro F1 Train:  0.7725984188945243\n",
      "Macro F1 Dev:  0.6040414822448998\n",
      "Macro F1 Test:  0.6702746769337562\n",
      "Micro F1 Train:  0.8263783987915407\n",
      "Micro F1 Dev:  0.7054380664652568\n",
      "Micro F1 Test:  0.7790697674418605\n",
      "Weighted Recall Train:  0.8263783987915407\n",
      "Weighted Recall Dev:  0.7054380664652568\n",
      "Weighted Recall Test:  0.7790697674418605\n",
      "Macro Recall Train:  0.7474883715390428\n",
      "Macro Recall Dev:  0.6070435991789089\n",
      "Macro Recall Test:  0.6526881720430108\n",
      "Micro Recall Train:  0.8263783987915407\n",
      "Micro Recall Dev:  0.7054380664652568\n",
      "Micro Recall Test:  0.7790697674418605\n",
      "Confusion Matrix Train: \n",
      "[[1801 1684]\n",
      " [ 155 6952]]\n",
      "Confusion Matrix Dev: \n",
      "[[ 264  651]\n",
      " [ 129 1604]]\n",
      "Confusion Matrix Test: \n",
      "[[ 88 152]\n",
      " [ 38 582]]\n"
     ]
    }
   ],
   "source": [
    "computeAllScores(train_preds, dev_preds, test_preds)"
   ]
  },
  {
   "cell_type": "markdown",
   "metadata": {},
   "source": [
    "### FastText 300 "
   ]
  },
  {
   "cell_type": "code",
   "execution_count": 61,
   "metadata": {},
   "outputs": [],
   "source": [
    "ft300_train, ft300_dev, ft300_test = load_fasttext_300()"
   ]
  },
  {
   "cell_type": "code",
   "execution_count": 62,
   "metadata": {},
   "outputs": [],
   "source": [
    "# Set all NaN values to 0\n",
    "ft300_train = np.nan_to_num(ft300_train)\n",
    "ft300_dev = np.nan_to_num(ft300_dev)\n",
    "ft300_test = np.nan_to_num(ft300_test)"
   ]
  },
  {
   "cell_type": "code",
   "execution_count": 63,
   "metadata": {},
   "outputs": [
    {
     "name": "stdout",
     "output_type": "stream",
     "text": [
      "Fitting 5 folds for each of 4 candidates, totalling 20 fits\n"
     ]
    }
   ],
   "source": [
    "grid_results = gridsearch.fit(ft300_train, train_labels)\n",
    "best_params = grid_results.best_params_\n",
    "rf_classifier = grid_results.best_estimator_"
   ]
  },
  {
   "cell_type": "code",
   "execution_count": 64,
   "metadata": {},
   "outputs": [
    {
     "data": {
      "text/plain": [
       "{'bootstrap': False,\n",
       " 'max_depth': 9,\n",
       " 'max_features': 'sqrt',\n",
       " 'n_estimators': 200}"
      ]
     },
     "execution_count": 64,
     "metadata": {},
     "output_type": "execute_result"
    }
   ],
   "source": [
    "best_params"
   ]
  },
  {
   "cell_type": "code",
   "execution_count": 65,
   "metadata": {},
   "outputs": [],
   "source": [
    "rf_classifier = rf_classifier.fit(ft300_train, train_labels)\n",
    "# save_model(rf_classifier, \"rf_classifier_ft300.joblib\")"
   ]
  },
  {
   "cell_type": "code",
   "execution_count": 66,
   "metadata": {},
   "outputs": [],
   "source": [
    "train_preds = rf_classifier.predict(ft300_train)\n",
    "dev_preds = rf_classifier.predict(ft300_dev)\n",
    "test_preds = rf_classifier.predict(ft300_test)"
   ]
  },
  {
   "cell_type": "code",
   "execution_count": 67,
   "metadata": {},
   "outputs": [
    {
     "name": "stdout",
     "output_type": "stream",
     "text": [
      "Accuracy Train:  0.8824584592145015\n",
      "Accuracy Dev:  0.7145015105740181\n",
      "Accuracy Test:  0.772093023255814\n",
      "Weighted F1 Train:  0.8748900500072457\n",
      "Weighted F1 Dev:  0.6612097432413704\n",
      "Weighted F1 Test:  0.7213185066796693\n",
      "Macro F1 Train:  0.8518734436691422\n",
      "Macro F1 Dev:  0.5922340064089245\n",
      "Macro F1 Test:  0.6104316313984339\n",
      "Micro F1 Train:  0.8824584592145015\n",
      "Micro F1 Dev:  0.7145015105740181\n",
      "Micro F1 Test:  0.772093023255814\n",
      "Weighted Recall Train:  0.8824584592145015\n",
      "Weighted Recall Dev:  0.7145015105740181\n",
      "Weighted Recall Test:  0.772093023255814\n",
      "Macro Recall Train:  0.8233515403711136\n",
      "Macro Recall Dev:  0.6028769719271361\n",
      "Macro Recall Test:  0.6057123655913978\n",
      "Micro Recall Train:  0.8824584592145015\n",
      "Micro Recall Dev:  0.7145015105740181\n",
      "Micro Recall Test:  0.772093023255814\n",
      "Confusion Matrix Train: \n",
      "[[2267 1218]\n",
      " [  27 7080]]\n",
      "Confusion Matrix Dev: \n",
      "[[ 221  694]\n",
      " [  62 1671]]\n",
      "Confusion Matrix Test: \n",
      "[[ 55 185]\n",
      " [ 11 609]]\n"
     ]
    }
   ],
   "source": [
    "computeAllScores(train_preds, dev_preds, test_preds)"
   ]
  },
  {
   "cell_type": "markdown",
   "metadata": {},
   "source": [
    "### Word2Vec 300"
   ]
  },
  {
   "cell_type": "code",
   "execution_count": 68,
   "metadata": {},
   "outputs": [],
   "source": [
    "w2v300_train, w2v300_dev, w2v300_test = load_word2vec_300()"
   ]
  },
  {
   "cell_type": "code",
   "execution_count": 69,
   "metadata": {},
   "outputs": [],
   "source": [
    "# Set all NaN values to 0\n",
    "w2v300_train = np.nan_to_num(w2v300_train)\n",
    "w2v300_dev = np.nan_to_num(w2v300_dev)\n",
    "w2v300_test = np.nan_to_num(w2v300_test)"
   ]
  },
  {
   "cell_type": "code",
   "execution_count": 70,
   "metadata": {},
   "outputs": [
    {
     "name": "stdout",
     "output_type": "stream",
     "text": [
      "Fitting 5 folds for each of 4 candidates, totalling 20 fits\n"
     ]
    }
   ],
   "source": [
    "grid_results = gridsearch.fit(w2v300_train, train_labels)\n",
    "best_params = grid_results.best_params_\n",
    "rf_classifier = grid_results.best_estimator_"
   ]
  },
  {
   "cell_type": "code",
   "execution_count": 71,
   "metadata": {},
   "outputs": [
    {
     "data": {
      "text/plain": [
       "{'bootstrap': False,\n",
       " 'max_depth': 9,\n",
       " 'max_features': 'sqrt',\n",
       " 'n_estimators': 200}"
      ]
     },
     "execution_count": 71,
     "metadata": {},
     "output_type": "execute_result"
    }
   ],
   "source": [
    "best_params"
   ]
  },
  {
   "cell_type": "code",
   "execution_count": 72,
   "metadata": {},
   "outputs": [],
   "source": [
    "rf_classifier = rf_classifier.fit(w2v300_train, train_labels)\n",
    "# save_model(rf_classifier, \"rf_classifier_w2v300.joblib\")"
   ]
  },
  {
   "cell_type": "code",
   "execution_count": 73,
   "metadata": {},
   "outputs": [],
   "source": [
    "train_preds = rf_classifier.predict(w2v300_train)\n",
    "dev_preds = rf_classifier.predict(w2v300_dev)\n",
    "test_preds = rf_classifier.predict(w2v300_test)"
   ]
  },
  {
   "cell_type": "code",
   "execution_count": 74,
   "metadata": {},
   "outputs": [
    {
     "name": "stdout",
     "output_type": "stream",
     "text": [
      "Accuracy Train:  0.9004909365558912\n",
      "Accuracy Dev:  0.7280966767371602\n",
      "Accuracy Test:  0.7837209302325582\n",
      "Weighted F1 Train:  0.8954538261103318\n",
      "Weighted F1 Dev:  0.6839800486767458\n",
      "Weighted F1 Test:  0.7437381074017311\n",
      "Macro F1 Train:  0.8771361413374238\n",
      "Macro F1 Dev:  0.6221865525236312\n",
      "Macro F1 Test:  0.6463440517881778\n",
      "Micro F1 Train:  0.9004909365558913\n",
      "Micro F1 Dev:  0.7280966767371602\n",
      "Micro F1 Test:  0.7837209302325583\n",
      "Weighted Recall Train:  0.9004909365558912\n",
      "Weighted Recall Dev:  0.7280966767371602\n",
      "Weighted Recall Test:  0.7837209302325582\n",
      "Macro Recall Train:  0.8509009344556734\n",
      "Macro Recall Dev:  0.6240966894642412\n",
      "Macro Recall Test:  0.6316532258064516\n",
      "Micro Recall Train:  0.9004909365558912\n",
      "Micro Recall Dev:  0.7280966767371602\n",
      "Micro Recall Test:  0.7837209302325582\n",
      "Confusion Matrix Train: \n",
      "[[2460 1025]\n",
      " [  29 7078]]\n",
      "Confusion Matrix Dev: \n",
      "[[ 263  652]\n",
      " [  68 1665]]\n",
      "Confusion Matrix Test: \n",
      "[[ 69 171]\n",
      " [ 15 605]]\n"
     ]
    }
   ],
   "source": [
    "computeAllScores(train_preds, dev_preds, test_preds)"
   ]
  },
  {
   "cell_type": "markdown",
   "metadata": {},
   "source": [
    "### Sentence Transformer"
   ]
  },
  {
   "cell_type": "code",
   "execution_count": 75,
   "metadata": {},
   "outputs": [],
   "source": [
    "train, dev, test = load_sent_trans()"
   ]
  },
  {
   "cell_type": "code",
   "execution_count": 76,
   "metadata": {},
   "outputs": [
    {
     "name": "stdout",
     "output_type": "stream",
     "text": [
      "Fitting 5 folds for each of 4 candidates, totalling 20 fits\n"
     ]
    }
   ],
   "source": [
    "grid_results = gridsearch.fit(train, train_labels)\n",
    "best_params = grid_results.best_params_\n",
    "rf_classifier = grid_results.best_estimator_"
   ]
  },
  {
   "cell_type": "code",
   "execution_count": 77,
   "metadata": {},
   "outputs": [
    {
     "data": {
      "text/plain": [
       "{'bootstrap': False,\n",
       " 'max_depth': 9,\n",
       " 'max_features': 'sqrt',\n",
       " 'n_estimators': 200}"
      ]
     },
     "execution_count": 77,
     "metadata": {},
     "output_type": "execute_result"
    }
   ],
   "source": [
    "best_params"
   ]
  },
  {
   "cell_type": "code",
   "execution_count": 78,
   "metadata": {},
   "outputs": [],
   "source": [
    "rf_classifier = rf_classifier.fit(train, train_labels)\n",
    "# save_model(rf_classifier, \"rf_classifier_better_no_pca.joblib\")"
   ]
  },
  {
   "cell_type": "code",
   "execution_count": 79,
   "metadata": {},
   "outputs": [],
   "source": [
    "train_preds = rf_classifier.predict(train)\n",
    "dev_preds = rf_classifier.predict(dev)\n",
    "test_preds = rf_classifier.predict(test)"
   ]
  },
  {
   "cell_type": "code",
   "execution_count": 80,
   "metadata": {},
   "outputs": [
    {
     "name": "stdout",
     "output_type": "stream",
     "text": [
      "Accuracy Train:  0.936083836858006\n",
      "Accuracy Dev:  0.6952416918429003\n",
      "Accuracy Test:  0.7430232558139535\n",
      "Weighted F1 Train:  0.9341414890906509\n",
      "Weighted F1 Dev:  0.6179845208747244\n",
      "Weighted F1 Test:  0.6544976392050083\n",
      "Macro F1 Train:  0.9235622656119129\n",
      "Macro F1 Dev:  0.532928846780555\n",
      "Macro F1 Test:  0.5008915464588931\n",
      "Micro F1 Train:  0.936083836858006\n",
      "Micro F1 Dev:  0.6952416918429003\n",
      "Micro F1 Test:  0.7430232558139535\n",
      "Weighted Recall Train:  0.936083836858006\n",
      "Weighted Recall Dev:  0.6952416918429003\n",
      "Weighted Recall Test:  0.7430232558139535\n",
      "Macro Recall Train:  0.9033081535592751\n",
      "Macro Recall Dev:  0.5672701875202987\n",
      "Macro Recall Test:  0.5408602150537635\n",
      "Micro Recall Train:  0.936083836858006\n",
      "Micro Recall Dev:  0.6952416918429003\n",
      "Micro Recall Test:  0.7430232558139535\n",
      "Confusion Matrix Train: \n",
      "[[2814  671]\n",
      " [   6 7101]]\n",
      "Confusion Matrix Dev: \n",
      "[[ 140  775]\n",
      " [  32 1701]]\n",
      "Confusion Matrix Test: \n",
      "[[ 20 220]\n",
      " [  1 619]]\n"
     ]
    }
   ],
   "source": [
    "computeAllScores(train_preds, dev_preds, test_preds)"
   ]
  }
 ],
 "metadata": {
  "kernelspec": {
   "display_name": "Python 3.8.5 ('base')",
   "language": "python",
   "name": "python3"
  },
  "language_info": {
   "codemirror_mode": {
    "name": "ipython",
    "version": 3
   },
   "file_extension": ".py",
   "mimetype": "text/x-python",
   "name": "python",
   "nbconvert_exporter": "python",
   "pygments_lexer": "ipython3",
   "version": "3.8.5"
  },
  "orig_nbformat": 4,
  "vscode": {
   "interpreter": {
    "hash": "d030bc88fec4bb5d85fd6a2820f479473977fe0aa0f41810da07bbc63796e3e0"
   }
  }
 },
 "nbformat": 4,
 "nbformat_minor": 2
}
