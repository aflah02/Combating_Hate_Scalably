{
 "cells": [
  {
   "cell_type": "code",
   "execution_count": 1,
   "metadata": {},
   "outputs": [
    {
     "name": "stdout",
     "output_type": "stream",
     "text": [
      "--ip=127.0.0.1\n"
     ]
    }
   ],
   "source": [
    "from embeddings_loader import *\n",
    "from sklearn.discriminant_analysis import LinearDiscriminantAnalysis\n",
    "from sklearn.metrics import f1_score\n",
    "from sklearn.metrics import accuracy_score\n",
    "from sklearn.metrics import confusion_matrix\n",
    "from sklearn.metrics import classification_report\n",
    "from sklearn.metrics import recall_score\n",
    "from sklearn.metrics import precision_score\n",
    "from sklearn.metrics import roc_auc_score\n",
    "from utils import *\n"
   ]
  },
  {
   "cell_type": "code",
   "execution_count": 4,
   "metadata": {},
   "outputs": [],
   "source": [
    "train_labels, dev_labels = load_labels()"
   ]
  },
  {
   "cell_type": "code",
   "execution_count": 5,
   "metadata": {},
   "outputs": [],
   "source": [
    "label_replacement = {\n",
    "    'NOT': 0,\n",
    "    'OFF': 1,\n",
    "}"
   ]
  },
  {
   "cell_type": "code",
   "execution_count": 6,
   "metadata": {},
   "outputs": [],
   "source": [
    "# Replace labels with numbers\n",
    "train_labels = [label_replacement[label] for label in train_labels]\n",
    "dev_labels = [label_replacement[label] for label in dev_labels]"
   ]
  },
  {
   "cell_type": "markdown",
   "metadata": {},
   "source": [
    "### Glove Twitter 25"
   ]
  },
  {
   "cell_type": "code",
   "execution_count": 7,
   "metadata": {},
   "outputs": [],
   "source": [
    "gt25_train, gt25_dev, gt25_test = load_glove_twitter_25()"
   ]
  },
  {
   "cell_type": "code",
   "execution_count": 8,
   "metadata": {},
   "outputs": [],
   "source": [
    "# Set all NaN values to 0\n",
    "gt25_train = np.nan_to_num(gt25_train)\n",
    "gt25_dev = np.nan_to_num(gt25_dev)\n",
    "gt25_test = np.nan_to_num(gt25_test)"
   ]
  },
  {
   "cell_type": "code",
   "execution_count": 9,
   "metadata": {},
   "outputs": [],
   "source": [
    "linear_discriminant_analysis = LinearDiscriminantAnalysis().fit(gt25_train, train_labels)\n",
    "save_model(linear_discriminant_analysis, \"linear_discriminant_analysis_gt25.joblib\")"
   ]
  },
  {
   "cell_type": "code",
   "execution_count": 10,
   "metadata": {},
   "outputs": [],
   "source": [
    "train_preds = linear_discriminant_analysis.predict(gt25_train)\n",
    "dev_preds = linear_discriminant_analysis.predict(gt25_dev)\n",
    "test_preds = linear_discriminant_analysis.predict(gt25_test)"
   ]
  },
  {
   "cell_type": "code",
   "execution_count": 11,
   "metadata": {},
   "outputs": [
    {
     "name": "stdout",
     "output_type": "stream",
     "text": [
      "Accuracy Train:  0.2762462235649547\n",
      "Accuracy Dev:  0.2824773413897281\n",
      "Weighted F1 Train:  0.22440217492293035\n",
      "Weighted F1 Dev:  0.2282581096998092\n",
      "Macro F1 Train:  0.26086414466689384\n",
      "Macro F1 Dev:  0.2641410640059206\n",
      "Micro F1 Train:  0.2762462235649547\n",
      "Micro F1 Dev:  0.2824773413897281\n",
      "Weighted Recall Train:  0.2762462235649547\n",
      "Weighted Recall Dev:  0.2824773413897281\n",
      "Macro Recall Train:  0.3686890629986925\n",
      "Macro Recall Dev:  0.36618454368589165\n",
      "Micro Recall Train:  0.2762462235649547\n",
      "Micro Recall Dev:  0.2824773413897281\n",
      "Confusion Matrix Train: \n",
      "[[2227 1258]\n",
      " [6408  699]]\n",
      "Confusion Matrix Dev: \n",
      "[[ 583  332]\n",
      " [1568  165]]\n"
     ]
    }
   ],
   "source": [
    "computeAllScores(train_preds, dev_preds)"
   ]
  },
  {
   "cell_type": "markdown",
   "metadata": {},
   "source": [
    "### FastText 300 "
   ]
  },
  {
   "cell_type": "code",
   "execution_count": 12,
   "metadata": {},
   "outputs": [],
   "source": [
    "ft300_train, ft300_dev, ft300_test = load_fasttext_300()"
   ]
  },
  {
   "cell_type": "code",
   "execution_count": 13,
   "metadata": {},
   "outputs": [],
   "source": [
    "# Set all NaN values to 0\n",
    "ft300_train = np.nan_to_num(ft300_train)\n",
    "ft300_dev = np.nan_to_num(ft300_dev)\n",
    "ft300_test = np.nan_to_num(ft300_test)"
   ]
  },
  {
   "cell_type": "code",
   "execution_count": 14,
   "metadata": {},
   "outputs": [],
   "source": [
    "linear_discriminant_analysis = LinearDiscriminantAnalysis().fit(ft300_train, train_labels)\n",
    "save_model(linear_discriminant_analysis, \"linear_discriminant_analysis_ft300.joblib\")"
   ]
  },
  {
   "cell_type": "code",
   "execution_count": 15,
   "metadata": {},
   "outputs": [],
   "source": [
    "train_preds = linear_discriminant_analysis.predict(ft300_train)\n",
    "dev_preds = linear_discriminant_analysis.predict(ft300_dev)\n",
    "test_preds = linear_discriminant_analysis.predict(ft300_test)"
   ]
  },
  {
   "cell_type": "code",
   "execution_count": 16,
   "metadata": {},
   "outputs": [
    {
     "name": "stdout",
     "output_type": "stream",
     "text": [
      "Accuracy Train:  0.22611404833836857\n",
      "Accuracy Dev:  0.24886706948640483\n",
      "Weighted F1 Train:  0.18285339929591965\n",
      "Weighted F1 Dev:  0.20171623664028454\n",
      "Macro F1 Train:  0.2149160288911212\n",
      "Macro F1 Dev:  0.23431926391680724\n",
      "Micro F1 Train:  0.22611404833836857\n",
      "Micro F1 Dev:  0.24886706948640483\n",
      "Weighted Recall Train:  0.22611404833836857\n",
      "Weighted Recall Dev:  0.24886706948640483\n",
      "Macro Recall Train:  0.3023033447129843\n",
      "Macro Recall Dev:  0.3221934230731635\n",
      "Micro Recall Train:  0.22611404833836857\n",
      "Micro Recall Dev:  0.24886706948640483\n",
      "Confusion Matrix Train: \n",
      "[[1830 1655]\n",
      " [6542  565]]\n",
      "Confusion Matrix Dev: \n",
      "[[ 512  403]\n",
      " [1586  147]]\n"
     ]
    }
   ],
   "source": [
    "computeAllScores(train_preds, dev_preds)"
   ]
  },
  {
   "cell_type": "markdown",
   "metadata": {},
   "source": [
    "### Word2Vec 300"
   ]
  },
  {
   "cell_type": "code",
   "execution_count": 17,
   "metadata": {},
   "outputs": [],
   "source": [
    "w2v300_train, w2v300_dev, w2v300_test = load_word2vec_300()"
   ]
  },
  {
   "cell_type": "code",
   "execution_count": 18,
   "metadata": {},
   "outputs": [],
   "source": [
    "# Set all NaN values to 0\n",
    "w2v300_train = np.nan_to_num(w2v300_train)\n",
    "w2v300_dev = np.nan_to_num(w2v300_dev)\n",
    "w2v300_test = np.nan_to_num(w2v300_test)"
   ]
  },
  {
   "cell_type": "code",
   "execution_count": 19,
   "metadata": {},
   "outputs": [],
   "source": [
    "linear_discriminant_analysis = LinearDiscriminantAnalysis().fit(w2v300_train, train_labels)\n",
    "save_model(linear_discriminant_analysis, \"linear_discriminant_analysis_w2v300.joblib\")"
   ]
  },
  {
   "cell_type": "code",
   "execution_count": 20,
   "metadata": {},
   "outputs": [],
   "source": [
    "train_preds = linear_discriminant_analysis.predict(w2v300_train)\n",
    "dev_preds = linear_discriminant_analysis.predict(w2v300_dev)\n",
    "test_preds = linear_discriminant_analysis.predict(w2v300_test)"
   ]
  },
  {
   "cell_type": "code",
   "execution_count": 21,
   "metadata": {},
   "outputs": [
    {
     "name": "stdout",
     "output_type": "stream",
     "text": [
      "Accuracy Train:  0.225547583081571\n",
      "Accuracy Dev:  0.24395770392749244\n",
      "Weighted F1 Train:  0.18469706666259514\n",
      "Weighted F1 Dev:  0.20345609483511498\n",
      "Macro F1 Train:  0.21532438408539178\n",
      "Macro F1 Dev:  0.2324668796315815\n",
      "Micro F1 Train:  0.225547583081571\n",
      "Micro F1 Dev:  0.24395770392749244\n",
      "Weighted Recall Train:  0.225547583081571\n",
      "Weighted Recall Dev:  0.24395770392749244\n",
      "Macro Recall Train:  0.29961454132456555\n",
      "Macro Recall Dev:  0.3114785630275684\n",
      "Micro Recall Train:  0.225547583081571\n",
      "Micro Recall Dev:  0.24395770392749244\n",
      "Confusion Matrix Train: \n",
      "[[1799 1686]\n",
      " [6517  590]]\n",
      "Confusion Matrix Dev: \n",
      "[[ 485  430]\n",
      " [1572  161]]\n"
     ]
    }
   ],
   "source": [
    "computeAllScores(train_preds, dev_preds)"
   ]
  },
  {
   "cell_type": "markdown",
   "metadata": {},
   "source": [
    "### Sentence Transformer "
   ]
  },
  {
   "cell_type": "code",
   "execution_count": 22,
   "metadata": {},
   "outputs": [],
   "source": [
    "train, dev, test = load_sent_trans()"
   ]
  },
  {
   "cell_type": "code",
   "execution_count": 23,
   "metadata": {},
   "outputs": [],
   "source": [
    "linear_discriminant_analysis = LinearDiscriminantAnalysis().fit(train, train_labels)\n",
    "save_model(linear_discriminant_analysis, \"linear_discriminant_analysis_sent_trans.joblib\")"
   ]
  },
  {
   "cell_type": "code",
   "execution_count": 24,
   "metadata": {},
   "outputs": [],
   "source": [
    "train_preds = linear_discriminant_analysis.predict(train)\n",
    "dev_preds = linear_discriminant_analysis.predict(dev)\n",
    "test_preds = linear_discriminant_analysis.predict(test)"
   ]
  },
  {
   "cell_type": "code",
   "execution_count": 26,
   "metadata": {},
   "outputs": [
    {
     "name": "stdout",
     "output_type": "stream",
     "text": [
      "Accuracy Train:  0.198357250755287\n",
      "Accuracy Dev:  0.2311178247734139\n",
      "Weighted F1 Train:  0.17697099650364573\n",
      "Weighted F1 Dev:  0.21236685707248024\n",
      "Macro F1 Train:  0.19493088820303006\n",
      "Macro F1 Dev:  0.2278600808900194\n",
      "Micro F1 Train:  0.198357250755287\n",
      "Micro F1 Dev:  0.2311178247734139\n",
      "Weighted Recall Train:  0.198357250755287\n",
      "Weighted Recall Dev:  0.2311178247734139\n",
      "Macro Recall Train:  0.24988593096022088\n",
      "Macro Recall Dev:  0.2776813952241762\n",
      "Micro Recall Train:  0.198357250755287\n",
      "Micro Recall Dev:  0.2311178247734139\n",
      "Confusion Matrix Train: \n",
      "[[1396 2089]\n",
      " [6402  705]]\n",
      "Confusion Matrix Dev: \n",
      "[[ 392  523]\n",
      " [1513  220]]\n"
     ]
    }
   ],
   "source": [
    "computeAllScores(train_preds, dev_preds)"
   ]
  },
  {
   "cell_type": "code",
   "execution_count": null,
   "metadata": {},
   "outputs": [],
   "source": []
  }
 ],
 "metadata": {
  "kernelspec": {
   "display_name": "Python 3.10.2 ('venv': venv)",
   "language": "python",
   "name": "python3"
  },
  "language_info": {
   "codemirror_mode": {
    "name": "ipython",
    "version": 3
   },
   "file_extension": ".py",
   "mimetype": "text/x-python",
   "name": "python",
   "nbconvert_exporter": "python",
   "pygments_lexer": "ipython3",
   "version": "3.10.2"
  },
  "orig_nbformat": 4,
  "vscode": {
   "interpreter": {
    "hash": "20d1fca357f405521ace12b74f8f225b4b452b0790d4cac507474c909b88285c"
   }
  }
 },
 "nbformat": 4,
 "nbformat_minor": 2
}
