{
 "cells": [
  {
   "cell_type": "code",
   "execution_count": 1,
   "metadata": {},
   "outputs": [
    {
     "name": "stdout",
     "output_type": "stream",
     "text": [
      "--ip=127.0.0.1\n"
     ]
    }
   ],
   "source": [
    "from embeddings_loader import *\n",
    "from sklearn.discriminant_analysis import LinearDiscriminantAnalysis\n",
    "from sklearn.metrics import f1_score\n",
    "from sklearn.metrics import accuracy_score\n",
    "from sklearn.metrics import confusion_matrix\n",
    "from sklearn.metrics import classification_report\n",
    "from sklearn.metrics import recall_score\n",
    "from sklearn.metrics import precision_score\n",
    "from sklearn.metrics import roc_auc_score\n",
    "from utils import *\n"
   ]
  },
  {
   "cell_type": "code",
   "execution_count": 2,
   "metadata": {},
   "outputs": [],
   "source": [
    "train_labels, dev_labels = load_labels()"
   ]
  },
  {
   "cell_type": "code",
   "execution_count": 3,
   "metadata": {},
   "outputs": [],
   "source": [
    "label_replacement = {\n",
    "    'NOT': 0,\n",
    "    'OFF': 1,\n",
    "}"
   ]
  },
  {
   "cell_type": "code",
   "execution_count": 4,
   "metadata": {},
   "outputs": [],
   "source": [
    "# Replace labels with numbers\n",
    "train_labels = [label_replacement[label] for label in train_labels]\n",
    "dev_labels = [label_replacement[label] for label in dev_labels]"
   ]
  },
  {
   "cell_type": "markdown",
   "metadata": {},
   "source": [
    "### Glove Twitter 25"
   ]
  },
  {
   "cell_type": "code",
   "execution_count": 5,
   "metadata": {},
   "outputs": [],
   "source": [
    "gt25_train, gt25_dev, gt25_test = load_glove_twitter_25()"
   ]
  },
  {
   "cell_type": "code",
   "execution_count": 6,
   "metadata": {},
   "outputs": [],
   "source": [
    "# Set all NaN values to 0\n",
    "gt25_train = np.nan_to_num(gt25_train)\n",
    "gt25_dev = np.nan_to_num(gt25_dev)\n",
    "gt25_test = np.nan_to_num(gt25_test)"
   ]
  },
  {
   "cell_type": "code",
   "execution_count": 7,
   "metadata": {},
   "outputs": [],
   "source": [
    "linear_discriminant_analysis = LinearDiscriminantAnalysis().fit(gt25_train, train_labels)\n",
    "save_model(linear_discriminant_analysis, \"linear_discriminant_analysis_gt25.joblib\")"
   ]
  },
  {
   "cell_type": "code",
   "execution_count": 8,
   "metadata": {},
   "outputs": [],
   "source": [
    "train_preds = linear_discriminant_analysis.predict(gt25_train)\n",
    "dev_preds = linear_discriminant_analysis.predict(gt25_dev)\n",
    "test_preds = linear_discriminant_analysis.predict(gt25_test)"
   ]
  },
  {
   "cell_type": "code",
   "execution_count": 9,
   "metadata": {},
   "outputs": [
    {
     "name": "stdout",
     "output_type": "stream",
     "text": [
      "Accuracy Train:  0.7237537764350453\n",
      "Accuracy Dev:  0.7175226586102719\n",
      "Weighted F1 Train:  0.6983786340717069\n",
      "Weighted F1 Dev:  0.6909114590579719\n",
      "Macro F1 Train:  0.6382289183387152\n",
      "Macro F1 Dev:  0.6388349967761981\n",
      "Micro F1 Train:  0.7237537764350453\n",
      "Micro F1 Dev:  0.7175226586102719\n",
      "Weighted Recall Train:  0.7237537764350453\n",
      "Weighted Recall Dev:  0.7175226586102719\n",
      "Macro Recall Train:  0.6313109370013075\n",
      "Macro Recall Dev:  0.6338154563141083\n",
      "Micro Recall Train:  0.7237537764350453\n",
      "Micro Recall Dev:  0.7175226586102719\n",
      "Confusion Matrix Train: \n",
      "[[6408  699]\n",
      " [2227 1258]]\n",
      "Confusion Matrix Dev: \n",
      "[[1568  165]\n",
      " [ 583  332]]\n"
     ]
    }
   ],
   "source": [
    "computeAllScores(train_preds, dev_preds, test_preds)"
   ]
  },
  {
   "cell_type": "markdown",
   "metadata": {},
   "source": [
    "### FastText 300 "
   ]
  },
  {
   "cell_type": "code",
   "execution_count": 10,
   "metadata": {},
   "outputs": [],
   "source": [
    "ft300_train, ft300_dev, ft300_test = load_fasttext_300()"
   ]
  },
  {
   "cell_type": "code",
   "execution_count": 11,
   "metadata": {},
   "outputs": [],
   "source": [
    "# Set all NaN values to 0\n",
    "ft300_train = np.nan_to_num(ft300_train)\n",
    "ft300_dev = np.nan_to_num(ft300_dev)\n",
    "ft300_test = np.nan_to_num(ft300_test)"
   ]
  },
  {
   "cell_type": "code",
   "execution_count": 12,
   "metadata": {},
   "outputs": [],
   "source": [
    "linear_discriminant_analysis = LinearDiscriminantAnalysis().fit(ft300_train, train_labels)\n",
    "save_model(linear_discriminant_analysis, \"linear_discriminant_analysis_ft300.joblib\")"
   ]
  },
  {
   "cell_type": "code",
   "execution_count": 13,
   "metadata": {},
   "outputs": [],
   "source": [
    "train_preds = linear_discriminant_analysis.predict(ft300_train)\n",
    "dev_preds = linear_discriminant_analysis.predict(ft300_dev)\n",
    "test_preds = linear_discriminant_analysis.predict(ft300_test)"
   ]
  },
  {
   "cell_type": "code",
   "execution_count": 14,
   "metadata": {},
   "outputs": [
    {
     "name": "stdout",
     "output_type": "stream",
     "text": [
      "Accuracy Train:  0.7738859516616314\n",
      "Accuracy Dev:  0.7511329305135952\n",
      "Weighted F1 Train:  0.7580566461509345\n",
      "Weighted F1 Dev:  0.7319861717174473\n",
      "Macro F1 Train:  0.7127335279218873\n",
      "Macro F1 Dev:  0.6890764492647103\n",
      "Micro F1 Train:  0.7738859516616314\n",
      "Micro F1 Dev:  0.7511329305135952\n",
      "Weighted Recall Train:  0.7738859516616314\n",
      "Weighted Recall Dev:  0.7511329305135952\n",
      "Macro Recall Train:  0.6976966552870157\n",
      "Macro Recall Dev:  0.6778065769268364\n",
      "Micro Recall Train:  0.7738859516616314\n",
      "Micro Recall Dev:  0.7511329305135952\n",
      "Confusion Matrix Train: \n",
      "[[6542  565]\n",
      " [1830 1655]]\n",
      "Confusion Matrix Dev: \n",
      "[[1586  147]\n",
      " [ 512  403]]\n"
     ]
    }
   ],
   "source": [
    "computeAllScores(train_preds, dev_preds, test_preds)"
   ]
  },
  {
   "cell_type": "markdown",
   "metadata": {},
   "source": [
    "### Word2Vec 300"
   ]
  },
  {
   "cell_type": "code",
   "execution_count": 15,
   "metadata": {},
   "outputs": [],
   "source": [
    "w2v300_train, w2v300_dev, w2v300_test = load_word2vec_300()"
   ]
  },
  {
   "cell_type": "code",
   "execution_count": 16,
   "metadata": {},
   "outputs": [],
   "source": [
    "# Set all NaN values to 0\n",
    "w2v300_train = np.nan_to_num(w2v300_train)\n",
    "w2v300_dev = np.nan_to_num(w2v300_dev)\n",
    "w2v300_test = np.nan_to_num(w2v300_test)"
   ]
  },
  {
   "cell_type": "code",
   "execution_count": 17,
   "metadata": {},
   "outputs": [],
   "source": [
    "linear_discriminant_analysis = LinearDiscriminantAnalysis().fit(w2v300_train, train_labels)\n",
    "save_model(linear_discriminant_analysis, \"linear_discriminant_analysis_w2v300.joblib\")"
   ]
  },
  {
   "cell_type": "code",
   "execution_count": 18,
   "metadata": {},
   "outputs": [],
   "source": [
    "train_preds = linear_discriminant_analysis.predict(w2v300_train)\n",
    "dev_preds = linear_discriminant_analysis.predict(w2v300_dev)\n",
    "test_preds = linear_discriminant_analysis.predict(w2v300_test)"
   ]
  },
  {
   "cell_type": "code",
   "execution_count": 19,
   "metadata": {},
   "outputs": [
    {
     "name": "stdout",
     "output_type": "stream",
     "text": [
      "Accuracy Train:  0.774452416918429\n",
      "Accuracy Dev:  0.7560422960725075\n",
      "Weighted F1 Train:  0.7596260486862788\n",
      "Weighted F1 Dev:  0.7402275774422259\n",
      "Macro F1 Train:  0.7152082606491839\n",
      "Macro F1 Dev:  0.7003002939867619\n",
      "Micro F1 Train:  0.774452416918429\n",
      "Micro F1 Dev:  0.7560422960725075\n",
      "Weighted Recall Train:  0.774452416918429\n",
      "Weighted Recall Dev:  0.7560422960725075\n",
      "Macro Recall Train:  0.7003854586754344\n",
      "Macro Recall Dev:  0.6885214369724316\n",
      "Micro Recall Train:  0.774452416918429\n",
      "Micro Recall Dev:  0.7560422960725075\n",
      "Confusion Matrix Train: \n",
      "[[6517  590]\n",
      " [1799 1686]]\n",
      "Confusion Matrix Dev: \n",
      "[[1572  161]\n",
      " [ 485  430]]\n"
     ]
    }
   ],
   "source": [
    "computeAllScores(train_preds, dev_preds, test_preds)"
   ]
  },
  {
   "cell_type": "markdown",
   "metadata": {},
   "source": [
    "### Sentence Transformer "
   ]
  },
  {
   "cell_type": "code",
   "execution_count": 28,
   "metadata": {},
   "outputs": [],
   "source": [
    "train, dev, test = load_sent_trans()"
   ]
  },
  {
   "cell_type": "code",
   "execution_count": 29,
   "metadata": {},
   "outputs": [],
   "source": [
    "linear_discriminant_analysis = LinearDiscriminantAnalysis().fit(train, train_labels)\n",
    "save_model(linear_discriminant_analysis, \"linear_discriminant_analysis_sent_trans.joblib\")"
   ]
  },
  {
   "cell_type": "code",
   "execution_count": 30,
   "metadata": {},
   "outputs": [],
   "source": [
    "train_preds = linear_discriminant_analysis.predict(train)\n",
    "dev_preds = linear_discriminant_analysis.predict(dev)\n",
    "test_preds = linear_discriminant_analysis.predict(test)"
   ]
  },
  {
   "cell_type": "code",
   "execution_count": 31,
   "metadata": {},
   "outputs": [
    {
     "data": {
      "text/plain": [
       "(2648, 768)"
      ]
     },
     "execution_count": 31,
     "metadata": {},
     "output_type": "execute_result"
    }
   ],
   "source": [
    "dev.shape"
   ]
  },
  {
   "cell_type": "code",
   "execution_count": 33,
   "metadata": {},
   "outputs": [
    {
     "name": "stdout",
     "output_type": "stream",
     "text": [
      "Accuracy Train:  0.801642749244713\n",
      "Accuracy Dev:  0.7688821752265861\n",
      "Weighted F1 Train:  0.7953261529328188\n",
      "Weighted F1 Dev:  0.7623576357683383\n",
      "Macro F1 Train:  0.7622165844209803\n",
      "Macro F1 Dev:  0.731328139972718\n",
      "Micro F1 Train:  0.801642749244713\n",
      "Micro F1 Dev:  0.7688821752265861\n",
      "Weighted Recall Train:  0.801642749244713\n",
      "Weighted Recall Dev:  0.7688821752265861\n",
      "Macro Recall Train:  0.7501140690397791\n",
      "Macro Recall Dev:  0.7223186047758239\n",
      "Micro Recall Train:  0.801642749244713\n",
      "Micro Recall Dev:  0.7688821752265861\n",
      "Confusion Matrix Train: \n",
      "[[6402  705]\n",
      " [1396 2089]]\n",
      "Confusion Matrix Dev: \n",
      "[[1513  220]\n",
      " [ 392  523]]\n"
     ]
    }
   ],
   "source": [
    "computeAllScores(train_preds, dev_preds, test_preds)"
   ]
  },
  {
   "cell_type": "code",
   "execution_count": null,
   "metadata": {},
   "outputs": [],
   "source": []
  }
 ],
 "metadata": {
  "kernelspec": {
   "display_name": "Python 3.9.13 64-bit (microsoft store)",
   "language": "python",
   "name": "python3"
  },
  "language_info": {
   "codemirror_mode": {
    "name": "ipython",
    "version": 3
   },
   "file_extension": ".py",
   "mimetype": "text/x-python",
   "name": "python",
   "nbconvert_exporter": "python",
   "pygments_lexer": "ipython3",
   "version": "3.9.13"
  },
  "orig_nbformat": 4,
  "vscode": {
   "interpreter": {
    "hash": "a5a87ee616be0254e3f1af9223138e3faeac65b2c9d91bc22a9fc5a4a8bd8eb0"
   }
  }
 },
 "nbformat": 4,
 "nbformat_minor": 2
}
