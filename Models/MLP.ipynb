{
 "cells": [
  {
   "cell_type": "code",
   "execution_count": 26,
   "metadata": {},
   "outputs": [
    {
     "name": "stdout",
     "output_type": "stream",
     "text": [
      "--ip=127.0.0.1\n"
     ]
    }
   ],
   "source": [
    "# imports\n",
    "from embeddings_loader import *\n",
    "from sklearn.neural_network import MLPClassifier\n",
    "from sklearn.model_selection import GridSearchCV\n",
    "from sklearn.metrics import f1_score\n",
    "from sklearn.metrics import accuracy_score\n",
    "from sklearn.metrics import confusion_matrix\n",
    "from sklearn.metrics import classification_report\n",
    "from sklearn.metrics import recall_score\n",
    "from sklearn.metrics import precision_score\n",
    "from sklearn.metrics import roc_auc_score\n",
    "import numpy as np\n",
    "import os\n",
    "from utils import *"
   ]
  },
  {
   "cell_type": "code",
   "execution_count": 6,
   "metadata": {},
   "outputs": [],
   "source": [
    "train_labels, dev_labels, _ = load_labels()"
   ]
  },
  {
   "cell_type": "code",
   "execution_count": 7,
   "metadata": {},
   "outputs": [],
   "source": [
    "label_replacement = {\n",
    "    'OFF': 0,\n",
    "    'NOT': 1\n",
    "}"
   ]
  },
  {
   "cell_type": "code",
   "execution_count": 8,
   "metadata": {},
   "outputs": [],
   "source": [
    "# Replace labels with numbers\n",
    "train_labels = [label_replacement[label] for label in train_labels]\n",
    "dev_labels = [label_replacement[label] for label in dev_labels]\n",
    "# test_labels = [label_replacement[label] for label in test_labels]"
   ]
  },
  {
   "cell_type": "code",
   "execution_count": 31,
   "metadata": {},
   "outputs": [],
   "source": [
    "mlp_classifier = MLPClassifier(max_iter=1000, early_stopping=True)\n",
    "gridsearch = GridSearchCV(mlp_classifier, param_grid = {\n",
    "\t'hidden_layer_sizes' : [(128,64),(256,64)],\n",
    "\t'activation' : ['tanh', 'relu'],\n",
    "\t'solver' : ['sgd', 'adam'],\n",
    "\t'alpha' : [0.0001, 0.05],\n",
    "\t'learning_rate' : ['constant', 'adaptive']\n",
    "}, scoring = \"f1_macro\", n_jobs=os.cpu_count()//3, verbose=2)"
   ]
  },
  {
   "cell_type": "markdown",
   "metadata": {},
   "source": [
    "### Glove Twitter 25"
   ]
  },
  {
   "cell_type": "code",
   "execution_count": 11,
   "metadata": {},
   "outputs": [],
   "source": [
    "gt25_train, gt25_dev, gt25_test = load_glove_twitter_25()"
   ]
  },
  {
   "cell_type": "code",
   "execution_count": 12,
   "metadata": {},
   "outputs": [],
   "source": [
    "# Set all NaN values to 0\n",
    "gt25_train = np.nan_to_num(gt25_train)\n",
    "gt25_dev = np.nan_to_num(gt25_dev)\n",
    "gt25_test = np.nan_to_num(gt25_test)"
   ]
  },
  {
   "cell_type": "code",
   "execution_count": 17,
   "metadata": {},
   "outputs": [
    {
     "data": {
      "text/plain": [
       "array([ 0.29942665,  0.48439665,  0.48938234, -0.18078533,  0.51910998,\n",
       "       -0.37910032,  0.12097333,  0.52592667,  0.16172   ,  0.20927335,\n",
       "       -0.25639666, -0.34945001, -3.06763339, -0.64085334,  0.13807667,\n",
       "       -0.125936  , -0.06390333, -0.16285634, -0.70355   , -0.38941667,\n",
       "       -0.14004723, -0.52737866,  0.04168967,  0.49415   , -0.97523665])"
      ]
     },
     "execution_count": 17,
     "metadata": {},
     "output_type": "execute_result"
    }
   ],
   "source": [
    "gt25_train[0]"
   ]
  },
  {
   "cell_type": "code",
   "execution_count": 32,
   "metadata": {},
   "outputs": [
    {
     "name": "stdout",
     "output_type": "stream",
     "text": [
      "Fitting 5 folds for each of 32 candidates, totalling 160 fits\n"
     ]
    }
   ],
   "source": [
    "grid_results = gridsearch.fit(gt25_train, train_labels)\n",
    "best_params = grid_results.best_params_\n",
    "mlp_classifier = grid_results.best_estimator_"
   ]
  },
  {
   "cell_type": "code",
   "execution_count": 33,
   "metadata": {},
   "outputs": [
    {
     "data": {
      "text/plain": [
       "{'activation': 'relu',\n",
       " 'alpha': 0.0001,\n",
       " 'hidden_layer_sizes': (128, 64),\n",
       " 'learning_rate': 'constant',\n",
       " 'solver': 'adam'}"
      ]
     },
     "execution_count": 33,
     "metadata": {},
     "output_type": "execute_result"
    }
   ],
   "source": [
    "best_params"
   ]
  },
  {
   "cell_type": "code",
   "execution_count": 34,
   "metadata": {},
   "outputs": [
    {
     "ename": "FileNotFoundError",
     "evalue": "[Errno 2] No such file or directory: 'c:\\\\coding\\\\NLP_assignments\\\\NLP_Project\\\\Models\\\\ModelDumps\\\\mlp_classifier_gt25.joblib'",
     "output_type": "error",
     "traceback": [
      "\u001b[1;31m---------------------------------------------------------------------------\u001b[0m",
      "\u001b[1;31mFileNotFoundError\u001b[0m                         Traceback (most recent call last)",
      "\u001b[1;32mc:\\coding\\NLP_assignments\\NLP_Project\\Models\\MLP.ipynb Cell 12\u001b[0m in \u001b[0;36m<cell line: 2>\u001b[1;34m()\u001b[0m\n\u001b[0;32m      <a href='vscode-notebook-cell:/c%3A/coding/NLP_assignments/NLP_Project/Models/MLP.ipynb#X14sZmlsZQ%3D%3D?line=0'>1</a>\u001b[0m mlp_classifier \u001b[39m=\u001b[39m mlp_classifier\u001b[39m.\u001b[39mfit(gt25_train, train_labels)\n\u001b[1;32m----> <a href='vscode-notebook-cell:/c%3A/coding/NLP_assignments/NLP_Project/Models/MLP.ipynb#X14sZmlsZQ%3D%3D?line=1'>2</a>\u001b[0m save_model(mlp_classifier, \u001b[39m\"\u001b[39;49m\u001b[39mmlp_classifier_gt25.joblib\u001b[39;49m\u001b[39m\"\u001b[39;49m)\n",
      "File \u001b[1;32mc:\\coding\\NLP_assignments\\NLP_Project\\Models\\utils.py:60\u001b[0m, in \u001b[0;36msave_model\u001b[1;34m(model, save_path)\u001b[0m\n\u001b[0;32m     59\u001b[0m \u001b[39mdef\u001b[39;00m \u001b[39msave_model\u001b[39m(model, save_path):\n\u001b[1;32m---> 60\u001b[0m     dump(model, os\u001b[39m.\u001b[39;49mpath\u001b[39m.\u001b[39;49mjoin(save_folder_path, save_path))\n",
      "File \u001b[1;32mc:\\Users\\dimen\\anaconda3\\lib\\site-packages\\joblib\\numpy_pickle.py:552\u001b[0m, in \u001b[0;36mdump\u001b[1;34m(value, filename, compress, protocol, cache_size)\u001b[0m\n\u001b[0;32m    550\u001b[0m         NumpyPickler(f, protocol\u001b[39m=\u001b[39mprotocol)\u001b[39m.\u001b[39mdump(value)\n\u001b[0;32m    551\u001b[0m \u001b[39melif\u001b[39;00m is_filename:\n\u001b[1;32m--> 552\u001b[0m     \u001b[39mwith\u001b[39;00m \u001b[39mopen\u001b[39;49m(filename, \u001b[39m'\u001b[39;49m\u001b[39mwb\u001b[39;49m\u001b[39m'\u001b[39;49m) \u001b[39mas\u001b[39;00m f:\n\u001b[0;32m    553\u001b[0m         NumpyPickler(f, protocol\u001b[39m=\u001b[39mprotocol)\u001b[39m.\u001b[39mdump(value)\n\u001b[0;32m    554\u001b[0m \u001b[39melse\u001b[39;00m:\n",
      "\u001b[1;31mFileNotFoundError\u001b[0m: [Errno 2] No such file or directory: 'c:\\\\coding\\\\NLP_assignments\\\\NLP_Project\\\\Models\\\\ModelDumps\\\\mlp_classifier_gt25.joblib'"
     ]
    }
   ],
   "source": [
    "mlp_classifier = mlp_classifier.fit(gt25_train, train_labels)\n",
    "save_model(mlp_classifier, \"mlp_classifier_gt25.joblib\")"
   ]
  },
  {
   "cell_type": "code",
   "execution_count": 35,
   "metadata": {},
   "outputs": [],
   "source": [
    "train_preds = mlp_classifier.predict(gt25_train)\n",
    "dev_preds = mlp_classifier.predict(gt25_dev)\n",
    "test_preds = mlp_classifier.predict(gt25_test)"
   ]
  },
  {
   "cell_type": "code",
   "execution_count": 36,
   "metadata": {},
   "outputs": [
    {
     "name": "stdout",
     "output_type": "stream",
     "text": [
      "Accuracy Train:  0.7513217522658611\n",
      "Accuracy Dev:  0.7322507552870091\n",
      "Accuracy Test:  0.7825581395348837\n",
      "Weighted F1 Train:  0.7347687767105369\n",
      "Weighted F1 Dev:  0.7138957714513441\n",
      "Weighted F1 Test:  0.76814165868434\n",
      "Macro F1 Train:  0.6856254345290748\n",
      "Macro F1 Dev:  0.6693427246336177\n",
      "Macro F1 Test:  0.6969953895517862\n",
      "Micro F1 Train:  0.7513217522658611\n",
      "Micro F1 Dev:  0.7322507552870091\n",
      "Micro F1 Test:  0.7825581395348837\n",
      "Weighted Recall Train:  0.7513217522658611\n",
      "Weighted Recall Dev:  0.7322507552870091\n",
      "Weighted Recall Test:  0.7825581395348837\n",
      "Macro Recall Train:  0.6737897185045398\n",
      "Macro Recall Dev:  0.6605434840874191\n",
      "Macro Recall Test:  0.6806451612903226\n",
      "Micro Recall Train:  0.7513217522658611\n",
      "Micro Recall Dev:  0.7322507552870091\n",
      "Micro Recall Test:  0.7825581395348837\n",
      "Confusion Matrix Train: \n",
      "[[1558 1927]\n",
      " [ 707 6400]]\n",
      "Confusion Matrix Dev: \n",
      "[[ 392  523]\n",
      " [ 186 1547]]\n",
      "Confusion Matrix Test: \n",
      "[[108 132]\n",
      " [ 55 565]]\n"
     ]
    }
   ],
   "source": [
    "computeAllScores(train_preds, dev_preds, test_preds)"
   ]
  },
  {
   "cell_type": "markdown",
   "metadata": {},
   "source": [
    "### FastText 300 "
   ]
  },
  {
   "cell_type": "code",
   "execution_count": 37,
   "metadata": {},
   "outputs": [],
   "source": [
    "ft300_train, ft300_dev, ft300_test = load_fasttext_300()"
   ]
  },
  {
   "cell_type": "code",
   "execution_count": 38,
   "metadata": {},
   "outputs": [],
   "source": [
    "# Set all NaN values to 0\n",
    "ft300_train = np.nan_to_num(ft300_train)\n",
    "ft300_dev = np.nan_to_num(ft300_dev)\n",
    "ft300_test = np.nan_to_num(ft300_test)"
   ]
  },
  {
   "cell_type": "code",
   "execution_count": 39,
   "metadata": {},
   "outputs": [
    {
     "name": "stdout",
     "output_type": "stream",
     "text": [
      "Fitting 5 folds for each of 32 candidates, totalling 160 fits\n"
     ]
    }
   ],
   "source": [
    "grid_results = gridsearch.fit(ft300_train, train_labels)\n",
    "best_params = grid_results.best_params_\n",
    "mlp_classifier = grid_results.best_estimator_"
   ]
  },
  {
   "cell_type": "code",
   "execution_count": 40,
   "metadata": {},
   "outputs": [
    {
     "data": {
      "text/plain": [
       "{'activation': 'relu',\n",
       " 'alpha': 0.0001,\n",
       " 'hidden_layer_sizes': (128, 64),\n",
       " 'learning_rate': 'adaptive',\n",
       " 'solver': 'adam'}"
      ]
     },
     "execution_count": 40,
     "metadata": {},
     "output_type": "execute_result"
    }
   ],
   "source": [
    "best_params"
   ]
  },
  {
   "cell_type": "code",
   "execution_count": null,
   "metadata": {},
   "outputs": [],
   "source": [
    "mlp_classifier = mlp_classifier.fit(ft300_train, train_labels)\n",
    "save_model(mlp_classifier, \"mlp_classifier_ft300.joblib\")"
   ]
  },
  {
   "cell_type": "code",
   "execution_count": 41,
   "metadata": {},
   "outputs": [],
   "source": [
    "train_preds = mlp_classifier.predict(ft300_train)\n",
    "dev_preds = mlp_classifier.predict(ft300_dev)\n",
    "test_preds = mlp_classifier.predict(ft300_test)"
   ]
  },
  {
   "cell_type": "code",
   "execution_count": 42,
   "metadata": {},
   "outputs": [
    {
     "name": "stdout",
     "output_type": "stream",
     "text": [
      "Accuracy Train:  0.801642749244713\n",
      "Accuracy Dev:  0.7828549848942599\n",
      "Accuracy Test:  0.8093023255813954\n",
      "Weighted F1 Train:  0.7945270805879971\n",
      "Weighted F1 Dev:  0.7759645731203891\n",
      "Weighted F1 Test:  0.8000817786864298\n",
      "Macro F1 Train:  0.7606598639327745\n",
      "Macro F1 Dev:  0.746142579305435\n",
      "Macro F1 Test:  0.7416849816849818\n",
      "Micro F1 Train:  0.801642749244713\n",
      "Micro F1 Dev:  0.7828549848942599\n",
      "Micro F1 Test:  0.8093023255813954\n",
      "Weighted Recall Train:  0.801642749244713\n",
      "Weighted Recall Dev:  0.7828549848942599\n",
      "Weighted Recall Test:  0.8093023255813954\n",
      "Macro Recall Train:  0.7475549092888192\n",
      "Macro Recall Dev:  0.7355730452577577\n",
      "Macro Recall Test:  0.7247311827956989\n",
      "Micro Recall Train:  0.801642749244713\n",
      "Micro Recall Dev:  0.7828549848942599\n",
      "Micro Recall Test:  0.8093023255813954\n",
      "Confusion Matrix Train: \n",
      "[[2054 1431]\n",
      " [ 670 6437]]\n",
      "Confusion Matrix Dev: \n",
      "[[ 533  382]\n",
      " [ 193 1540]]\n",
      "Confusion Matrix Test: \n",
      "[[128 112]\n",
      " [ 52 568]]\n"
     ]
    }
   ],
   "source": [
    "computeAllScores(train_preds, dev_preds, test_preds)"
   ]
  },
  {
   "cell_type": "markdown",
   "metadata": {},
   "source": [
    "### Word2Vec 300"
   ]
  },
  {
   "cell_type": "code",
   "execution_count": 43,
   "metadata": {},
   "outputs": [],
   "source": [
    "w2v300_train, w2v300_dev, w2v300_test = load_word2vec_300()"
   ]
  },
  {
   "cell_type": "code",
   "execution_count": 44,
   "metadata": {},
   "outputs": [],
   "source": [
    "# Set all NaN values to 0\n",
    "w2v300_train = np.nan_to_num(w2v300_train)\n",
    "w2v300_dev = np.nan_to_num(w2v300_dev)\n",
    "w2v300_test = np.nan_to_num(w2v300_test)"
   ]
  },
  {
   "cell_type": "code",
   "execution_count": 45,
   "metadata": {},
   "outputs": [
    {
     "name": "stdout",
     "output_type": "stream",
     "text": [
      "Fitting 5 folds for each of 32 candidates, totalling 160 fits\n"
     ]
    }
   ],
   "source": [
    "grid_results = gridsearch.fit(w2v300_train, train_labels)\n",
    "best_params = grid_results.best_params_\n",
    "mlp_classifier = grid_results.best_estimator_"
   ]
  },
  {
   "cell_type": "code",
   "execution_count": 46,
   "metadata": {},
   "outputs": [
    {
     "data": {
      "text/plain": [
       "{'activation': 'relu',\n",
       " 'alpha': 0.05,\n",
       " 'hidden_layer_sizes': (256, 64),\n",
       " 'learning_rate': 'adaptive',\n",
       " 'solver': 'adam'}"
      ]
     },
     "execution_count": 46,
     "metadata": {},
     "output_type": "execute_result"
    }
   ],
   "source": [
    "best_params"
   ]
  },
  {
   "cell_type": "code",
   "execution_count": null,
   "metadata": {},
   "outputs": [],
   "source": [
    "mlp_classifier = mlp_classifier.fit(w2v300_train, train_labels)\n",
    "save_model(mlp_classifier, \"mlp_classifier_w2v300.joblib\")"
   ]
  },
  {
   "cell_type": "code",
   "execution_count": 47,
   "metadata": {},
   "outputs": [],
   "source": [
    "train_preds = mlp_classifier.predict(w2v300_train)\n",
    "dev_preds = mlp_classifier.predict(w2v300_dev)\n",
    "test_preds = mlp_classifier.predict(w2v300_test)"
   ]
  },
  {
   "cell_type": "code",
   "execution_count": 48,
   "metadata": {},
   "outputs": [
    {
     "name": "stdout",
     "output_type": "stream",
     "text": [
      "Accuracy Train:  0.8077794561933535\n",
      "Accuracy Dev:  0.7719033232628398\n",
      "Accuracy Test:  0.8209302325581396\n",
      "Weighted F1 Train:  0.7994949557390421\n",
      "Weighted F1 Dev:  0.7626060385359856\n",
      "Weighted F1 Test:  0.8108073491161603\n",
      "Macro F1 Train:  0.7653967050055014\n",
      "Macro F1 Dev:  0.7295400432900432\n",
      "Macro F1 Test:  0.7542382945874528\n",
      "Micro F1 Train:  0.8077794561933533\n",
      "Micro F1 Dev:  0.7719033232628398\n",
      "Micro F1 Test:  0.8209302325581396\n",
      "Weighted Recall Train:  0.8077794561933535\n",
      "Weighted Recall Dev:  0.7719033232628398\n",
      "Weighted Recall Test:  0.8209302325581396\n",
      "Macro Recall Train:  0.7501536565784053\n",
      "Macro Recall Dev:  0.7181784643326743\n",
      "Macro Recall Test:  0.7340725806451613\n",
      "Micro Recall Train:  0.8077794561933535\n",
      "Micro Recall Dev:  0.7719033232628398\n",
      "Micro Recall Test:  0.8209302325581396\n",
      "Confusion Matrix Train: \n",
      "[[2027 1458]\n",
      " [ 578 6529]]\n",
      "Confusion Matrix Dev: \n",
      "[[ 498  417]\n",
      " [ 187 1546]]\n",
      "Confusion Matrix Test: \n",
      "[[129 111]\n",
      " [ 43 577]]\n"
     ]
    }
   ],
   "source": [
    "computeAllScores(train_preds, dev_preds, test_preds)"
   ]
  },
  {
   "cell_type": "markdown",
   "metadata": {},
   "source": [
    "### Sentence Transformer"
   ]
  },
  {
   "cell_type": "code",
   "execution_count": 49,
   "metadata": {},
   "outputs": [],
   "source": [
    "train, dev, test = load_sent_trans()"
   ]
  },
  {
   "cell_type": "code",
   "execution_count": 57,
   "metadata": {},
   "outputs": [
    {
     "name": "stdout",
     "output_type": "stream",
     "text": [
      "Fitting 5 folds for each of 32 candidates, totalling 160 fits\n"
     ]
    }
   ],
   "source": [
    "grid_results = gridsearch.fit(train, train_labels)\n",
    "best_params = grid_results.best_params_\n",
    "mlp_classifier = grid_results.best_estimator_"
   ]
  },
  {
   "cell_type": "code",
   "execution_count": 58,
   "metadata": {},
   "outputs": [
    {
     "data": {
      "text/plain": [
       "{'activation': 'relu',\n",
       " 'alpha': 0.05,\n",
       " 'hidden_layer_sizes': (128, 64),\n",
       " 'learning_rate': 'adaptive',\n",
       " 'solver': 'adam'}"
      ]
     },
     "execution_count": 58,
     "metadata": {},
     "output_type": "execute_result"
    }
   ],
   "source": [
    "best_params"
   ]
  },
  {
   "cell_type": "code",
   "execution_count": null,
   "metadata": {},
   "outputs": [],
   "source": [
    "mlp_classifier = mlp_classifier.fit(train, train_labels)\n",
    "save_model(mlp_classifier, \"mlp_classifier_better_no_pca.joblib\")"
   ]
  },
  {
   "cell_type": "code",
   "execution_count": 59,
   "metadata": {},
   "outputs": [],
   "source": [
    "train_preds = mlp_classifier.predict(train)\n",
    "dev_preds = mlp_classifier.predict(dev)\n",
    "test_preds = mlp_classifier.predict(test)"
   ]
  },
  {
   "cell_type": "code",
   "execution_count": 60,
   "metadata": {},
   "outputs": [
    {
     "name": "stdout",
     "output_type": "stream",
     "text": [
      "Accuracy Train:  0.7874811178247734\n",
      "Accuracy Dev:  0.7651057401812689\n",
      "Accuracy Test:  0.7953488372093023\n",
      "Weighted F1 Train:  0.7810464862819329\n",
      "Weighted F1 Dev:  0.759491366477479\n",
      "Weighted F1 Test:  0.7881634372156692\n",
      "Macro F1 Train:  0.7458937932982703\n",
      "Macro F1 Dev:  0.7288743152128109\n",
      "Macro F1 Test:  0.7288057850943518\n",
      "Micro F1 Train:  0.7874811178247734\n",
      "Micro F1 Dev:  0.765105740181269\n",
      "Micro F1 Test:  0.7953488372093023\n",
      "Weighted Recall Train:  0.7874811178247734\n",
      "Weighted Recall Dev:  0.7651057401812689\n",
      "Weighted Recall Test:  0.7953488372093023\n",
      "Macro Recall Train:  0.7351008432488914\n",
      "Macro Recall Dev:  0.7209810209403447\n",
      "Macro Recall Test:  0.7163306451612903\n",
      "Micro Recall Train:  0.7874811178247734\n",
      "Micro Recall Dev:  0.7651057401812689\n",
      "Micro Recall Test:  0.7953488372093023\n",
      "Confusion Matrix Train: \n",
      "[[2028 1457]\n",
      " [ 794 6313]]\n",
      "Confusion Matrix Dev: \n",
      "[[ 529  386]\n",
      " [ 236 1497]]\n",
      "Confusion Matrix Test: \n",
      "[[129 111]\n",
      " [ 65 555]]\n"
     ]
    }
   ],
   "source": [
    "computeAllScores(train_preds, dev_preds, test_preds)"
   ]
  }
 ],
 "metadata": {
  "kernelspec": {
   "display_name": "Python 3.8.5 ('base')",
   "language": "python",
   "name": "python3"
  },
  "language_info": {
   "codemirror_mode": {
    "name": "ipython",
    "version": 3
   },
   "file_extension": ".py",
   "mimetype": "text/x-python",
   "name": "python",
   "nbconvert_exporter": "python",
   "pygments_lexer": "ipython3",
   "version": "3.8.5"
  },
  "orig_nbformat": 4,
  "vscode": {
   "interpreter": {
    "hash": "d030bc88fec4bb5d85fd6a2820f479473977fe0aa0f41810da07bbc63796e3e0"
   }
  }
 },
 "nbformat": 4,
 "nbformat_minor": 2
}
