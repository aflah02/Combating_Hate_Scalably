{
  "cells": [
    {
      "cell_type": "code",
      "execution_count": 3,
      "metadata": {
        "id": "Vv9n6KDV_LNx"
      },
      "outputs": [],
      "source": [
        "import numpy as np\n",
        "import pandas as pd\n",
        "import tensorflow_datasets as tfds\n",
        "import tensorflow as tf"
      ]
    },
    {
      "cell_type": "code",
      "execution_count": 5,
      "metadata": {
        "id": "1NqF_nTI__mz"
      },
      "outputs": [],
      "source": [
        "train_df = pd.read_csv('/content/drive/MyDrive/College/Semester 5/NLP Project/NLP_Project-main/NLP_Project-main/Data/PreprocessedData/train_preprocessed.csv')"
      ]
    },
    {
      "cell_type": "code",
      "execution_count": 23,
      "metadata": {
        "id": "5vX0PqkuFnW7"
      },
      "outputs": [],
      "source": [
        "val_df = pd.read_csv('/content/drive/MyDrive/College/Semester 5/NLP Project/NLP_Project-main/NLP_Project-main/Data/PreprocessedData/val_preprocessed.csv')"
      ]
    },
    {
      "cell_type": "code",
      "execution_count": 14,
      "metadata": {
        "id": "0wOkywr8AoAd"
      },
      "outputs": [],
      "source": [
        "train_X = train_df['preprocessed_text'].to_list()\n",
        "train_Y = (train_df['label'].replace('OFF',1)).replace('NOT', 0).to_list()"
      ]
    },
    {
      "cell_type": "code",
      "execution_count": 24,
      "metadata": {
        "id": "SQVD42IOFsTM"
      },
      "outputs": [],
      "source": [
        "val_X = val_df['preprocessed_text'].to_list()\n",
        "val_Y = (val_df['label'].replace('OFF',1)).replace('NOT', 0).to_list()"
      ]
    },
    {
      "cell_type": "code",
      "execution_count": 16,
      "metadata": {
        "id": "PDON32E3_-5U"
      },
      "outputs": [],
      "source": [
        "VOCAB_SIZE = 10000\n",
        "encoder = tf.keras.layers.TextVectorization(max_tokens=VOCAB_SIZE)\n",
        "encoder.adapt(train_X)"
      ]
    },
    {
      "cell_type": "code",
      "execution_count": 17,
      "metadata": {
        "id": "ISROsum6_Nrq"
      },
      "outputs": [],
      "source": [
        "model = tf.keras.Sequential([\n",
        "    encoder,\n",
        "    tf.keras.layers.Embedding(\n",
        "        input_dim=len(encoder.get_vocabulary()),\n",
        "        output_dim=128,\n",
        "        mask_zero=True),\n",
        "    tf.keras.layers.Bidirectional(tf.keras.layers.LSTM(64)),\n",
        "    tf.keras.layers.Dense(64, activation='relu'),\n",
        "    tf.keras.layers.Dense(1)\n",
        "])"
      ]
    },
    {
      "cell_type": "code",
      "execution_count": 22,
      "metadata": {
        "id": "j3KXwSFDDZ6N"
      },
      "outputs": [],
      "source": [
        "model.compile(loss=tf.keras.losses.BinaryCrossentropy(from_logits=True),\n",
        "              optimizer=tf.keras.optimizers.Adam(0.0001),\n",
        "              metrics=['accuracy'])"
      ]
    },
    {
      "cell_type": "code",
      "execution_count": 25,
      "metadata": {
        "colab": {
          "base_uri": "https://localhost:8080/"
        },
        "id": "xpw0EcpiE4dn",
        "outputId": "406f9c64-a38c-4d44-ace4-e697856905f5"
      },
      "outputs": [
        {
          "name": "stdout",
          "output_type": "stream",
          "text": [
            "Epoch 1/10\n",
            "331/331 [==============================] - ETA: 0s - loss: 0.6392 - accuracy: 0.6710"
          ]
        },
        {
          "name": "stderr",
          "output_type": "stream",
          "text": [
            "WARNING:tensorflow:Your input ran out of data; interrupting training. Make sure that your dataset or generator can generate at least `steps_per_epoch * epochs` batches (in this case, 100 batches). You may need to use the repeat() function when building your dataset.\n"
          ]
        },
        {
          "name": "stdout",
          "output_type": "stream",
          "text": [
            "\b\b\b\b\b\b\b\b\b\b\b\b\b\b\b\b\b\b\b\b\b\b\b\b\b\b\b\b\b\b\b\b\b\b\b\b\b\b\b\b\b\b\b\b\b\b\b\b\b\b\b\b\b\b\b\b\b\b\b\b\b\b\b\b\b\b\b\b\b\b\b\b\b\b\b\b\b\b\b\b\b\b\b\b\r331/331 [==============================] - 44s 105ms/step - loss: 0.6392 - accuracy: 0.6710 - val_loss: 0.6236 - val_accuracy: 0.6545\n",
            "Epoch 2/10\n",
            "331/331 [==============================] - 29s 86ms/step - loss: 0.5672 - accuracy: 0.6715\n",
            "Epoch 3/10\n",
            "331/331 [==============================] - 26s 77ms/step - loss: 0.4268 - accuracy: 0.7881\n",
            "Epoch 4/10\n",
            "331/331 [==============================] - 27s 81ms/step - loss: 0.3176 - accuracy: 0.8650\n",
            "Epoch 5/10\n",
            "331/331 [==============================] - 26s 77ms/step - loss: 0.2530 - accuracy: 0.8963\n",
            "Epoch 6/10\n",
            "331/331 [==============================] - 26s 77ms/step - loss: 0.2080 - accuracy: 0.9188\n",
            "Epoch 7/10\n",
            "331/331 [==============================] - 25s 76ms/step - loss: 0.1722 - accuracy: 0.9366\n",
            "Epoch 8/10\n",
            "331/331 [==============================] - 26s 78ms/step - loss: 0.1472 - accuracy: 0.9462\n",
            "Epoch 9/10\n",
            "331/331 [==============================] - 26s 77ms/step - loss: 0.1289 - accuracy: 0.9546\n",
            "Epoch 10/10\n",
            "331/331 [==============================] - 26s 79ms/step - loss: 0.1125 - accuracy: 0.9609\n"
          ]
        }
      ],
      "source": [
        "history = model.fit(x = train_X, y = train_Y, epochs=10,\n",
        "                    validation_data=(val_X, val_Y),\n",
        "                    validation_steps=100)"
      ]
    },
    {
      "cell_type": "code",
      "execution_count": 39,
      "metadata": {
        "colab": {
          "base_uri": "https://localhost:8080/"
        },
        "id": "o5XV2x_ZIQ_9",
        "outputId": "cc5cb9bc-4576-46b5-f057-7fe3ab014128"
      },
      "outputs": [
        {
          "name": "stdout",
          "output_type": "stream",
          "text": [
            "83/83 [==============================] - 1s 17ms/step\n"
          ]
        }
      ],
      "source": [
        "val_pred = model.predict(val_X)"
      ]
    },
    {
      "cell_type": "code",
      "execution_count": 40,
      "metadata": {
        "colab": {
          "base_uri": "https://localhost:8080/"
        },
        "id": "uXMU767KF_CP",
        "outputId": "6364a147-58c8-41c4-c29a-7df11e6b5a04"
      },
      "outputs": [
        {
          "name": "stdout",
          "output_type": "stream",
          "text": [
            "83/83 [==============================] - 1s 17ms/step - loss: 1.2223 - accuracy: 0.7262\n",
            "val Loss: 1.2222943305969238\n",
            "val Accuracy: 0.7262084484100342\n"
          ]
        }
      ],
      "source": [
        "val_loss, val_acc = model.evaluate(val_X, val_Y)\n",
        "\n",
        "print('val Loss:', val_loss)\n",
        "print('val Accuracy:', val_acc)"
      ]
    },
    {
      "cell_type": "code",
      "execution_count": 41,
      "metadata": {
        "id": "XW70dHlDIH37"
      },
      "outputs": [],
      "source": [
        "val_pred = np.where(val_pred > 0.5, 1, 0)"
      ]
    },
    {
      "cell_type": "code",
      "execution_count": 42,
      "metadata": {
        "colab": {
          "base_uri": "https://localhost:8080/"
        },
        "id": "VTYFXI0AHgh_",
        "outputId": "cc1ef514-12fe-4bcf-f5fe-132636af8ccf"
      },
      "outputs": [
        {
          "data": {
            "text/plain": [
              "0.7262084592145015"
            ]
          },
          "execution_count": 42,
          "metadata": {},
          "output_type": "execute_result"
        }
      ],
      "source": [
        "from sklearn.metrics import f1_score\n",
        "\n",
        "f1_score(val_Y, val_pred, average='micro')"
      ]
    },
    {
      "cell_type": "code",
      "execution_count": null,
      "metadata": {
        "id": "sDoR2vp9Icyx"
      },
      "outputs": [],
      "source": []
    }
  ],
  "metadata": {
    "colab": {
      "provenance": []
    },
    "kernelspec": {
      "display_name": "Python 3.9.13 64-bit (microsoft store)",
      "language": "python",
      "name": "python3"
    },
    "language_info": {
      "name": "python",
      "version": "3.9.13"
    },
    "vscode": {
      "interpreter": {
        "hash": "a5a87ee616be0254e3f1af9223138e3faeac65b2c9d91bc22a9fc5a4a8bd8eb0"
      }
    }
  },
  "nbformat": 4,
  "nbformat_minor": 0
}
