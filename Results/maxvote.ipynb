{
 "cells": [
  {
   "cell_type": "code",
   "execution_count": 47,
   "metadata": {},
   "outputs": [],
   "source": [
    "import pandas as pd"
   ]
  },
  {
   "cell_type": "code",
   "execution_count": null,
   "metadata": {},
   "outputs": [],
   "source": []
  },
  {
   "cell_type": "code",
   "execution_count": 59,
   "metadata": {},
   "outputs": [],
   "source": [
    "# load Bertweet4500Preds, HateBERT2000Preds, BertBaseUncased3500Preds\n",
    "\n",
    "df_bertweet = pd.read_csv('Bertweet4500Preds.csv')\n",
    "\n",
    "df_hatebert = pd.read_csv('HateBERT4500Preds.csv')\n",
    "\n",
    "df_bertbase = pd.read_csv('BertBaseUncased3500Preds.csv')\n",
    "\n",
    "df_bertolid = pd.read_csv('bertbaseuncasedolid.csv')\n",
    "\n",
    "df_kung = pd.read_csv('kungfupred.csv')\n",
    "df_hat5 = pd.read_csv('Hat5RoBERTa4500Preds.csv')\n",
    "df_al = pd.read_csv('al.csv')\n",
    "df_al2 = pd.read_csv('al2.csv')\n",
    "df_alxl = pd.read_csv('alxl.csv')\n",
    "df_al2xl = pd.read_csv('al2xl.csv')\n",
    "\n"
   ]
  },
  {
   "cell_type": "code",
   "execution_count": 60,
   "metadata": {},
   "outputs": [],
   "source": [
    "bertweet_ls = df_bertweet['label'].tolist()\n",
    "hate_ls = df_hatebert['label'].tolist()\n",
    "base_ls = df_bertbase['label'].tolist()\n",
    "olid_ls = df_bertolid['label'].tolist()\n",
    "kung_ls = df_kung['label'].tolist()\n",
    "hat5_ls = df_hat5['label'].tolist()\n",
    "al_ls = df_al['label'].tolist()\n",
    "al2_ls = df_al2['label'].tolist()\n",
    "alxl_ls = df_alxl['label'].tolist()\n",
    "al2xl_ls = df_al2xl['label'].tolist()"
   ]
  },
  {
   "cell_type": "code",
   "execution_count": 175,
   "metadata": {},
   "outputs": [],
   "source": [
    "all_ls = [al2_ls]"
   ]
  },
  {
   "cell_type": "code",
   "execution_count": 176,
   "metadata": {},
   "outputs": [],
   "source": [
    "# For Chosen config run on test\n",
    "maxvote_ls = []\n",
    "for i in range(len(all_ls[0])):\n",
    "    ls_pred = [x[i] for x in all_ls]\n",
    "    # Find key in config_to_ls that has the same list of predictions\n",
    "    count_1 = ls_pred.count(1)\n",
    "    count_0 = ls_pred.count(0)\n",
    "    if count_1 >= count_0:\n",
    "        maxvote_ls.append((i, 1))\n",
    "    else:\n",
    "        maxvote_ls.append((i,0))"
   ]
  },
  {
   "cell_type": "code",
   "execution_count": 177,
   "metadata": {},
   "outputs": [],
   "source": [
    "# write to df\n",
    "df = pd.DataFrame(maxvote_ls, columns=['id', 'label'], index=None)"
   ]
  },
  {
   "cell_type": "code",
   "execution_count": 178,
   "metadata": {},
   "outputs": [],
   "source": [
    "df.to_csv('mv.csv', index=False)"
   ]
  }
 ],
 "metadata": {
  "kernelspec": {
   "display_name": "Python 3.9.13 64-bit (microsoft store)",
   "language": "python",
   "name": "python3"
  },
  "language_info": {
   "codemirror_mode": {
    "name": "ipython",
    "version": 3
   },
   "file_extension": ".py",
   "mimetype": "text/x-python",
   "name": "python",
   "nbconvert_exporter": "python",
   "pygments_lexer": "ipython3",
   "version": "3.9.13"
  },
  "orig_nbformat": 4,
  "vscode": {
   "interpreter": {
    "hash": "a5a87ee616be0254e3f1af9223138e3faeac65b2c9d91bc22a9fc5a4a8bd8eb0"
   }
  }
 },
 "nbformat": 4,
 "nbformat_minor": 2
}
